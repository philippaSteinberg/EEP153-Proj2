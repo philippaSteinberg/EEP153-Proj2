{
 "cells": [
  {
   "cell_type": "code",
   "execution_count": 1,
   "id": "296a16bc",
   "metadata": {},
   "outputs": [],
   "source": [
    "#%pip install -r requirements.txt\n",
    "apikey = \"bShyCnUYYfY6eP3qyUt6VGY1MqEQklrOeuwPUps5\""
   ]
  },
  {
   "cell_type": "code",
   "execution_count": 2,
   "id": "a435ab93",
   "metadata": {},
   "outputs": [],
   "source": [
    "from  scipy.optimize import linprog as lp\n",
    "import numpy as np\n",
    "import warnings\n",
    "import fooddatacentral as fdc"
   ]
  },
  {
   "cell_type": "code",
   "execution_count": 3,
   "id": "1cba9b50",
   "metadata": {
    "scrolled": true
   },
   "outputs": [
    {
     "name": "stdout",
     "output_type": "stream",
     "text": [
      "Key available for students@eep153.iam.gserviceaccount.com.\n"
     ]
    },
    {
     "data": {
      "text/html": [
       "<div>\n",
       "<style scoped>\n",
       "    .dataframe tbody tr th:only-of-type {\n",
       "        vertical-align: middle;\n",
       "    }\n",
       "\n",
       "    .dataframe tbody tr th {\n",
       "        vertical-align: top;\n",
       "    }\n",
       "\n",
       "    .dataframe thead th {\n",
       "        text-align: right;\n",
       "    }\n",
       "</style>\n",
       "<table border=\"1\" class=\"dataframe\">\n",
       "  <thead>\n",
       "    <tr style=\"text-align: right;\">\n",
       "      <th></th>\n",
       "      <th>Food</th>\n",
       "      <th>Quantity</th>\n",
       "      <th>Units</th>\n",
       "      <th>Price</th>\n",
       "      <th>Date</th>\n",
       "      <th>Location</th>\n",
       "      <th>FDC</th>\n",
       "    </tr>\n",
       "  </thead>\n",
       "  <tbody>\n",
       "    <tr>\n",
       "      <th>0</th>\n",
       "      <td>Bread</td>\n",
       "      <td>100.0</td>\n",
       "      <td>g</td>\n",
       "      <td>1.33</td>\n",
       "      <td>2023/02/28</td>\n",
       "      <td>MI Ranchito Bayside Market</td>\n",
       "      <td>2431121</td>\n",
       "    </tr>\n",
       "    <tr>\n",
       "      <th>1</th>\n",
       "      <td>Cheese</td>\n",
       "      <td>8.0</td>\n",
       "      <td>oz</td>\n",
       "      <td>3.49</td>\n",
       "      <td>2023/02/27</td>\n",
       "      <td>Trader Joe's</td>\n",
       "      <td>2383425</td>\n",
       "    </tr>\n",
       "    <tr>\n",
       "      <th>2</th>\n",
       "      <td>Ground Beef</td>\n",
       "      <td>16.0</td>\n",
       "      <td>oz</td>\n",
       "      <td>4.99</td>\n",
       "      <td>2023/02/27</td>\n",
       "      <td>Trader Joe's</td>\n",
       "      <td>1662368</td>\n",
       "    </tr>\n",
       "    <tr>\n",
       "      <th>3</th>\n",
       "      <td>cheese burger</td>\n",
       "      <td>1.0</td>\n",
       "      <td>cheese burger</td>\n",
       "      <td>3.01</td>\n",
       "      <td>2023/02/27</td>\n",
       "      <td>Trader Joe's</td>\n",
       "      <td>2022263</td>\n",
       "    </tr>\n",
       "    <tr>\n",
       "      <th>4</th>\n",
       "      <td>1% fat milk</td>\n",
       "      <td>1.0</td>\n",
       "      <td>gallon</td>\n",
       "      <td>4.39</td>\n",
       "      <td>2023/02/27</td>\n",
       "      <td>Trader Joe's</td>\n",
       "      <td>2340764</td>\n",
       "    </tr>\n",
       "    <tr>\n",
       "      <th>5</th>\n",
       "      <td>red apple</td>\n",
       "      <td>1.0</td>\n",
       "      <td>pound</td>\n",
       "      <td>0.99</td>\n",
       "      <td>2023/02/28</td>\n",
       "      <td>MI Ranchito Bayside Market</td>\n",
       "      <td>1750339</td>\n",
       "    </tr>\n",
       "    <tr>\n",
       "      <th>6</th>\n",
       "      <td>edamame</td>\n",
       "      <td>1.0</td>\n",
       "      <td>pound</td>\n",
       "      <td>1.89</td>\n",
       "      <td>2023/02/28</td>\n",
       "      <td>MI Ranchito Bayside Market</td>\n",
       "      <td>2384458</td>\n",
       "    </tr>\n",
       "    <tr>\n",
       "      <th>7</th>\n",
       "      <td>mini carrot</td>\n",
       "      <td>1.0</td>\n",
       "      <td>pound</td>\n",
       "      <td>1.49</td>\n",
       "      <td>2023/02/28</td>\n",
       "      <td>Target</td>\n",
       "      <td>2345173</td>\n",
       "    </tr>\n",
       "    <tr>\n",
       "      <th>8</th>\n",
       "      <td>mandarin</td>\n",
       "      <td>2.0</td>\n",
       "      <td>pound</td>\n",
       "      <td>3.99</td>\n",
       "      <td>2023/02/27</td>\n",
       "      <td>Trader Joe's</td>\n",
       "      <td>169105</td>\n",
       "    </tr>\n",
       "    <tr>\n",
       "      <th>9</th>\n",
       "      <td>cauliflower</td>\n",
       "      <td>2.0</td>\n",
       "      <td>pound</td>\n",
       "      <td>2.99</td>\n",
       "      <td>2023/02/27</td>\n",
       "      <td>Trader Joe's</td>\n",
       "      <td>2409200</td>\n",
       "    </tr>\n",
       "    <tr>\n",
       "      <th>10</th>\n",
       "      <td>celery stick</td>\n",
       "      <td>NaN</td>\n",
       "      <td></td>\n",
       "      <td>NaN</td>\n",
       "      <td></td>\n",
       "      <td></td>\n",
       "      <td>2345298</td>\n",
       "    </tr>\n",
       "    <tr>\n",
       "      <th>11</th>\n",
       "      <td>bosc pear</td>\n",
       "      <td>1.0</td>\n",
       "      <td>pound</td>\n",
       "      <td>1.49</td>\n",
       "      <td>2023/02/28</td>\n",
       "      <td>MI Ranchito Bayside Market</td>\n",
       "      <td>1662757</td>\n",
       "    </tr>\n",
       "    <tr>\n",
       "      <th>12</th>\n",
       "      <td>orange</td>\n",
       "      <td>4.0</td>\n",
       "      <td>pound</td>\n",
       "      <td>4.99</td>\n",
       "      <td>2023/02/27</td>\n",
       "      <td>Trader Joe's</td>\n",
       "      <td>1864680</td>\n",
       "    </tr>\n",
       "    <tr>\n",
       "      <th>13</th>\n",
       "      <td>jicama stick</td>\n",
       "      <td>NaN</td>\n",
       "      <td></td>\n",
       "      <td>NaN</td>\n",
       "      <td></td>\n",
       "      <td></td>\n",
       "      <td>2345307</td>\n",
       "    </tr>\n",
       "    <tr>\n",
       "      <th>14</th>\n",
       "      <td>spinach</td>\n",
       "      <td>NaN</td>\n",
       "      <td></td>\n",
       "      <td>NaN</td>\n",
       "      <td></td>\n",
       "      <td></td>\n",
       "      <td>721056</td>\n",
       "    </tr>\n",
       "    <tr>\n",
       "      <th>15</th>\n",
       "      <td>kiwi</td>\n",
       "      <td>1.0</td>\n",
       "      <td>pound</td>\n",
       "      <td>1.99</td>\n",
       "      <td>2023/02/28</td>\n",
       "      <td>MI Ranchito Bayside Market</td>\n",
       "      <td>1898469</td>\n",
       "    </tr>\n",
       "    <tr>\n",
       "      <th>16</th>\n",
       "      <td>bartlett pear</td>\n",
       "      <td>NaN</td>\n",
       "      <td></td>\n",
       "      <td>NaN</td>\n",
       "      <td></td>\n",
       "      <td></td>\n",
       "      <td>746773</td>\n",
       "    </tr>\n",
       "  </tbody>\n",
       "</table>\n",
       "</div>"
      ],
      "text/plain": [
       "              Food  Quantity           Units  Price        Date  \\\n",
       "0            Bread     100.0               g   1.33  2023/02/28   \n",
       "1           Cheese       8.0              oz   3.49  2023/02/27   \n",
       "2      Ground Beef      16.0              oz   4.99  2023/02/27   \n",
       "3   cheese burger        1.0  cheese burger    3.01  2023/02/27   \n",
       "4      1% fat milk       1.0          gallon   4.39  2023/02/27   \n",
       "5        red apple       1.0           pound   0.99  2023/02/28   \n",
       "6          edamame       1.0           pound   1.89  2023/02/28   \n",
       "7      mini carrot       1.0           pound   1.49  2023/02/28   \n",
       "8         mandarin       2.0           pound   3.99  2023/02/27   \n",
       "9      cauliflower       2.0           pound   2.99  2023/02/27   \n",
       "10    celery stick       NaN                    NaN               \n",
       "11      bosc pear        1.0           pound   1.49  2023/02/28   \n",
       "12          orange       4.0           pound   4.99  2023/02/27   \n",
       "13    jicama stick       NaN                    NaN               \n",
       "14        spinach        NaN                    NaN               \n",
       "15            kiwi       1.0           pound   1.99  2023/02/28   \n",
       "16   bartlett pear       NaN                    NaN               \n",
       "\n",
       "                      Location      FDC  \n",
       "0   MI Ranchito Bayside Market  2431121  \n",
       "1                 Trader Joe's  2383425  \n",
       "2                 Trader Joe's  1662368  \n",
       "3                Trader Joe's   2022263  \n",
       "4                 Trader Joe's  2340764  \n",
       "5   MI Ranchito Bayside Market  1750339  \n",
       "6   MI Ranchito Bayside Market  2384458  \n",
       "7                       Target  2345173  \n",
       "8                 Trader Joe's   169105  \n",
       "9                 Trader Joe's  2409200  \n",
       "10                              2345298  \n",
       "11  MI Ranchito Bayside Market  1662757  \n",
       "12                Trader Joe's  1864680  \n",
       "13                              2345307  \n",
       "14                               721056  \n",
       "15  MI Ranchito Bayside Market  1898469  \n",
       "16                               746773  "
      ]
     },
     "execution_count": 3,
     "metadata": {},
     "output_type": "execute_result"
    }
   ],
   "source": [
    "import pandas as pd\n",
    "from eep153_tools.sheets import read_sheets\n",
    "\n",
    "df = read_sheets(\"https://docs.google.com/spreadsheets/d/1Ml9KIH_HLl64Y8zTldoghUu5ZhTY7IXanN77itVAxRM/edit#gid=0\",\n",
    "                 sheet='prices')\n",
    "\n",
    "df = df.set_index('Food')\n",
    "df = df.reset_index()\n",
    "df"
   ]
  },
  {
   "cell_type": "code",
   "execution_count": 4,
   "id": "355f297a",
   "metadata": {},
   "outputs": [
    {
     "data": {
      "text/html": [
       "<div>\n",
       "<style scoped>\n",
       "    .dataframe tbody tr th:only-of-type {\n",
       "        vertical-align: middle;\n",
       "    }\n",
       "\n",
       "    .dataframe tbody tr th {\n",
       "        vertical-align: top;\n",
       "    }\n",
       "\n",
       "    .dataframe thead th {\n",
       "        text-align: right;\n",
       "    }\n",
       "</style>\n",
       "<table border=\"1\" class=\"dataframe\">\n",
       "  <thead>\n",
       "    <tr style=\"text-align: right;\">\n",
       "      <th></th>\n",
       "      <th>Bread</th>\n",
       "      <th>Cheese</th>\n",
       "      <th>Ground Beef</th>\n",
       "      <th>cheese burger</th>\n",
       "      <th>1% fat milk</th>\n",
       "      <th>red apple</th>\n",
       "      <th>edamame</th>\n",
       "      <th>mini carrot</th>\n",
       "      <th>mandarin</th>\n",
       "      <th>cauliflower</th>\n",
       "      <th>celery stick</th>\n",
       "      <th>bosc pear</th>\n",
       "      <th>orange</th>\n",
       "      <th>jicama stick</th>\n",
       "      <th>spinach</th>\n",
       "      <th>kiwi</th>\n",
       "      <th>bartlett pear</th>\n",
       "    </tr>\n",
       "  </thead>\n",
       "  <tbody>\n",
       "    <tr>\n",
       "      <th>Alanine</th>\n",
       "      <td>NaN</td>\n",
       "      <td>NaN</td>\n",
       "      <td>NaN</td>\n",
       "      <td>NaN</td>\n",
       "      <td>NaN</td>\n",
       "      <td>NaN</td>\n",
       "      <td>NaN</td>\n",
       "      <td>NaN</td>\n",
       "      <td>0.028</td>\n",
       "      <td>NaN</td>\n",
       "      <td>NaN</td>\n",
       "      <td>NaN</td>\n",
       "      <td>NaN</td>\n",
       "      <td>NaN</td>\n",
       "      <td>NaN</td>\n",
       "      <td>NaN</td>\n",
       "      <td>0.016</td>\n",
       "    </tr>\n",
       "    <tr>\n",
       "      <th>Alcohol, ethyl</th>\n",
       "      <td>NaN</td>\n",
       "      <td>NaN</td>\n",
       "      <td>NaN</td>\n",
       "      <td>NaN</td>\n",
       "      <td>0.00</td>\n",
       "      <td>NaN</td>\n",
       "      <td>NaN</td>\n",
       "      <td>0.00</td>\n",
       "      <td>0.000</td>\n",
       "      <td>NaN</td>\n",
       "      <td>0.00</td>\n",
       "      <td>NaN</td>\n",
       "      <td>NaN</td>\n",
       "      <td>0.00</td>\n",
       "      <td>NaN</td>\n",
       "      <td>NaN</td>\n",
       "      <td>NaN</td>\n",
       "    </tr>\n",
       "    <tr>\n",
       "      <th>Amino acids</th>\n",
       "      <td>NaN</td>\n",
       "      <td>NaN</td>\n",
       "      <td>NaN</td>\n",
       "      <td>NaN</td>\n",
       "      <td>NaN</td>\n",
       "      <td>NaN</td>\n",
       "      <td>NaN</td>\n",
       "      <td>NaN</td>\n",
       "      <td>0.000</td>\n",
       "      <td>NaN</td>\n",
       "      <td>NaN</td>\n",
       "      <td>NaN</td>\n",
       "      <td>NaN</td>\n",
       "      <td>NaN</td>\n",
       "      <td>NaN</td>\n",
       "      <td>NaN</td>\n",
       "      <td>0.000</td>\n",
       "    </tr>\n",
       "    <tr>\n",
       "      <th>Arginine</th>\n",
       "      <td>NaN</td>\n",
       "      <td>NaN</td>\n",
       "      <td>NaN</td>\n",
       "      <td>NaN</td>\n",
       "      <td>NaN</td>\n",
       "      <td>NaN</td>\n",
       "      <td>NaN</td>\n",
       "      <td>NaN</td>\n",
       "      <td>0.068</td>\n",
       "      <td>NaN</td>\n",
       "      <td>NaN</td>\n",
       "      <td>NaN</td>\n",
       "      <td>NaN</td>\n",
       "      <td>NaN</td>\n",
       "      <td>NaN</td>\n",
       "      <td>NaN</td>\n",
       "      <td>0.012</td>\n",
       "    </tr>\n",
       "    <tr>\n",
       "      <th>Ash</th>\n",
       "      <td>NaN</td>\n",
       "      <td>NaN</td>\n",
       "      <td>NaN</td>\n",
       "      <td>NaN</td>\n",
       "      <td>NaN</td>\n",
       "      <td>0.14830</td>\n",
       "      <td>NaN</td>\n",
       "      <td>NaN</td>\n",
       "      <td>0.380</td>\n",
       "      <td>NaN</td>\n",
       "      <td>NaN</td>\n",
       "      <td>NaN</td>\n",
       "      <td>NaN</td>\n",
       "      <td>NaN</td>\n",
       "      <td>NaN</td>\n",
       "      <td>NaN</td>\n",
       "      <td>0.300</td>\n",
       "    </tr>\n",
       "    <tr>\n",
       "      <th>...</th>\n",
       "      <td>...</td>\n",
       "      <td>...</td>\n",
       "      <td>...</td>\n",
       "      <td>...</td>\n",
       "      <td>...</td>\n",
       "      <td>...</td>\n",
       "      <td>...</td>\n",
       "      <td>...</td>\n",
       "      <td>...</td>\n",
       "      <td>...</td>\n",
       "      <td>...</td>\n",
       "      <td>...</td>\n",
       "      <td>...</td>\n",
       "      <td>...</td>\n",
       "      <td>...</td>\n",
       "      <td>...</td>\n",
       "      <td>...</td>\n",
       "    </tr>\n",
       "    <tr>\n",
       "      <th>Vitamin K (Dihydrophylloquinone)</th>\n",
       "      <td>NaN</td>\n",
       "      <td>NaN</td>\n",
       "      <td>NaN</td>\n",
       "      <td>NaN</td>\n",
       "      <td>NaN</td>\n",
       "      <td>NaN</td>\n",
       "      <td>NaN</td>\n",
       "      <td>NaN</td>\n",
       "      <td>0.000</td>\n",
       "      <td>NaN</td>\n",
       "      <td>NaN</td>\n",
       "      <td>NaN</td>\n",
       "      <td>NaN</td>\n",
       "      <td>NaN</td>\n",
       "      <td>NaN</td>\n",
       "      <td>NaN</td>\n",
       "      <td>0.000</td>\n",
       "    </tr>\n",
       "    <tr>\n",
       "      <th>Vitamin K (phylloquinone)</th>\n",
       "      <td>NaN</td>\n",
       "      <td>NaN</td>\n",
       "      <td>NaN</td>\n",
       "      <td>NaN</td>\n",
       "      <td>0.10</td>\n",
       "      <td>NaN</td>\n",
       "      <td>NaN</td>\n",
       "      <td>13.20</td>\n",
       "      <td>0.000</td>\n",
       "      <td>NaN</td>\n",
       "      <td>29.30</td>\n",
       "      <td>NaN</td>\n",
       "      <td>NaN</td>\n",
       "      <td>0.30</td>\n",
       "      <td>483.5</td>\n",
       "      <td>NaN</td>\n",
       "      <td>3.800</td>\n",
       "    </tr>\n",
       "    <tr>\n",
       "      <th>Vitamins and Other Components</th>\n",
       "      <td>NaN</td>\n",
       "      <td>NaN</td>\n",
       "      <td>NaN</td>\n",
       "      <td>NaN</td>\n",
       "      <td>NaN</td>\n",
       "      <td>0.00000</td>\n",
       "      <td>NaN</td>\n",
       "      <td>NaN</td>\n",
       "      <td>0.000</td>\n",
       "      <td>NaN</td>\n",
       "      <td>NaN</td>\n",
       "      <td>NaN</td>\n",
       "      <td>NaN</td>\n",
       "      <td>NaN</td>\n",
       "      <td>NaN</td>\n",
       "      <td>NaN</td>\n",
       "      <td>0.000</td>\n",
       "    </tr>\n",
       "    <tr>\n",
       "      <th>Water</th>\n",
       "      <td>NaN</td>\n",
       "      <td>NaN</td>\n",
       "      <td>NaN</td>\n",
       "      <td>NaN</td>\n",
       "      <td>89.70</td>\n",
       "      <td>84.67000</td>\n",
       "      <td>NaN</td>\n",
       "      <td>88.30</td>\n",
       "      <td>85.170</td>\n",
       "      <td>NaN</td>\n",
       "      <td>95.40</td>\n",
       "      <td>NaN</td>\n",
       "      <td>NaN</td>\n",
       "      <td>90.10</td>\n",
       "      <td>NaN</td>\n",
       "      <td>NaN</td>\n",
       "      <td>84.100</td>\n",
       "    </tr>\n",
       "    <tr>\n",
       "      <th>Zinc, Zn</th>\n",
       "      <td>NaN</td>\n",
       "      <td>NaN</td>\n",
       "      <td>NaN</td>\n",
       "      <td>NaN</td>\n",
       "      <td>0.43</td>\n",
       "      <td>0.01964</td>\n",
       "      <td>NaN</td>\n",
       "      <td>0.24</td>\n",
       "      <td>0.070</td>\n",
       "      <td>NaN</td>\n",
       "      <td>0.13</td>\n",
       "      <td>NaN</td>\n",
       "      <td>NaN</td>\n",
       "      <td>0.16</td>\n",
       "      <td>NaN</td>\n",
       "      <td>NaN</td>\n",
       "      <td>0.070</td>\n",
       "    </tr>\n",
       "  </tbody>\n",
       "</table>\n",
       "<p>118 rows × 17 columns</p>\n",
       "</div>"
      ],
      "text/plain": [
       "                                  Bread  Cheese  Ground Beef  cheese burger   \\\n",
       "Alanine                             NaN     NaN          NaN             NaN   \n",
       "Alcohol, ethyl                      NaN     NaN          NaN             NaN   \n",
       "Amino acids                         NaN     NaN          NaN             NaN   \n",
       "Arginine                            NaN     NaN          NaN             NaN   \n",
       "Ash                                 NaN     NaN          NaN             NaN   \n",
       "...                                 ...     ...          ...             ...   \n",
       "Vitamin K (Dihydrophylloquinone)    NaN     NaN          NaN             NaN   \n",
       "Vitamin K (phylloquinone)           NaN     NaN          NaN             NaN   \n",
       "Vitamins and Other Components       NaN     NaN          NaN             NaN   \n",
       "Water                               NaN     NaN          NaN             NaN   \n",
       "Zinc, Zn                            NaN     NaN          NaN             NaN   \n",
       "\n",
       "                                  1% fat milk  red apple  edamame  \\\n",
       "Alanine                                   NaN        NaN      NaN   \n",
       "Alcohol, ethyl                           0.00        NaN      NaN   \n",
       "Amino acids                               NaN        NaN      NaN   \n",
       "Arginine                                  NaN        NaN      NaN   \n",
       "Ash                                       NaN    0.14830      NaN   \n",
       "...                                       ...        ...      ...   \n",
       "Vitamin K (Dihydrophylloquinone)          NaN        NaN      NaN   \n",
       "Vitamin K (phylloquinone)                0.10        NaN      NaN   \n",
       "Vitamins and Other Components             NaN    0.00000      NaN   \n",
       "Water                                   89.70   84.67000      NaN   \n",
       "Zinc, Zn                                 0.43    0.01964      NaN   \n",
       "\n",
       "                                  mini carrot  mandarin  cauliflower  \\\n",
       "Alanine                                   NaN     0.028          NaN   \n",
       "Alcohol, ethyl                           0.00     0.000          NaN   \n",
       "Amino acids                               NaN     0.000          NaN   \n",
       "Arginine                                  NaN     0.068          NaN   \n",
       "Ash                                       NaN     0.380          NaN   \n",
       "...                                       ...       ...          ...   \n",
       "Vitamin K (Dihydrophylloquinone)          NaN     0.000          NaN   \n",
       "Vitamin K (phylloquinone)               13.20     0.000          NaN   \n",
       "Vitamins and Other Components             NaN     0.000          NaN   \n",
       "Water                                   88.30    85.170          NaN   \n",
       "Zinc, Zn                                 0.24     0.070          NaN   \n",
       "\n",
       "                                  celery stick  bosc pear   orange  \\\n",
       "Alanine                                    NaN         NaN     NaN   \n",
       "Alcohol, ethyl                            0.00         NaN     NaN   \n",
       "Amino acids                                NaN         NaN     NaN   \n",
       "Arginine                                   NaN         NaN     NaN   \n",
       "Ash                                        NaN         NaN     NaN   \n",
       "...                                        ...         ...     ...   \n",
       "Vitamin K (Dihydrophylloquinone)           NaN         NaN     NaN   \n",
       "Vitamin K (phylloquinone)                29.30         NaN     NaN   \n",
       "Vitamins and Other Components              NaN         NaN     NaN   \n",
       "Water                                    95.40         NaN     NaN   \n",
       "Zinc, Zn                                  0.13         NaN     NaN   \n",
       "\n",
       "                                  jicama stick  spinach   kiwi  bartlett pear  \n",
       "Alanine                                    NaN       NaN   NaN          0.016  \n",
       "Alcohol, ethyl                            0.00       NaN   NaN            NaN  \n",
       "Amino acids                                NaN       NaN   NaN          0.000  \n",
       "Arginine                                   NaN       NaN   NaN          0.012  \n",
       "Ash                                        NaN       NaN   NaN          0.300  \n",
       "...                                        ...       ...   ...            ...  \n",
       "Vitamin K (Dihydrophylloquinone)           NaN       NaN   NaN          0.000  \n",
       "Vitamin K (phylloquinone)                 0.30     483.5   NaN          3.800  \n",
       "Vitamins and Other Components              NaN       NaN   NaN          0.000  \n",
       "Water                                    90.10       NaN   NaN         84.100  \n",
       "Zinc, Zn                                  0.16       NaN   NaN          0.070  \n",
       "\n",
       "[118 rows x 17 columns]"
      ]
     },
     "execution_count": 4,
     "metadata": {},
     "output_type": "execute_result"
    }
   ],
   "source": [
    "D = {}\n",
    "count = 0\n",
    "for food in  df.Food.tolist():\n",
    "    try:\n",
    "        FDC = df.loc[df.Food==food,:].FDC[count]\n",
    "        count+=1\n",
    "        D[food] = fdc.nutrients(apikey,FDC).Quantity\n",
    "    except AttributeError: \n",
    "        warnings.warn(\"Couldn't find FDC Code %s for food %s.\" % (food,FDC))        \n",
    "\n",
    "FoodNutrients = pd.DataFrame(D,dtype=float)\n",
    "FoodNutrients"
   ]
  },
  {
   "cell_type": "code",
   "execution_count": 5,
   "id": "681b4eca",
   "metadata": {},
   "outputs": [],
   "source": [
    "# Exported Nutrient table (to not overwhelm FDA)"
   ]
  },
  {
   "cell_type": "code",
   "execution_count": 6,
   "id": "a81acd8a",
   "metadata": {},
   "outputs": [],
   "source": [
    "nutrients = pd.read_csv('/home/jovyan/FoodNutrients.csv')"
   ]
  },
  {
   "cell_type": "code",
   "execution_count": 7,
   "id": "cbae67b8",
   "metadata": {},
   "outputs": [
    {
     "data": {
      "text/html": [
       "<div>\n",
       "<style scoped>\n",
       "    .dataframe tbody tr th:only-of-type {\n",
       "        vertical-align: middle;\n",
       "    }\n",
       "\n",
       "    .dataframe tbody tr th {\n",
       "        vertical-align: top;\n",
       "    }\n",
       "\n",
       "    .dataframe thead th {\n",
       "        text-align: right;\n",
       "    }\n",
       "</style>\n",
       "<table border=\"1\" class=\"dataframe\">\n",
       "  <thead>\n",
       "    <tr style=\"text-align: right;\">\n",
       "      <th></th>\n",
       "      <th>Unnamed: 0</th>\n",
       "      <th>Bread</th>\n",
       "      <th>Cheese</th>\n",
       "      <th>Ground Beef</th>\n",
       "      <th>cheese burger</th>\n",
       "      <th>1% fat milk</th>\n",
       "      <th>red apple</th>\n",
       "      <th>edamame</th>\n",
       "      <th>mini carrot</th>\n",
       "      <th>mandarin</th>\n",
       "      <th>cauliflower</th>\n",
       "      <th>celery stick</th>\n",
       "      <th>bosc pear</th>\n",
       "      <th>orange</th>\n",
       "      <th>jicama stick</th>\n",
       "      <th>spinach</th>\n",
       "      <th>kiwi</th>\n",
       "      <th>bartlett peat</th>\n",
       "    </tr>\n",
       "  </thead>\n",
       "  <tbody>\n",
       "    <tr>\n",
       "      <th>0</th>\n",
       "      <td>Alanine</td>\n",
       "      <td>NaN</td>\n",
       "      <td>NaN</td>\n",
       "      <td>NaN</td>\n",
       "      <td>NaN</td>\n",
       "      <td>NaN</td>\n",
       "      <td>NaN</td>\n",
       "      <td>NaN</td>\n",
       "      <td>NaN</td>\n",
       "      <td>0.028</td>\n",
       "      <td>NaN</td>\n",
       "      <td>NaN</td>\n",
       "      <td>NaN</td>\n",
       "      <td>NaN</td>\n",
       "      <td>NaN</td>\n",
       "      <td>NaN</td>\n",
       "      <td>NaN</td>\n",
       "      <td>0.016</td>\n",
       "    </tr>\n",
       "    <tr>\n",
       "      <th>1</th>\n",
       "      <td>Alcohol, ethyl</td>\n",
       "      <td>NaN</td>\n",
       "      <td>NaN</td>\n",
       "      <td>NaN</td>\n",
       "      <td>NaN</td>\n",
       "      <td>0.00</td>\n",
       "      <td>NaN</td>\n",
       "      <td>NaN</td>\n",
       "      <td>0.00</td>\n",
       "      <td>0.000</td>\n",
       "      <td>NaN</td>\n",
       "      <td>0.00</td>\n",
       "      <td>NaN</td>\n",
       "      <td>NaN</td>\n",
       "      <td>0.00</td>\n",
       "      <td>NaN</td>\n",
       "      <td>NaN</td>\n",
       "      <td>NaN</td>\n",
       "    </tr>\n",
       "    <tr>\n",
       "      <th>2</th>\n",
       "      <td>Amino acids</td>\n",
       "      <td>NaN</td>\n",
       "      <td>NaN</td>\n",
       "      <td>NaN</td>\n",
       "      <td>NaN</td>\n",
       "      <td>NaN</td>\n",
       "      <td>NaN</td>\n",
       "      <td>NaN</td>\n",
       "      <td>NaN</td>\n",
       "      <td>0.000</td>\n",
       "      <td>NaN</td>\n",
       "      <td>NaN</td>\n",
       "      <td>NaN</td>\n",
       "      <td>NaN</td>\n",
       "      <td>NaN</td>\n",
       "      <td>NaN</td>\n",
       "      <td>NaN</td>\n",
       "      <td>0.000</td>\n",
       "    </tr>\n",
       "    <tr>\n",
       "      <th>3</th>\n",
       "      <td>Arginine</td>\n",
       "      <td>NaN</td>\n",
       "      <td>NaN</td>\n",
       "      <td>NaN</td>\n",
       "      <td>NaN</td>\n",
       "      <td>NaN</td>\n",
       "      <td>NaN</td>\n",
       "      <td>NaN</td>\n",
       "      <td>NaN</td>\n",
       "      <td>0.068</td>\n",
       "      <td>NaN</td>\n",
       "      <td>NaN</td>\n",
       "      <td>NaN</td>\n",
       "      <td>NaN</td>\n",
       "      <td>NaN</td>\n",
       "      <td>NaN</td>\n",
       "      <td>NaN</td>\n",
       "      <td>0.012</td>\n",
       "    </tr>\n",
       "    <tr>\n",
       "      <th>4</th>\n",
       "      <td>Ash</td>\n",
       "      <td>NaN</td>\n",
       "      <td>NaN</td>\n",
       "      <td>NaN</td>\n",
       "      <td>NaN</td>\n",
       "      <td>NaN</td>\n",
       "      <td>0.14830</td>\n",
       "      <td>NaN</td>\n",
       "      <td>NaN</td>\n",
       "      <td>0.380</td>\n",
       "      <td>NaN</td>\n",
       "      <td>NaN</td>\n",
       "      <td>NaN</td>\n",
       "      <td>NaN</td>\n",
       "      <td>NaN</td>\n",
       "      <td>NaN</td>\n",
       "      <td>NaN</td>\n",
       "      <td>0.300</td>\n",
       "    </tr>\n",
       "    <tr>\n",
       "      <th>...</th>\n",
       "      <td>...</td>\n",
       "      <td>...</td>\n",
       "      <td>...</td>\n",
       "      <td>...</td>\n",
       "      <td>...</td>\n",
       "      <td>...</td>\n",
       "      <td>...</td>\n",
       "      <td>...</td>\n",
       "      <td>...</td>\n",
       "      <td>...</td>\n",
       "      <td>...</td>\n",
       "      <td>...</td>\n",
       "      <td>...</td>\n",
       "      <td>...</td>\n",
       "      <td>...</td>\n",
       "      <td>...</td>\n",
       "      <td>...</td>\n",
       "      <td>...</td>\n",
       "    </tr>\n",
       "    <tr>\n",
       "      <th>113</th>\n",
       "      <td>Vitamin K (Dihydrophylloquinone)</td>\n",
       "      <td>NaN</td>\n",
       "      <td>NaN</td>\n",
       "      <td>NaN</td>\n",
       "      <td>NaN</td>\n",
       "      <td>NaN</td>\n",
       "      <td>NaN</td>\n",
       "      <td>NaN</td>\n",
       "      <td>NaN</td>\n",
       "      <td>0.000</td>\n",
       "      <td>NaN</td>\n",
       "      <td>NaN</td>\n",
       "      <td>NaN</td>\n",
       "      <td>NaN</td>\n",
       "      <td>NaN</td>\n",
       "      <td>NaN</td>\n",
       "      <td>NaN</td>\n",
       "      <td>0.000</td>\n",
       "    </tr>\n",
       "    <tr>\n",
       "      <th>114</th>\n",
       "      <td>Vitamin K (phylloquinone)</td>\n",
       "      <td>NaN</td>\n",
       "      <td>NaN</td>\n",
       "      <td>NaN</td>\n",
       "      <td>NaN</td>\n",
       "      <td>0.10</td>\n",
       "      <td>NaN</td>\n",
       "      <td>NaN</td>\n",
       "      <td>13.20</td>\n",
       "      <td>0.000</td>\n",
       "      <td>NaN</td>\n",
       "      <td>29.30</td>\n",
       "      <td>NaN</td>\n",
       "      <td>NaN</td>\n",
       "      <td>0.30</td>\n",
       "      <td>483.5</td>\n",
       "      <td>NaN</td>\n",
       "      <td>3.800</td>\n",
       "    </tr>\n",
       "    <tr>\n",
       "      <th>115</th>\n",
       "      <td>Vitamins and Other Components</td>\n",
       "      <td>NaN</td>\n",
       "      <td>NaN</td>\n",
       "      <td>NaN</td>\n",
       "      <td>NaN</td>\n",
       "      <td>NaN</td>\n",
       "      <td>0.00000</td>\n",
       "      <td>NaN</td>\n",
       "      <td>NaN</td>\n",
       "      <td>0.000</td>\n",
       "      <td>NaN</td>\n",
       "      <td>NaN</td>\n",
       "      <td>NaN</td>\n",
       "      <td>NaN</td>\n",
       "      <td>NaN</td>\n",
       "      <td>NaN</td>\n",
       "      <td>NaN</td>\n",
       "      <td>0.000</td>\n",
       "    </tr>\n",
       "    <tr>\n",
       "      <th>116</th>\n",
       "      <td>Water</td>\n",
       "      <td>NaN</td>\n",
       "      <td>NaN</td>\n",
       "      <td>NaN</td>\n",
       "      <td>NaN</td>\n",
       "      <td>89.70</td>\n",
       "      <td>84.67000</td>\n",
       "      <td>NaN</td>\n",
       "      <td>88.30</td>\n",
       "      <td>85.170</td>\n",
       "      <td>NaN</td>\n",
       "      <td>95.40</td>\n",
       "      <td>NaN</td>\n",
       "      <td>NaN</td>\n",
       "      <td>90.10</td>\n",
       "      <td>NaN</td>\n",
       "      <td>NaN</td>\n",
       "      <td>84.100</td>\n",
       "    </tr>\n",
       "    <tr>\n",
       "      <th>117</th>\n",
       "      <td>Zinc, Zn</td>\n",
       "      <td>NaN</td>\n",
       "      <td>NaN</td>\n",
       "      <td>NaN</td>\n",
       "      <td>NaN</td>\n",
       "      <td>0.43</td>\n",
       "      <td>0.01964</td>\n",
       "      <td>NaN</td>\n",
       "      <td>0.24</td>\n",
       "      <td>0.070</td>\n",
       "      <td>NaN</td>\n",
       "      <td>0.13</td>\n",
       "      <td>NaN</td>\n",
       "      <td>NaN</td>\n",
       "      <td>0.16</td>\n",
       "      <td>NaN</td>\n",
       "      <td>NaN</td>\n",
       "      <td>0.070</td>\n",
       "    </tr>\n",
       "  </tbody>\n",
       "</table>\n",
       "<p>118 rows × 18 columns</p>\n",
       "</div>"
      ],
      "text/plain": [
       "                           Unnamed: 0  Bread  Cheese  Ground Beef  \\\n",
       "0                             Alanine    NaN     NaN          NaN   \n",
       "1                      Alcohol, ethyl    NaN     NaN          NaN   \n",
       "2                         Amino acids    NaN     NaN          NaN   \n",
       "3                            Arginine    NaN     NaN          NaN   \n",
       "4                                 Ash    NaN     NaN          NaN   \n",
       "..                                ...    ...     ...          ...   \n",
       "113  Vitamin K (Dihydrophylloquinone)    NaN     NaN          NaN   \n",
       "114         Vitamin K (phylloquinone)    NaN     NaN          NaN   \n",
       "115     Vitamins and Other Components    NaN     NaN          NaN   \n",
       "116                             Water    NaN     NaN          NaN   \n",
       "117                          Zinc, Zn    NaN     NaN          NaN   \n",
       "\n",
       "     cheese burger   1% fat milk  red apple  edamame  mini carrot  mandarin  \\\n",
       "0               NaN          NaN        NaN      NaN          NaN     0.028   \n",
       "1               NaN         0.00        NaN      NaN         0.00     0.000   \n",
       "2               NaN          NaN        NaN      NaN          NaN     0.000   \n",
       "3               NaN          NaN        NaN      NaN          NaN     0.068   \n",
       "4               NaN          NaN    0.14830      NaN          NaN     0.380   \n",
       "..              ...          ...        ...      ...          ...       ...   \n",
       "113             NaN          NaN        NaN      NaN          NaN     0.000   \n",
       "114             NaN         0.10        NaN      NaN        13.20     0.000   \n",
       "115             NaN          NaN    0.00000      NaN          NaN     0.000   \n",
       "116             NaN        89.70   84.67000      NaN        88.30    85.170   \n",
       "117             NaN         0.43    0.01964      NaN         0.24     0.070   \n",
       "\n",
       "     cauliflower  celery stick  bosc pear   orange  jicama stick  spinach   \\\n",
       "0            NaN           NaN         NaN     NaN           NaN       NaN   \n",
       "1            NaN          0.00         NaN     NaN          0.00       NaN   \n",
       "2            NaN           NaN         NaN     NaN           NaN       NaN   \n",
       "3            NaN           NaN         NaN     NaN           NaN       NaN   \n",
       "4            NaN           NaN         NaN     NaN           NaN       NaN   \n",
       "..           ...           ...         ...     ...           ...       ...   \n",
       "113          NaN           NaN         NaN     NaN           NaN       NaN   \n",
       "114          NaN         29.30         NaN     NaN          0.30     483.5   \n",
       "115          NaN           NaN         NaN     NaN           NaN       NaN   \n",
       "116          NaN         95.40         NaN     NaN         90.10       NaN   \n",
       "117          NaN          0.13         NaN     NaN          0.16       NaN   \n",
       "\n",
       "     kiwi  bartlett peat  \n",
       "0     NaN          0.016  \n",
       "1     NaN            NaN  \n",
       "2     NaN          0.000  \n",
       "3     NaN          0.012  \n",
       "4     NaN          0.300  \n",
       "..    ...            ...  \n",
       "113   NaN          0.000  \n",
       "114   NaN          3.800  \n",
       "115   NaN          0.000  \n",
       "116   NaN         84.100  \n",
       "117   NaN          0.070  \n",
       "\n",
       "[118 rows x 18 columns]"
      ]
     },
     "execution_count": 7,
     "metadata": {},
     "output_type": "execute_result"
    }
   ],
   "source": [
    "nutrients"
   ]
  },
  {
   "cell_type": "code",
   "execution_count": 8,
   "id": "53efc7c9",
   "metadata": {},
   "outputs": [
    {
     "data": {
      "text/html": [
       "<div>\n",
       "<style scoped>\n",
       "    .dataframe tbody tr th:only-of-type {\n",
       "        vertical-align: middle;\n",
       "    }\n",
       "\n",
       "    .dataframe tbody tr th {\n",
       "        vertical-align: top;\n",
       "    }\n",
       "\n",
       "    .dataframe thead th {\n",
       "        text-align: right;\n",
       "    }\n",
       "</style>\n",
       "<table border=\"1\" class=\"dataframe\">\n",
       "  <thead>\n",
       "    <tr style=\"text-align: right;\">\n",
       "      <th></th>\n",
       "      <th>Bread</th>\n",
       "      <th>Cheese</th>\n",
       "      <th>Ground Beef</th>\n",
       "      <th>cheese burger</th>\n",
       "      <th>1% fat milk</th>\n",
       "      <th>red apple</th>\n",
       "      <th>edamame</th>\n",
       "      <th>mini carrot</th>\n",
       "      <th>mandarin</th>\n",
       "      <th>cauliflower</th>\n",
       "      <th>celery stick</th>\n",
       "      <th>bosc pear</th>\n",
       "      <th>orange</th>\n",
       "      <th>jicama stick</th>\n",
       "      <th>spinach</th>\n",
       "      <th>kiwi</th>\n",
       "      <th>bartlett peat</th>\n",
       "    </tr>\n",
       "    <tr>\n",
       "      <th>Unnamed: 0</th>\n",
       "      <th></th>\n",
       "      <th></th>\n",
       "      <th></th>\n",
       "      <th></th>\n",
       "      <th></th>\n",
       "      <th></th>\n",
       "      <th></th>\n",
       "      <th></th>\n",
       "      <th></th>\n",
       "      <th></th>\n",
       "      <th></th>\n",
       "      <th></th>\n",
       "      <th></th>\n",
       "      <th></th>\n",
       "      <th></th>\n",
       "      <th></th>\n",
       "      <th></th>\n",
       "    </tr>\n",
       "  </thead>\n",
       "  <tbody>\n",
       "    <tr>\n",
       "      <th>Alanine</th>\n",
       "      <td>NaN</td>\n",
       "      <td>NaN</td>\n",
       "      <td>NaN</td>\n",
       "      <td>NaN</td>\n",
       "      <td>NaN</td>\n",
       "      <td>NaN</td>\n",
       "      <td>NaN</td>\n",
       "      <td>NaN</td>\n",
       "      <td>0.028</td>\n",
       "      <td>NaN</td>\n",
       "      <td>NaN</td>\n",
       "      <td>NaN</td>\n",
       "      <td>NaN</td>\n",
       "      <td>NaN</td>\n",
       "      <td>NaN</td>\n",
       "      <td>NaN</td>\n",
       "      <td>0.016</td>\n",
       "    </tr>\n",
       "    <tr>\n",
       "      <th>Alcohol, ethyl</th>\n",
       "      <td>NaN</td>\n",
       "      <td>NaN</td>\n",
       "      <td>NaN</td>\n",
       "      <td>NaN</td>\n",
       "      <td>0.00</td>\n",
       "      <td>NaN</td>\n",
       "      <td>NaN</td>\n",
       "      <td>0.00</td>\n",
       "      <td>0.000</td>\n",
       "      <td>NaN</td>\n",
       "      <td>0.00</td>\n",
       "      <td>NaN</td>\n",
       "      <td>NaN</td>\n",
       "      <td>0.00</td>\n",
       "      <td>NaN</td>\n",
       "      <td>NaN</td>\n",
       "      <td>NaN</td>\n",
       "    </tr>\n",
       "    <tr>\n",
       "      <th>Amino acids</th>\n",
       "      <td>NaN</td>\n",
       "      <td>NaN</td>\n",
       "      <td>NaN</td>\n",
       "      <td>NaN</td>\n",
       "      <td>NaN</td>\n",
       "      <td>NaN</td>\n",
       "      <td>NaN</td>\n",
       "      <td>NaN</td>\n",
       "      <td>0.000</td>\n",
       "      <td>NaN</td>\n",
       "      <td>NaN</td>\n",
       "      <td>NaN</td>\n",
       "      <td>NaN</td>\n",
       "      <td>NaN</td>\n",
       "      <td>NaN</td>\n",
       "      <td>NaN</td>\n",
       "      <td>0.000</td>\n",
       "    </tr>\n",
       "    <tr>\n",
       "      <th>Arginine</th>\n",
       "      <td>NaN</td>\n",
       "      <td>NaN</td>\n",
       "      <td>NaN</td>\n",
       "      <td>NaN</td>\n",
       "      <td>NaN</td>\n",
       "      <td>NaN</td>\n",
       "      <td>NaN</td>\n",
       "      <td>NaN</td>\n",
       "      <td>0.068</td>\n",
       "      <td>NaN</td>\n",
       "      <td>NaN</td>\n",
       "      <td>NaN</td>\n",
       "      <td>NaN</td>\n",
       "      <td>NaN</td>\n",
       "      <td>NaN</td>\n",
       "      <td>NaN</td>\n",
       "      <td>0.012</td>\n",
       "    </tr>\n",
       "    <tr>\n",
       "      <th>Ash</th>\n",
       "      <td>NaN</td>\n",
       "      <td>NaN</td>\n",
       "      <td>NaN</td>\n",
       "      <td>NaN</td>\n",
       "      <td>NaN</td>\n",
       "      <td>0.14830</td>\n",
       "      <td>NaN</td>\n",
       "      <td>NaN</td>\n",
       "      <td>0.380</td>\n",
       "      <td>NaN</td>\n",
       "      <td>NaN</td>\n",
       "      <td>NaN</td>\n",
       "      <td>NaN</td>\n",
       "      <td>NaN</td>\n",
       "      <td>NaN</td>\n",
       "      <td>NaN</td>\n",
       "      <td>0.300</td>\n",
       "    </tr>\n",
       "    <tr>\n",
       "      <th>...</th>\n",
       "      <td>...</td>\n",
       "      <td>...</td>\n",
       "      <td>...</td>\n",
       "      <td>...</td>\n",
       "      <td>...</td>\n",
       "      <td>...</td>\n",
       "      <td>...</td>\n",
       "      <td>...</td>\n",
       "      <td>...</td>\n",
       "      <td>...</td>\n",
       "      <td>...</td>\n",
       "      <td>...</td>\n",
       "      <td>...</td>\n",
       "      <td>...</td>\n",
       "      <td>...</td>\n",
       "      <td>...</td>\n",
       "      <td>...</td>\n",
       "    </tr>\n",
       "    <tr>\n",
       "      <th>Vitamin K (Dihydrophylloquinone)</th>\n",
       "      <td>NaN</td>\n",
       "      <td>NaN</td>\n",
       "      <td>NaN</td>\n",
       "      <td>NaN</td>\n",
       "      <td>NaN</td>\n",
       "      <td>NaN</td>\n",
       "      <td>NaN</td>\n",
       "      <td>NaN</td>\n",
       "      <td>0.000</td>\n",
       "      <td>NaN</td>\n",
       "      <td>NaN</td>\n",
       "      <td>NaN</td>\n",
       "      <td>NaN</td>\n",
       "      <td>NaN</td>\n",
       "      <td>NaN</td>\n",
       "      <td>NaN</td>\n",
       "      <td>0.000</td>\n",
       "    </tr>\n",
       "    <tr>\n",
       "      <th>Vitamin K (phylloquinone)</th>\n",
       "      <td>NaN</td>\n",
       "      <td>NaN</td>\n",
       "      <td>NaN</td>\n",
       "      <td>NaN</td>\n",
       "      <td>0.10</td>\n",
       "      <td>NaN</td>\n",
       "      <td>NaN</td>\n",
       "      <td>13.20</td>\n",
       "      <td>0.000</td>\n",
       "      <td>NaN</td>\n",
       "      <td>29.30</td>\n",
       "      <td>NaN</td>\n",
       "      <td>NaN</td>\n",
       "      <td>0.30</td>\n",
       "      <td>483.5</td>\n",
       "      <td>NaN</td>\n",
       "      <td>3.800</td>\n",
       "    </tr>\n",
       "    <tr>\n",
       "      <th>Vitamins and Other Components</th>\n",
       "      <td>NaN</td>\n",
       "      <td>NaN</td>\n",
       "      <td>NaN</td>\n",
       "      <td>NaN</td>\n",
       "      <td>NaN</td>\n",
       "      <td>0.00000</td>\n",
       "      <td>NaN</td>\n",
       "      <td>NaN</td>\n",
       "      <td>0.000</td>\n",
       "      <td>NaN</td>\n",
       "      <td>NaN</td>\n",
       "      <td>NaN</td>\n",
       "      <td>NaN</td>\n",
       "      <td>NaN</td>\n",
       "      <td>NaN</td>\n",
       "      <td>NaN</td>\n",
       "      <td>0.000</td>\n",
       "    </tr>\n",
       "    <tr>\n",
       "      <th>Water</th>\n",
       "      <td>NaN</td>\n",
       "      <td>NaN</td>\n",
       "      <td>NaN</td>\n",
       "      <td>NaN</td>\n",
       "      <td>89.70</td>\n",
       "      <td>84.67000</td>\n",
       "      <td>NaN</td>\n",
       "      <td>88.30</td>\n",
       "      <td>85.170</td>\n",
       "      <td>NaN</td>\n",
       "      <td>95.40</td>\n",
       "      <td>NaN</td>\n",
       "      <td>NaN</td>\n",
       "      <td>90.10</td>\n",
       "      <td>NaN</td>\n",
       "      <td>NaN</td>\n",
       "      <td>84.100</td>\n",
       "    </tr>\n",
       "    <tr>\n",
       "      <th>Zinc, Zn</th>\n",
       "      <td>NaN</td>\n",
       "      <td>NaN</td>\n",
       "      <td>NaN</td>\n",
       "      <td>NaN</td>\n",
       "      <td>0.43</td>\n",
       "      <td>0.01964</td>\n",
       "      <td>NaN</td>\n",
       "      <td>0.24</td>\n",
       "      <td>0.070</td>\n",
       "      <td>NaN</td>\n",
       "      <td>0.13</td>\n",
       "      <td>NaN</td>\n",
       "      <td>NaN</td>\n",
       "      <td>0.16</td>\n",
       "      <td>NaN</td>\n",
       "      <td>NaN</td>\n",
       "      <td>0.070</td>\n",
       "    </tr>\n",
       "  </tbody>\n",
       "</table>\n",
       "<p>118 rows × 17 columns</p>\n",
       "</div>"
      ],
      "text/plain": [
       "                                  Bread  Cheese  Ground Beef  cheese burger   \\\n",
       "Unnamed: 0                                                                     \n",
       "Alanine                             NaN     NaN          NaN             NaN   \n",
       "Alcohol, ethyl                      NaN     NaN          NaN             NaN   \n",
       "Amino acids                         NaN     NaN          NaN             NaN   \n",
       "Arginine                            NaN     NaN          NaN             NaN   \n",
       "Ash                                 NaN     NaN          NaN             NaN   \n",
       "...                                 ...     ...          ...             ...   \n",
       "Vitamin K (Dihydrophylloquinone)    NaN     NaN          NaN             NaN   \n",
       "Vitamin K (phylloquinone)           NaN     NaN          NaN             NaN   \n",
       "Vitamins and Other Components       NaN     NaN          NaN             NaN   \n",
       "Water                               NaN     NaN          NaN             NaN   \n",
       "Zinc, Zn                            NaN     NaN          NaN             NaN   \n",
       "\n",
       "                                  1% fat milk  red apple  edamame  \\\n",
       "Unnamed: 0                                                          \n",
       "Alanine                                   NaN        NaN      NaN   \n",
       "Alcohol, ethyl                           0.00        NaN      NaN   \n",
       "Amino acids                               NaN        NaN      NaN   \n",
       "Arginine                                  NaN        NaN      NaN   \n",
       "Ash                                       NaN    0.14830      NaN   \n",
       "...                                       ...        ...      ...   \n",
       "Vitamin K (Dihydrophylloquinone)          NaN        NaN      NaN   \n",
       "Vitamin K (phylloquinone)                0.10        NaN      NaN   \n",
       "Vitamins and Other Components             NaN    0.00000      NaN   \n",
       "Water                                   89.70   84.67000      NaN   \n",
       "Zinc, Zn                                 0.43    0.01964      NaN   \n",
       "\n",
       "                                  mini carrot  mandarin  cauliflower  \\\n",
       "Unnamed: 0                                                             \n",
       "Alanine                                   NaN     0.028          NaN   \n",
       "Alcohol, ethyl                           0.00     0.000          NaN   \n",
       "Amino acids                               NaN     0.000          NaN   \n",
       "Arginine                                  NaN     0.068          NaN   \n",
       "Ash                                       NaN     0.380          NaN   \n",
       "...                                       ...       ...          ...   \n",
       "Vitamin K (Dihydrophylloquinone)          NaN     0.000          NaN   \n",
       "Vitamin K (phylloquinone)               13.20     0.000          NaN   \n",
       "Vitamins and Other Components             NaN     0.000          NaN   \n",
       "Water                                   88.30    85.170          NaN   \n",
       "Zinc, Zn                                 0.24     0.070          NaN   \n",
       "\n",
       "                                  celery stick  bosc pear   orange  \\\n",
       "Unnamed: 0                                                           \n",
       "Alanine                                    NaN         NaN     NaN   \n",
       "Alcohol, ethyl                            0.00         NaN     NaN   \n",
       "Amino acids                                NaN         NaN     NaN   \n",
       "Arginine                                   NaN         NaN     NaN   \n",
       "Ash                                        NaN         NaN     NaN   \n",
       "...                                        ...         ...     ...   \n",
       "Vitamin K (Dihydrophylloquinone)           NaN         NaN     NaN   \n",
       "Vitamin K (phylloquinone)                29.30         NaN     NaN   \n",
       "Vitamins and Other Components              NaN         NaN     NaN   \n",
       "Water                                    95.40         NaN     NaN   \n",
       "Zinc, Zn                                  0.13         NaN     NaN   \n",
       "\n",
       "                                  jicama stick  spinach   kiwi  bartlett peat  \n",
       "Unnamed: 0                                                                     \n",
       "Alanine                                    NaN       NaN   NaN          0.016  \n",
       "Alcohol, ethyl                            0.00       NaN   NaN            NaN  \n",
       "Amino acids                                NaN       NaN   NaN          0.000  \n",
       "Arginine                                   NaN       NaN   NaN          0.012  \n",
       "Ash                                        NaN       NaN   NaN          0.300  \n",
       "...                                        ...       ...   ...            ...  \n",
       "Vitamin K (Dihydrophylloquinone)           NaN       NaN   NaN          0.000  \n",
       "Vitamin K (phylloquinone)                 0.30     483.5   NaN          3.800  \n",
       "Vitamins and Other Components              NaN       NaN   NaN          0.000  \n",
       "Water                                    90.10       NaN   NaN         84.100  \n",
       "Zinc, Zn                                  0.16       NaN   NaN          0.070  \n",
       "\n",
       "[118 rows x 17 columns]"
      ]
     },
     "execution_count": 8,
     "metadata": {},
     "output_type": "execute_result"
    }
   ],
   "source": [
    "nutrients.set_index(\"Unnamed: 0\")"
   ]
  },
  {
   "cell_type": "code",
   "execution_count": 9,
   "id": "a1e2d9da",
   "metadata": {},
   "outputs": [
    {
     "name": "stderr",
     "output_type": "stream",
     "text": [
      "/opt/conda/lib/python3.9/site-packages/pandas/core/dtypes/cast.py:1990: UnitStrippedWarning: The unit of the quantity is stripped when downcasting to ndarray.\n",
      "  result[:] = values\n",
      "/tmp/ipykernel_129/260419409.py:4: SettingWithCopyWarning: \n",
      "A value is trying to be set on a copy of a slice from a DataFrame.\n",
      "Try using .loc[row_indexer,col_indexer] = value instead\n",
      "\n",
      "See the caveats in the documentation: https://pandas.pydata.org/pandas-docs/stable/user_guide/indexing.html#returning-a-view-versus-a-copy\n",
      "  df['FDC Quantity'] = df[['Quantity','Units']].T.apply(lambda x : fdc.units(x['Quantity'],x['Units']))\n",
      "/tmp/ipykernel_129/260419409.py:7: SettingWithCopyWarning: \n",
      "A value is trying to be set on a copy of a slice from a DataFrame.\n",
      "Try using .loc[row_indexer,col_indexer] = value instead\n",
      "\n",
      "See the caveats in the documentation: https://pandas.pydata.org/pandas-docs/stable/user_guide/indexing.html#returning-a-view-versus-a-copy\n",
      "  df['FDC Price'] = df['Price']/df['FDC Quantity']\n"
     ]
    }
   ],
   "source": [
    "# Convert food quantities to FDC units\n",
    "\n",
    "df = df.dropna(how='any') # Drop food with any missing data\n",
    "df['FDC Quantity'] = df[['Quantity','Units']].T.apply(lambda x : fdc.units(x['Quantity'],x['Units']))\n",
    "\n",
    "# Now may want to filter df by time or place--need to get a unique set of food names.\n",
    "df['FDC Price'] = df['Price']/df['FDC Quantity']\n",
    "\n",
    "# To use minimum price observed\n",
    "Prices = df.groupby('Food',sort=False)['FDC Price'].min()"
   ]
  },
  {
   "cell_type": "code",
   "execution_count": 10,
   "id": "9479b5bc",
   "metadata": {},
   "outputs": [],
   "source": [
    "# Min nutrient spreadsheet requirements"
   ]
  },
  {
   "cell_type": "code",
   "execution_count": 11,
   "id": "0396abbd",
   "metadata": {},
   "outputs": [
    {
     "name": "stdout",
     "output_type": "stream",
     "text": [
      "Key available for students@eep153.iam.gserviceaccount.com.\n"
     ]
    }
   ],
   "source": [
    "RDIs = read_sheets('https://docs.google.com/spreadsheets/d/1y95IsQ4HKspPW3HHDtH7QMtlDA66IUsCHJLutVL-MMc/')"
   ]
  },
  {
   "cell_type": "code",
   "execution_count": 12,
   "id": "ea92ba71",
   "metadata": {},
   "outputs": [
    {
     "data": {
      "text/html": [
       "<div>\n",
       "<style scoped>\n",
       "    .dataframe tbody tr th:only-of-type {\n",
       "        vertical-align: middle;\n",
       "    }\n",
       "\n",
       "    .dataframe tbody tr th {\n",
       "        vertical-align: top;\n",
       "    }\n",
       "\n",
       "    .dataframe thead th {\n",
       "        text-align: right;\n",
       "    }\n",
       "</style>\n",
       "<table border=\"1\" class=\"dataframe\">\n",
       "  <thead>\n",
       "    <tr style=\"text-align: right;\">\n",
       "      <th></th>\n",
       "      <th>C 1-3</th>\n",
       "      <th>F 4-8</th>\n",
       "      <th>M 4-8</th>\n",
       "      <th>F 9-13</th>\n",
       "      <th>M 9-13</th>\n",
       "      <th>F 14-18</th>\n",
       "      <th>M 14-18</th>\n",
       "      <th>F 19-30</th>\n",
       "      <th>M 19-30</th>\n",
       "      <th>F 31-50</th>\n",
       "      <th>M 31-50</th>\n",
       "      <th>F 51+</th>\n",
       "      <th>M 51+</th>\n",
       "    </tr>\n",
       "    <tr>\n",
       "      <th>Nutrition</th>\n",
       "      <th></th>\n",
       "      <th></th>\n",
       "      <th></th>\n",
       "      <th></th>\n",
       "      <th></th>\n",
       "      <th></th>\n",
       "      <th></th>\n",
       "      <th></th>\n",
       "      <th></th>\n",
       "      <th></th>\n",
       "      <th></th>\n",
       "      <th></th>\n",
       "      <th></th>\n",
       "    </tr>\n",
       "  </thead>\n",
       "  <tbody>\n",
       "    <tr>\n",
       "      <th>Energy</th>\n",
       "      <td>1000.0</td>\n",
       "      <td>1200.0</td>\n",
       "      <td>1400.0</td>\n",
       "      <td>1600.0</td>\n",
       "      <td>1800.0</td>\n",
       "      <td>1800.0</td>\n",
       "      <td>2200.0</td>\n",
       "      <td>2000.0</td>\n",
       "      <td>2400.0</td>\n",
       "      <td>1800.0</td>\n",
       "      <td>2200.0</td>\n",
       "      <td>1600.0</td>\n",
       "      <td>2000.0</td>\n",
       "    </tr>\n",
       "    <tr>\n",
       "      <th>Protein</th>\n",
       "      <td>13.0</td>\n",
       "      <td>19.0</td>\n",
       "      <td>19.0</td>\n",
       "      <td>34.0</td>\n",
       "      <td>34.0</td>\n",
       "      <td>46.0</td>\n",
       "      <td>52.0</td>\n",
       "      <td>46.0</td>\n",
       "      <td>56.0</td>\n",
       "      <td>46.0</td>\n",
       "      <td>56.0</td>\n",
       "      <td>46.0</td>\n",
       "      <td>56.0</td>\n",
       "    </tr>\n",
       "    <tr>\n",
       "      <th>Fiber, total dietary</th>\n",
       "      <td>14.0</td>\n",
       "      <td>16.8</td>\n",
       "      <td>19.6</td>\n",
       "      <td>22.4</td>\n",
       "      <td>25.2</td>\n",
       "      <td>25.2</td>\n",
       "      <td>30.8</td>\n",
       "      <td>28.0</td>\n",
       "      <td>33.6</td>\n",
       "      <td>25.2</td>\n",
       "      <td>30.8</td>\n",
       "      <td>22.4</td>\n",
       "      <td>28.0</td>\n",
       "    </tr>\n",
       "    <tr>\n",
       "      <th>Folate, DFE</th>\n",
       "      <td>150.0</td>\n",
       "      <td>200.0</td>\n",
       "      <td>200.0</td>\n",
       "      <td>300.0</td>\n",
       "      <td>300.0</td>\n",
       "      <td>400.0</td>\n",
       "      <td>400.0</td>\n",
       "      <td>400.0</td>\n",
       "      <td>400.0</td>\n",
       "      <td>400.0</td>\n",
       "      <td>400.0</td>\n",
       "      <td>400.0</td>\n",
       "      <td>400.0</td>\n",
       "    </tr>\n",
       "    <tr>\n",
       "      <th>Calcium, Ca</th>\n",
       "      <td>700.0</td>\n",
       "      <td>1000.0</td>\n",
       "      <td>1000.0</td>\n",
       "      <td>1300.0</td>\n",
       "      <td>1300.0</td>\n",
       "      <td>1300.0</td>\n",
       "      <td>1300.0</td>\n",
       "      <td>1000.0</td>\n",
       "      <td>1000.0</td>\n",
       "      <td>1000.0</td>\n",
       "      <td>1000.0</td>\n",
       "      <td>1200.0</td>\n",
       "      <td>1000.0</td>\n",
       "    </tr>\n",
       "    <tr>\n",
       "      <th>Carbohydrate, by difference</th>\n",
       "      <td>130.0</td>\n",
       "      <td>130.0</td>\n",
       "      <td>130.0</td>\n",
       "      <td>130.0</td>\n",
       "      <td>130.0</td>\n",
       "      <td>130.0</td>\n",
       "      <td>130.0</td>\n",
       "      <td>130.0</td>\n",
       "      <td>130.0</td>\n",
       "      <td>130.0</td>\n",
       "      <td>130.0</td>\n",
       "      <td>130.0</td>\n",
       "      <td>130.0</td>\n",
       "    </tr>\n",
       "    <tr>\n",
       "      <th>Iron, Fe</th>\n",
       "      <td>7.0</td>\n",
       "      <td>10.0</td>\n",
       "      <td>10.0</td>\n",
       "      <td>8.0</td>\n",
       "      <td>8.0</td>\n",
       "      <td>15.0</td>\n",
       "      <td>11.0</td>\n",
       "      <td>18.0</td>\n",
       "      <td>8.0</td>\n",
       "      <td>18.0</td>\n",
       "      <td>8.0</td>\n",
       "      <td>8.0</td>\n",
       "      <td>8.0</td>\n",
       "    </tr>\n",
       "    <tr>\n",
       "      <th>Magnesium, Mg</th>\n",
       "      <td>80.0</td>\n",
       "      <td>130.0</td>\n",
       "      <td>130.0</td>\n",
       "      <td>240.0</td>\n",
       "      <td>240.0</td>\n",
       "      <td>360.0</td>\n",
       "      <td>410.0</td>\n",
       "      <td>310.0</td>\n",
       "      <td>400.0</td>\n",
       "      <td>320.0</td>\n",
       "      <td>420.0</td>\n",
       "      <td>320.0</td>\n",
       "      <td>420.0</td>\n",
       "    </tr>\n",
       "    <tr>\n",
       "      <th>Niacin</th>\n",
       "      <td>6.0</td>\n",
       "      <td>8.0</td>\n",
       "      <td>8.0</td>\n",
       "      <td>12.0</td>\n",
       "      <td>12.0</td>\n",
       "      <td>14.0</td>\n",
       "      <td>16.0</td>\n",
       "      <td>14.0</td>\n",
       "      <td>16.0</td>\n",
       "      <td>14.0</td>\n",
       "      <td>16.0</td>\n",
       "      <td>14.0</td>\n",
       "      <td>16.0</td>\n",
       "    </tr>\n",
       "    <tr>\n",
       "      <th>Phosphorus, P</th>\n",
       "      <td>460.0</td>\n",
       "      <td>500.0</td>\n",
       "      <td>500.0</td>\n",
       "      <td>1250.0</td>\n",
       "      <td>1250.0</td>\n",
       "      <td>1250.0</td>\n",
       "      <td>1250.0</td>\n",
       "      <td>700.0</td>\n",
       "      <td>700.0</td>\n",
       "      <td>700.0</td>\n",
       "      <td>700.0</td>\n",
       "      <td>700.0</td>\n",
       "      <td>700.0</td>\n",
       "    </tr>\n",
       "    <tr>\n",
       "      <th>Potassium, K</th>\n",
       "      <td>3000.0</td>\n",
       "      <td>3800.0</td>\n",
       "      <td>3800.0</td>\n",
       "      <td>4500.0</td>\n",
       "      <td>4500.0</td>\n",
       "      <td>4700.0</td>\n",
       "      <td>4700.0</td>\n",
       "      <td>4700.0</td>\n",
       "      <td>4700.0</td>\n",
       "      <td>4700.0</td>\n",
       "      <td>4700.0</td>\n",
       "      <td>4700.0</td>\n",
       "      <td>4700.0</td>\n",
       "    </tr>\n",
       "    <tr>\n",
       "      <th>Riboflavin</th>\n",
       "      <td>0.5</td>\n",
       "      <td>0.6</td>\n",
       "      <td>0.6</td>\n",
       "      <td>0.9</td>\n",
       "      <td>0.9</td>\n",
       "      <td>1.0</td>\n",
       "      <td>1.3</td>\n",
       "      <td>1.1</td>\n",
       "      <td>1.3</td>\n",
       "      <td>1.1</td>\n",
       "      <td>1.3</td>\n",
       "      <td>1.1</td>\n",
       "      <td>1.3</td>\n",
       "    </tr>\n",
       "    <tr>\n",
       "      <th>Thiamin</th>\n",
       "      <td>0.5</td>\n",
       "      <td>0.6</td>\n",
       "      <td>0.6</td>\n",
       "      <td>0.9</td>\n",
       "      <td>0.9</td>\n",
       "      <td>1.0</td>\n",
       "      <td>1.2</td>\n",
       "      <td>1.1</td>\n",
       "      <td>1.2</td>\n",
       "      <td>1.1</td>\n",
       "      <td>1.2</td>\n",
       "      <td>1.1</td>\n",
       "      <td>1.2</td>\n",
       "    </tr>\n",
       "    <tr>\n",
       "      <th>Vitamin A, RAE</th>\n",
       "      <td>300.0</td>\n",
       "      <td>400.0</td>\n",
       "      <td>400.0</td>\n",
       "      <td>600.0</td>\n",
       "      <td>600.0</td>\n",
       "      <td>700.0</td>\n",
       "      <td>900.0</td>\n",
       "      <td>700.0</td>\n",
       "      <td>900.0</td>\n",
       "      <td>700.0</td>\n",
       "      <td>900.0</td>\n",
       "      <td>700.0</td>\n",
       "      <td>900.0</td>\n",
       "    </tr>\n",
       "    <tr>\n",
       "      <th>Vitamin B-12</th>\n",
       "      <td>0.9</td>\n",
       "      <td>1.2</td>\n",
       "      <td>1.2</td>\n",
       "      <td>1.8</td>\n",
       "      <td>1.8</td>\n",
       "      <td>2.4</td>\n",
       "      <td>2.4</td>\n",
       "      <td>2.4</td>\n",
       "      <td>2.4</td>\n",
       "      <td>2.4</td>\n",
       "      <td>2.4</td>\n",
       "      <td>2.4</td>\n",
       "      <td>2.4</td>\n",
       "    </tr>\n",
       "    <tr>\n",
       "      <th>Vitamin B-6</th>\n",
       "      <td>0.5</td>\n",
       "      <td>0.6</td>\n",
       "      <td>0.6</td>\n",
       "      <td>1.0</td>\n",
       "      <td>1.0</td>\n",
       "      <td>1.2</td>\n",
       "      <td>1.3</td>\n",
       "      <td>1.3</td>\n",
       "      <td>1.3</td>\n",
       "      <td>1.3</td>\n",
       "      <td>1.3</td>\n",
       "      <td>1.5</td>\n",
       "      <td>1.7</td>\n",
       "    </tr>\n",
       "    <tr>\n",
       "      <th>Vitamin C, total ascorbic acid</th>\n",
       "      <td>15.0</td>\n",
       "      <td>25.0</td>\n",
       "      <td>25.0</td>\n",
       "      <td>45.0</td>\n",
       "      <td>45.0</td>\n",
       "      <td>65.0</td>\n",
       "      <td>75.0</td>\n",
       "      <td>75.0</td>\n",
       "      <td>90.0</td>\n",
       "      <td>75.0</td>\n",
       "      <td>90.0</td>\n",
       "      <td>75.0</td>\n",
       "      <td>90.0</td>\n",
       "    </tr>\n",
       "    <tr>\n",
       "      <th>Vitamin E (alpha-tocopherol)</th>\n",
       "      <td>6.0</td>\n",
       "      <td>7.0</td>\n",
       "      <td>7.0</td>\n",
       "      <td>11.0</td>\n",
       "      <td>11.0</td>\n",
       "      <td>15.0</td>\n",
       "      <td>15.0</td>\n",
       "      <td>15.0</td>\n",
       "      <td>15.0</td>\n",
       "      <td>15.0</td>\n",
       "      <td>15.0</td>\n",
       "      <td>15.0</td>\n",
       "      <td>15.0</td>\n",
       "    </tr>\n",
       "    <tr>\n",
       "      <th>Vitamin K (phylloquinone)</th>\n",
       "      <td>30.0</td>\n",
       "      <td>55.0</td>\n",
       "      <td>55.0</td>\n",
       "      <td>60.0</td>\n",
       "      <td>60.0</td>\n",
       "      <td>75.0</td>\n",
       "      <td>75.0</td>\n",
       "      <td>90.0</td>\n",
       "      <td>120.0</td>\n",
       "      <td>90.0</td>\n",
       "      <td>120.0</td>\n",
       "      <td>90.0</td>\n",
       "      <td>120.0</td>\n",
       "    </tr>\n",
       "    <tr>\n",
       "      <th>Zinc, Zn</th>\n",
       "      <td>3.0</td>\n",
       "      <td>5.0</td>\n",
       "      <td>5.0</td>\n",
       "      <td>8.0</td>\n",
       "      <td>8.0</td>\n",
       "      <td>9.0</td>\n",
       "      <td>11.0</td>\n",
       "      <td>8.0</td>\n",
       "      <td>11.0</td>\n",
       "      <td>8.0</td>\n",
       "      <td>11.0</td>\n",
       "      <td>8.0</td>\n",
       "      <td>11.0</td>\n",
       "    </tr>\n",
       "  </tbody>\n",
       "</table>\n",
       "</div>"
      ],
      "text/plain": [
       "                                 C 1-3   F 4-8   M 4-8  F 9-13  M 9-13  \\\n",
       "Nutrition                                                                \n",
       "Energy                          1000.0  1200.0  1400.0  1600.0  1800.0   \n",
       "Protein                           13.0    19.0    19.0    34.0    34.0   \n",
       "Fiber, total dietary              14.0    16.8    19.6    22.4    25.2   \n",
       "Folate, DFE                      150.0   200.0   200.0   300.0   300.0   \n",
       "Calcium, Ca                      700.0  1000.0  1000.0  1300.0  1300.0   \n",
       "Carbohydrate, by difference      130.0   130.0   130.0   130.0   130.0   \n",
       "Iron, Fe                           7.0    10.0    10.0     8.0     8.0   \n",
       "Magnesium, Mg                     80.0   130.0   130.0   240.0   240.0   \n",
       "Niacin                             6.0     8.0     8.0    12.0    12.0   \n",
       "Phosphorus, P                    460.0   500.0   500.0  1250.0  1250.0   \n",
       "Potassium, K                    3000.0  3800.0  3800.0  4500.0  4500.0   \n",
       "Riboflavin                         0.5     0.6     0.6     0.9     0.9   \n",
       "Thiamin                            0.5     0.6     0.6     0.9     0.9   \n",
       "Vitamin A, RAE                   300.0   400.0   400.0   600.0   600.0   \n",
       "Vitamin B-12                       0.9     1.2     1.2     1.8     1.8   \n",
       "Vitamin B-6                        0.5     0.6     0.6     1.0     1.0   \n",
       "Vitamin C, total ascorbic acid    15.0    25.0    25.0    45.0    45.0   \n",
       "Vitamin E (alpha-tocopherol)       6.0     7.0     7.0    11.0    11.0   \n",
       "Vitamin K (phylloquinone)         30.0    55.0    55.0    60.0    60.0   \n",
       "Zinc, Zn                           3.0     5.0     5.0     8.0     8.0   \n",
       "\n",
       "                                F 14-18  M 14-18  F 19-30  M 19-30  F 31-50  \\\n",
       "Nutrition                                                                     \n",
       "Energy                           1800.0   2200.0   2000.0   2400.0   1800.0   \n",
       "Protein                            46.0     52.0     46.0     56.0     46.0   \n",
       "Fiber, total dietary               25.2     30.8     28.0     33.6     25.2   \n",
       "Folate, DFE                       400.0    400.0    400.0    400.0    400.0   \n",
       "Calcium, Ca                      1300.0   1300.0   1000.0   1000.0   1000.0   \n",
       "Carbohydrate, by difference       130.0    130.0    130.0    130.0    130.0   \n",
       "Iron, Fe                           15.0     11.0     18.0      8.0     18.0   \n",
       "Magnesium, Mg                     360.0    410.0    310.0    400.0    320.0   \n",
       "Niacin                             14.0     16.0     14.0     16.0     14.0   \n",
       "Phosphorus, P                    1250.0   1250.0    700.0    700.0    700.0   \n",
       "Potassium, K                     4700.0   4700.0   4700.0   4700.0   4700.0   \n",
       "Riboflavin                          1.0      1.3      1.1      1.3      1.1   \n",
       "Thiamin                             1.0      1.2      1.1      1.2      1.1   \n",
       "Vitamin A, RAE                    700.0    900.0    700.0    900.0    700.0   \n",
       "Vitamin B-12                        2.4      2.4      2.4      2.4      2.4   \n",
       "Vitamin B-6                         1.2      1.3      1.3      1.3      1.3   \n",
       "Vitamin C, total ascorbic acid     65.0     75.0     75.0     90.0     75.0   \n",
       "Vitamin E (alpha-tocopherol)       15.0     15.0     15.0     15.0     15.0   \n",
       "Vitamin K (phylloquinone)          75.0     75.0     90.0    120.0     90.0   \n",
       "Zinc, Zn                            9.0     11.0      8.0     11.0      8.0   \n",
       "\n",
       "                                M 31-50   F 51+   M 51+  \n",
       "Nutrition                                                \n",
       "Energy                           2200.0  1600.0  2000.0  \n",
       "Protein                            56.0    46.0    56.0  \n",
       "Fiber, total dietary               30.8    22.4    28.0  \n",
       "Folate, DFE                       400.0   400.0   400.0  \n",
       "Calcium, Ca                      1000.0  1200.0  1000.0  \n",
       "Carbohydrate, by difference       130.0   130.0   130.0  \n",
       "Iron, Fe                            8.0     8.0     8.0  \n",
       "Magnesium, Mg                     420.0   320.0   420.0  \n",
       "Niacin                             16.0    14.0    16.0  \n",
       "Phosphorus, P                     700.0   700.0   700.0  \n",
       "Potassium, K                     4700.0  4700.0  4700.0  \n",
       "Riboflavin                          1.3     1.1     1.3  \n",
       "Thiamin                             1.2     1.1     1.2  \n",
       "Vitamin A, RAE                    900.0   700.0   900.0  \n",
       "Vitamin B-12                        2.4     2.4     2.4  \n",
       "Vitamin B-6                         1.3     1.5     1.7  \n",
       "Vitamin C, total ascorbic acid     90.0    75.0    90.0  \n",
       "Vitamin E (alpha-tocopherol)       15.0    15.0    15.0  \n",
       "Vitamin K (phylloquinone)         120.0    90.0   120.0  \n",
       "Zinc, Zn                           11.0     8.0    11.0  "
      ]
     },
     "execution_count": 12,
     "metadata": {},
     "output_type": "execute_result"
    }
   ],
   "source": [
    "bmin = RDIs['diet_minimums'].set_index('Nutrition')\n",
    "# Drop string describing source\n",
    "bmin = bmin.drop('Source',axis=1)\n",
    "bmin"
   ]
  },
  {
   "cell_type": "code",
   "execution_count": 13,
   "id": "641e4b1e",
   "metadata": {},
   "outputs": [
    {
     "data": {
      "text/html": [
       "<div>\n",
       "<style scoped>\n",
       "    .dataframe tbody tr th:only-of-type {\n",
       "        vertical-align: middle;\n",
       "    }\n",
       "\n",
       "    .dataframe tbody tr th {\n",
       "        vertical-align: top;\n",
       "    }\n",
       "\n",
       "    .dataframe thead th {\n",
       "        text-align: right;\n",
       "    }\n",
       "</style>\n",
       "<table border=\"1\" class=\"dataframe\">\n",
       "  <thead>\n",
       "    <tr style=\"text-align: right;\">\n",
       "      <th></th>\n",
       "      <th>C 1-3</th>\n",
       "      <th>F 4-8</th>\n",
       "      <th>M 4-8</th>\n",
       "      <th>F 9-13</th>\n",
       "      <th>M 9-13</th>\n",
       "      <th>F 14-18</th>\n",
       "      <th>M 14-18</th>\n",
       "      <th>F 19-30</th>\n",
       "      <th>M 19-30</th>\n",
       "      <th>F 31-50</th>\n",
       "      <th>M 31-50</th>\n",
       "      <th>F 51+</th>\n",
       "      <th>M 51+</th>\n",
       "    </tr>\n",
       "    <tr>\n",
       "      <th>Nutrition</th>\n",
       "      <th></th>\n",
       "      <th></th>\n",
       "      <th></th>\n",
       "      <th></th>\n",
       "      <th></th>\n",
       "      <th></th>\n",
       "      <th></th>\n",
       "      <th></th>\n",
       "      <th></th>\n",
       "      <th></th>\n",
       "      <th></th>\n",
       "      <th></th>\n",
       "      <th></th>\n",
       "    </tr>\n",
       "  </thead>\n",
       "  <tbody>\n",
       "    <tr>\n",
       "      <th>Sodium, Na</th>\n",
       "      <td>1500</td>\n",
       "      <td>1900</td>\n",
       "      <td>1900</td>\n",
       "      <td>2200</td>\n",
       "      <td>2200</td>\n",
       "      <td>2300</td>\n",
       "      <td>2300</td>\n",
       "      <td>2300</td>\n",
       "      <td>2300</td>\n",
       "      <td>2300</td>\n",
       "      <td>2300</td>\n",
       "      <td>2300</td>\n",
       "      <td>2300</td>\n",
       "    </tr>\n",
       "    <tr>\n",
       "      <th>Energy</th>\n",
       "      <td>2500</td>\n",
       "      <td>2500</td>\n",
       "      <td>2500</td>\n",
       "      <td>2800</td>\n",
       "      <td>3000</td>\n",
       "      <td>3100</td>\n",
       "      <td>3100</td>\n",
       "      <td>3100</td>\n",
       "      <td>3100</td>\n",
       "      <td>3100</td>\n",
       "      <td>3100</td>\n",
       "      <td>3100</td>\n",
       "      <td>3100</td>\n",
       "    </tr>\n",
       "  </tbody>\n",
       "</table>\n",
       "</div>"
      ],
      "text/plain": [
       "            C 1-3  F 4-8  M 4-8  F 9-13  M 9-13  F 14-18  M 14-18  F 19-30  \\\n",
       "Nutrition                                                                    \n",
       "Sodium, Na   1500   1900   1900    2200    2200     2300     2300     2300   \n",
       "Energy       2500   2500   2500    2800    3000     3100     3100     3100   \n",
       "\n",
       "            M 19-30  F 31-50  M 31-50  F 51+  M 51+  \n",
       "Nutrition                                            \n",
       "Sodium, Na     2300     2300     2300   2300   2300  \n",
       "Energy         3100     3100     3100   3100   3100  "
      ]
     },
     "execution_count": 13,
     "metadata": {},
     "output_type": "execute_result"
    }
   ],
   "source": [
    "bmax = RDIs['diet_maximums'].set_index('Nutrition')\n",
    "# Drop string describing source\n",
    "bmax = bmax.drop('Source',axis=1)\n",
    "bmax"
   ]
  },
  {
   "cell_type": "markdown",
   "id": "38606608",
   "metadata": {},
   "source": [
    "### [A] Dietary reference intakes"
   ]
  },
  {
   "cell_type": "markdown",
   "id": "eb1432f9",
   "metadata": {},
   "source": [
    "A function that takes as arguments the characteristics of a person (e.g. age, sex) and returns a pandas.Series of Dietary Reference Intakes (DRI's) or \"Recommended Daily Allowances\" (RDAs) of a variety of nutrients appropriate for middle schoolers in Oakland."
   ]
  },
  {
   "cell_type": "code",
   "execution_count": 14,
   "id": "6bbc59a2",
   "metadata": {},
   "outputs": [],
   "source": [
    "def dris(age, sex, req):\n",
    "    \n",
    "    assert(type(age)), \"`age` must be an integer from 10 to 14\"\n",
    "    assert(sex == \"female\" or sex == \"male\"), \"`sex` must be 'female' or `male`\"\n",
    "    assert(req == 'min' or req == 'max')\n",
    "    \n",
    "    label = \"\"  \n",
    "    if sex == \"female\":\n",
    "        label += \"F\"\n",
    "    \n",
    "    elif sex == \"male\":\n",
    "        label += \"M\"\n",
    "        \n",
    "    if age <= 13:\n",
    "        label += \" 9-13\"\n",
    "    \n",
    "    else:\n",
    "        label += \" 14-18\"\n",
    "           \n",
    "    if req == 'min':\n",
    "        return bmin[label]\n",
    "        \n",
    "    else:\n",
    "        return bmax[label]\n",
    "    "
   ]
  },
  {
   "cell_type": "code",
   "execution_count": 20,
   "id": "45bf6e19",
   "metadata": {},
   "outputs": [],
   "source": [
    "group = 'M 9-13'"
   ]
  },
  {
   "cell_type": "code",
   "execution_count": 15,
   "id": "7fbcfb84",
   "metadata": {},
   "outputs": [],
   "source": [
    "diet_min = dris(10, \"male\", 'min')"
   ]
  },
  {
   "cell_type": "code",
   "execution_count": 16,
   "id": "99de7a2f",
   "metadata": {},
   "outputs": [],
   "source": [
    "diet_max = dris(10, \"male\", 'max')"
   ]
  },
  {
   "cell_type": "code",
   "execution_count": 17,
   "id": "5753d67e",
   "metadata": {},
   "outputs": [],
   "source": [
    "def solve_subsistence_problem(FoodNutrients,Prices,dietmin,dietmax,max_weight=None,tol=1e-6):\n",
    "    \"\"\"Solve Stigler's Subsistence Cost Problem.\n",
    "\n",
    "    Inputs:\n",
    "       - FoodNutrients : A pd.DataFrame with rows corresponding to foods, columns to nutrients.\n",
    "       - Prices : A pd.Series of prices for different foods\n",
    "       - diet_min : A pd.Series of DRIs, with index corresponding to columns of FoodNutrients,\n",
    "                    describing minimum intakes.\n",
    "       - diet_max : A pd.Series of DRIs, with index corresponding to columns of FoodNutrients,\n",
    "                    describing maximum intakes.\n",
    "       - max_weight : Maximum weight (in hectograms) allowed for diet.\n",
    "       - tol : Solution values smaller than this in absolute value treated as zeros.\n",
    "       \n",
    "    \"\"\"\n",
    "    try: \n",
    "        p = Prices.apply(lambda x:x.magnitude)\n",
    "    except AttributeError:  # Maybe not passing in prices with units?\n",
    "        warnings.warn(\"Prices have no units.  BE CAREFUL!  We're assuming prices are per hectogram or deciliter!\")\n",
    "        p = Prices\n",
    "\n",
    "    p = p.dropna()\n",
    "\n",
    "    # Compile list that we have both prices and nutritional info for; drop if either missing\n",
    "    use = p.index.intersection(FoodNutrients.columns)\n",
    "    p = p[use]\n",
    "\n",
    "    # Drop nutritional information for foods we don't know the price of,\n",
    "    # and replace missing nutrients with zeros.\n",
    "    Aall = FoodNutrients[p.index].fillna(0)\n",
    "\n",
    "    # Drop rows of A that we don't have constraints for.\n",
    "    Amin = Aall.loc[Aall.index.intersection(dietmin.index)]\n",
    "    Amin = Amin.reindex(dietmin.index,axis=0)\n",
    "    idx = Amin.index.to_frame()\n",
    "    idx['type'] = 'min'\n",
    "    #Amin.index = pd.MultiIndex.from_frame(idx)\n",
    "    #dietmin.index = Amin.index\n",
    "    \n",
    "    Amax = Aall.loc[Aall.index.intersection(dietmax.index)]\n",
    "    Amax = Amax.reindex(dietmax.index,axis=0)\n",
    "    idx = Amax.index.to_frame()\n",
    "    idx['type'] = 'max'\n",
    "    #Amax.index = pd.MultiIndex.from_frame(idx)\n",
    "    #dietmax.index = Amax.index\n",
    "\n",
    "    # Minimum requirements involve multiplying constraint by -1 to make <=.\n",
    "    A = pd.concat([Amin,\n",
    "                   -Amax])\n",
    "\n",
    "    b = pd.concat([dietmin,\n",
    "                   -dietmax]) # Note sign change for max constraints\n",
    "\n",
    "    # Make sure order of p, A, b are consistent\n",
    "    A = A.reindex(p.index,axis=1)\n",
    "    A = A.reindex(b.index,axis=0)\n",
    "\n",
    "    if max_weight is not None:\n",
    "        # Add up weights of foods consumed\n",
    "        A.loc['Hectograms'] = -1\n",
    "        b.loc['Hectograms'] = -max_weight\n",
    "        \n",
    "    # Now solve problem!  (Note that the linear program solver we'll use assumes\n",
    "    # \"less-than-or-equal\" constraints.  We can switch back and forth by\n",
    "    # multiplying $A$ and $b$ by $-1$.)\n",
    "\n",
    "    result = lp(p, -A, -b, method='interior-point')\n",
    "\n",
    "    result.A = A\n",
    "    result.b = b\n",
    "    \n",
    "    if result.success:\n",
    "        result.diet = pd.Series(result.x,index=p.index)\n",
    "    else: # No feasible solution?\n",
    "        warnings.warn(result.message)\n",
    "        result.diet = pd.Series(result.x,index=p.index)*np.nan  \n",
    "\n",
    "    return result"
   ]
  },
  {
   "cell_type": "code",
   "execution_count": 21,
   "id": "f6418c41",
   "metadata": {},
   "outputs": [
    {
     "name": "stdout",
     "output_type": "stream",
     "text": [
      "Cost of diet for M 9-13 is $7.45 per day.\n",
      "\n",
      "\n",
      "Diet (in 100s of grams or milliliters):\n",
      "1% fat milk     9.462366\n",
      "edamame         1.313201\n",
      "mini carrot    16.379928\n",
      "orange          1.528457\n",
      "dtype: float64\n",
      "\n",
      "\n",
      "With the following nutritional outcomes of interest:\n",
      "                                     Outcome  Recommendation\n",
      "Nutrition                                                   \n",
      "Energy                           1800.000000          1800.0\n",
      "Protein                            68.398377            34.0\n",
      "Fiber, total dietary               52.035842            25.2\n",
      "Folate, DFE                       330.143369           300.0\n",
      "Calcium, Ca                      1810.274537          1300.0\n",
      "Carbohydrate, by difference       355.050290           130.0\n",
      "Iron, Fe                            8.000000             8.0\n",
      "Magnesium, Mg                     310.107527           240.0\n",
      "Niacin                             17.170717            12.0\n",
      "Phosphorus, P                    1547.921147          1250.0\n",
      "Potassium, K                     7379.055897          4500.0\n",
      "Riboflavin                          2.274767             0.9\n",
      "Thiamin                             1.620430             0.9\n",
      "Vitamin A, RAE                  14226.057348           600.0\n",
      "Vitamin B-12                        5.772043             1.8\n",
      "Vitamin B-6                         2.828172             1.0\n",
      "Vitamin C, total ascorbic acid     96.641577            45.0\n",
      "Vitamin E (alpha-tocopherol)       11.000000            11.0\n",
      "Vitamin K (phylloquinone)         217.161290            60.0\n",
      "Zinc, Zn                            8.000000             8.0\n",
      "Sodium, Na                       2089.468465          2200.0\n",
      "Energy                           1800.000000          3000.0\n",
      "\n",
      "\n",
      "Constraining nutrients are:\n",
      "['Energy', 'Iron, Fe', 'Vitamin E (alpha-tocopherol)', 'Zinc, Zn']\n"
     ]
    }
   ],
   "source": [
    "tol = 1e-6\n",
    "result = solve_subsistence_problem(FoodNutrients,Prices,diet_min,diet_max,tol=tol)\n",
    "\n",
    "print(\"Cost of diet for %s is $%4.2f per day.\\n\" % (group,result.fun))\n",
    "\n",
    "# Put back into nice series\n",
    "diet = result.diet\n",
    "\n",
    "print(\"\\nDiet (in 100s of grams or milliliters):\")\n",
    "print(diet[diet >= tol])  # Drop items with quantities less than precision of calculation.\n",
    "print()\n",
    "\n",
    "tab = pd.DataFrame({\"Outcome\":np.abs(result.A).dot(diet),\"Recommendation\":np.abs(result.b)})\n",
    "print(\"\\nWith the following nutritional outcomes of interest:\")\n",
    "print(tab)\n",
    "print()\n",
    "\n",
    "print(\"\\nConstraining nutrients are:\")\n",
    "excess = tab.diff(axis=1).iloc[:,1]\n",
    "print(excess.loc[np.abs(excess) < tol*100].index.tolist())"
   ]
  },
  {
   "cell_type": "code",
   "execution_count": 24,
   "id": "31b77ce9",
   "metadata": {},
   "outputs": [
    {
     "data": {
      "text/html": [
       "        <script type=\"text/javascript\">\n",
       "        window.PlotlyConfig = {MathJaxConfig: 'local'};\n",
       "        if (window.MathJax) {MathJax.Hub.Config({SVG: {font: \"STIX-Web\"}});}\n",
       "        if (typeof require !== 'undefined') {\n",
       "        require.undef(\"plotly\");\n",
       "        requirejs.config({\n",
       "            paths: {\n",
       "                'plotly': ['https://cdn.plot.ly/plotly-2.3.1.min']\n",
       "            }\n",
       "        });\n",
       "        require(['plotly'], function(Plotly) {\n",
       "            window._Plotly = Plotly;\n",
       "        });\n",
       "        }\n",
       "        </script>\n",
       "        "
      ]
     },
     "metadata": {},
     "output_type": "display_data"
    },
    {
     "data": {
      "application/vnd.plotly.v1+json": {
       "config": {
        "linkText": "Export to plot.ly",
        "plotlyServerURL": "https://plot.ly",
        "showLink": true
       },
       "data": [
        {
         "line": {
          "color": "rgba(255, 153, 51, 1.0)",
          "dash": "solid",
          "shape": "linear",
          "width": 1.3
         },
         "mode": "lines",
         "name": "Bread",
         "text": "",
         "type": "scatter",
         "x": [
          -0.6931471805599453,
          -0.5108256237659907,
          -0.35667494393873245,
          -0.22314355131420968,
          -0.10536051565782628,
          0,
          0.09531017980432495,
          0.1823215567939546,
          0.26236426446749106,
          0.33647223662121284,
          0.4054651081081644
         ],
         "y": [
          7.655120981260405e-11,
          7.080225294691363e-11,
          4.4283021693033275e-11,
          1.8487211761282295e-11,
          -2.973177259946611e-13,
          0,
          -1.5040191314608307e-12,
          -3.968159134623107e-12,
          -6.890266135452384e-12,
          -9.971357073418094e-12,
          -1.3043566227196181e-11
         ]
        },
        {
         "line": {
          "color": "rgba(55, 128, 191, 1.0)",
          "dash": "solid",
          "shape": "linear",
          "width": 1.3
         },
         "mode": "lines",
         "name": "Cheese",
         "text": "",
         "type": "scatter",
         "x": [
          -0.6931471805599453,
          -0.5108256237659907,
          -0.35667494393873245,
          -0.22314355131420968,
          -0.10536051565782628,
          0,
          0.09531017980432495,
          0.1823215567939546,
          0.26236426446749106,
          0.33647223662121284,
          0.4054651081081644
         ],
         "y": [
          1.451727626998801e-12,
          9.754419494351867e-13,
          6.576961197877264e-13,
          4.0212277951915087e-13,
          1.887379141862588e-13,
          0,
          -1.7419399256370223e-13,
          -3.2551739082014886e-13,
          -4.617417559417092e-13,
          -5.803135749717377e-13,
          -6.965539256500659e-13
         ]
        },
        {
         "line": {
          "color": "rgba(50, 171, 96, 1.0)",
          "dash": "solid",
          "shape": "linear",
          "width": 1.3
         },
         "mode": "lines",
         "name": "Ground Beef",
         "text": "",
         "type": "scatter",
         "x": [
          -0.6931471805599453,
          -0.5108256237659907,
          -0.35667494393873245,
          -0.22314355131420968,
          -0.10536051565782628,
          0,
          0.09531017980432495,
          0.1823215567939546,
          0.26236426446749106,
          0.33647223662121284,
          0.4054651081081644
         ],
         "y": [
          -1.67169611488281e-11,
          1.4927170609576054e-10,
          1.4263124014184172e-10,
          8.106382231813983e-11,
          2.2686075240328196e-11,
          0,
          -1.0032641384378017e-11,
          -2.2910562336427176e-11,
          -3.648381596899004e-11,
          -4.93584062523058e-11,
          -6.057088164551893e-11
         ]
        },
        {
         "line": {
          "color": "rgba(128, 0, 128, 1.0)",
          "dash": "solid",
          "shape": "linear",
          "width": 1.3
         },
         "mode": "lines",
         "name": "cheese burger ",
         "text": "",
         "type": "scatter",
         "x": [
          -0.6931471805599453,
          -0.5108256237659907,
          -0.35667494393873245,
          -0.22314355131420968,
          -0.10536051565782628,
          0,
          0.09531017980432495,
          0.1823215567939546,
          0.26236426446749106,
          0.33647223662121284,
          0.4054651081081644
         ],
         "y": [
          0,
          0,
          0,
          0,
          0,
          0,
          0,
          0,
          0,
          0,
          0
         ]
        },
        {
         "line": {
          "color": "rgba(219, 64, 82, 1.0)",
          "dash": "solid",
          "shape": "linear",
          "width": 1.3
         },
         "mode": "lines",
         "name": "1% fat milk",
         "text": "",
         "type": "scatter",
         "x": [
          -0.6931471805599453,
          -0.5108256237659907,
          -0.35667494393873245,
          -0.22314355131420968,
          -0.10536051565782628,
          0,
          0.09531017980432495,
          0.1823215567939546,
          0.26236426446749106,
          0.33647223662121284,
          0.4054651081081644
         ],
         "y": [
          -0.07654943094429868,
          -0.06076357528894019,
          -0.04522304520030629,
          -0.029920332109693092,
          -0.014848266944295835,
          0,
          0.014631017754341679,
          0.02905105202218984,
          0.04326610129098895,
          0.057281911814420716,
          0.07110399155896306
         ]
        },
        {
         "line": {
          "color": "rgba(0, 128, 128, 1.0)",
          "dash": "solid",
          "shape": "linear",
          "width": 1.3
         },
         "mode": "lines",
         "name": "red apple",
         "text": "",
         "type": "scatter",
         "x": [
          -0.6931471805599453,
          -0.5108256237659907,
          -0.35667494393873245,
          -0.22314355131420968,
          -0.10536051565782628,
          0,
          0.09531017980432495,
          0.1823215567939546,
          0.26236426446749106,
          0.33647223662121284,
          0.4054651081081644
         ],
         "y": [
          3.4597844529406424e-09,
          3.484659227229886e-10,
          2.0077427296770208e-08,
          -6.37444541616072e-11,
          -1.837863194981373e-11,
          0,
          3.3970826151508455e-11,
          8.321054955837871e-11,
          1.2293410733076749e-10,
          1.5197265666966177e-10,
          1.7079115897862613e-10
         ]
        },
        {
         "line": {
          "color": "rgba(255, 255, 51, 1.0)",
          "dash": "solid",
          "shape": "linear",
          "width": 1.3
         },
         "mode": "lines",
         "name": "edamame",
         "text": "",
         "type": "scatter",
         "x": [
          -0.6931471805599453,
          -0.5108256237659907,
          -0.35667494393873245,
          -0.22314355131420968,
          -0.10536051565782628,
          0,
          0.09531017980432495,
          0.1823215567939546,
          0.26236426446749106,
          0.33647223662121284,
          0.4054651081081644
         ],
         "y": [
          -0.03743739254301406,
          -0.029836949946569814,
          -0.022293829784324985,
          -0.014807137826659433,
          -0.007376172909409882,
          0,
          0.004442464272852745,
          0.006213961457235162,
          0.007982329781763395,
          0.009747577309810386,
          0.011509714634015445
         ]
        },
        {
         "line": {
          "color": "rgba(128, 128, 0, 1.0)",
          "dash": "solid",
          "shape": "linear",
          "width": 1.3
         },
         "mode": "lines",
         "name": "mini carrot",
         "text": "",
         "type": "scatter",
         "x": [
          -0.6931471805599453,
          -0.5108256237659907,
          -0.35667494393873245,
          -0.22314355131420968,
          -0.10536051565782628,
          0,
          0.09531017980432495,
          0.1823215567939546,
          0.26236426446749106,
          0.33647223662121284,
          0.4054651081081644
         ],
         "y": [
          -0.44837115365353764,
          -0.34117557229665496,
          -0.24436647575563475,
          -0.15610771544324548,
          -0.07501074349856415,
          0,
          0.06977461466339017,
          0.13499666011406516,
          0.19622400688080233,
          0.25391787568932384,
          0.30846393009854933
         ]
        },
        {
         "line": {
          "color": "rgba(251, 128, 114, 1.0)",
          "dash": "solid",
          "shape": "linear",
          "width": 1.3
         },
         "mode": "lines",
         "name": "mandarin",
         "text": "",
         "type": "scatter",
         "x": [
          -0.6931471805599453,
          -0.5108256237659907,
          -0.35667494393873245,
          -0.22314355131420968,
          -0.10536051565782628,
          0,
          0.09531017980432495,
          0.1823215567939546,
          0.26236426446749106,
          0.33647223662121284,
          0.4054651081081644
         ],
         "y": [
          -0.015024201418487596,
          7.40751904232715e-11,
          8.731904088295625e-11,
          1.5667822593650685e-10,
          7.88417394926359e-09,
          0,
          2.66580757433127e-10,
          2.7961388756024726e-10,
          1.6990364656298935e-09,
          4.104107933960178e-09,
          4.3138292844737644e-09
         ]
        },
        {
         "line": {
          "color": "rgba(128, 177, 211, 1.0)",
          "dash": "solid",
          "shape": "linear",
          "width": 1.3
         },
         "mode": "lines",
         "name": "cauliflower",
         "text": "",
         "type": "scatter",
         "x": [
          -0.6931471805599453,
          -0.5108256237659907,
          -0.35667494393873245,
          -0.22314355131420968,
          -0.10536051565782628,
          0,
          0.09531017980432495,
          0.1823215567939546,
          0.26236426446749106,
          0.33647223662121284,
          0.4054651081081644
         ],
         "y": [
          3.527556025000277e-11,
          1.4578338536246667e-11,
          9.177103521547333e-13,
          8.353318037276189e-13,
          5.324629626100833e-13,
          0,
          -6.32160990221764e-13,
          -1.305733299262499e-12,
          -1.996069975975561e-12,
          -2.696842749120604e-12,
          -3.393951786284863e-12
         ]
        },
        {
         "line": {
          "color": "rgba(128, 177, 211, 0.8999999999999999)",
          "dash": "solid",
          "shape": "linear",
          "width": 1.3
         },
         "mode": "lines",
         "name": "bosc pear ",
         "text": "",
         "type": "scatter",
         "x": [
          -0.6931471805599453,
          -0.5108256237659907,
          -0.35667494393873245,
          -0.22314355131420968,
          -0.10536051565782628,
          0,
          0.09531017980432495,
          0.1823215567939546,
          0.26236426446749106,
          0.33647223662121284,
          0.4054651081081644
         ],
         "y": [
          7.450151606469589e-11,
          1.212909772545229e-10,
          1.0148060169452805e-10,
          6.145883801689112e-11,
          1.811217842357078e-11,
          0,
          -1.1071699113135664e-11,
          -2.599787052338031e-11,
          -4.252165286635e-11,
          -5.8043680974414806e-11,
          -7.235145816059942e-11
         ]
        },
        {
         "line": {
          "color": "rgba(255, 153, 51, 0.8999999999999999)",
          "dash": "solid",
          "shape": "linear",
          "width": 1.3
         },
         "mode": "lines",
         "name": "orange",
         "text": "",
         "type": "scatter",
         "x": [
          -0.6931471805599453,
          -0.5108256237659907,
          -0.35667494393873245,
          -0.22314355131420968,
          -0.10536051565782628,
          0,
          0.09531017980432495,
          0.1823215567939546,
          0.26236426446749106,
          0.33647223662121284,
          0.4054651081081644
         ],
         "y": [
          -0.028635522107022266,
          -0.022842458503829467,
          -0.017082748399807432,
          -0.01135601169779922,
          -0.005661825662750245,
          0,
          0.0026678216891186705,
          0.0026678128946886464,
          0.002667812307798722,
          0.002667945135001236,
          0.0026678375236110904
         ]
        },
        {
         "line": {
          "color": "rgba(55, 128, 191, 0.8999999999999999)",
          "dash": "solid",
          "shape": "linear",
          "width": 1.3
         },
         "mode": "lines",
         "name": "kiwi",
         "text": "",
         "type": "scatter",
         "x": [
          -0.6931471805599453,
          -0.5108256237659907,
          -0.35667494393873245,
          -0.22314355131420968,
          -0.10536051565782628,
          0,
          0.09531017980432495,
          0.1823215567939546,
          0.26236426446749106,
          0.33647223662121284,
          0.4054651081081644
         ],
         "y": [
          -0.05628912264609343,
          -0.04421636355768586,
          -0.032287649039017076,
          -0.02049954313880284,
          -0.008848774503317168,
          0,
          1.651934144894065e-10,
          4.903499828281215e-11,
          1.608134945600137e-08,
          1.2020432799050436e-08,
          1.0470140255491658e-08
         ]
        }
       ],
       "layout": {
        "legend": {
         "bgcolor": "#F5F6F9",
         "font": {
          "color": "#4D5663"
         }
        },
        "paper_bgcolor": "#F5F6F9",
        "plot_bgcolor": "#F5F6F9",
        "template": {
         "data": {
          "bar": [
           {
            "error_x": {
             "color": "#2a3f5f"
            },
            "error_y": {
             "color": "#2a3f5f"
            },
            "marker": {
             "line": {
              "color": "#E5ECF6",
              "width": 0.5
             },
             "pattern": {
              "fillmode": "overlay",
              "size": 10,
              "solidity": 0.2
             }
            },
            "type": "bar"
           }
          ],
          "barpolar": [
           {
            "marker": {
             "line": {
              "color": "#E5ECF6",
              "width": 0.5
             },
             "pattern": {
              "fillmode": "overlay",
              "size": 10,
              "solidity": 0.2
             }
            },
            "type": "barpolar"
           }
          ],
          "carpet": [
           {
            "aaxis": {
             "endlinecolor": "#2a3f5f",
             "gridcolor": "white",
             "linecolor": "white",
             "minorgridcolor": "white",
             "startlinecolor": "#2a3f5f"
            },
            "baxis": {
             "endlinecolor": "#2a3f5f",
             "gridcolor": "white",
             "linecolor": "white",
             "minorgridcolor": "white",
             "startlinecolor": "#2a3f5f"
            },
            "type": "carpet"
           }
          ],
          "choropleth": [
           {
            "colorbar": {
             "outlinewidth": 0,
             "ticks": ""
            },
            "type": "choropleth"
           }
          ],
          "contour": [
           {
            "colorbar": {
             "outlinewidth": 0,
             "ticks": ""
            },
            "colorscale": [
             [
              0,
              "#0d0887"
             ],
             [
              0.1111111111111111,
              "#46039f"
             ],
             [
              0.2222222222222222,
              "#7201a8"
             ],
             [
              0.3333333333333333,
              "#9c179e"
             ],
             [
              0.4444444444444444,
              "#bd3786"
             ],
             [
              0.5555555555555556,
              "#d8576b"
             ],
             [
              0.6666666666666666,
              "#ed7953"
             ],
             [
              0.7777777777777778,
              "#fb9f3a"
             ],
             [
              0.8888888888888888,
              "#fdca26"
             ],
             [
              1,
              "#f0f921"
             ]
            ],
            "type": "contour"
           }
          ],
          "contourcarpet": [
           {
            "colorbar": {
             "outlinewidth": 0,
             "ticks": ""
            },
            "type": "contourcarpet"
           }
          ],
          "heatmap": [
           {
            "colorbar": {
             "outlinewidth": 0,
             "ticks": ""
            },
            "colorscale": [
             [
              0,
              "#0d0887"
             ],
             [
              0.1111111111111111,
              "#46039f"
             ],
             [
              0.2222222222222222,
              "#7201a8"
             ],
             [
              0.3333333333333333,
              "#9c179e"
             ],
             [
              0.4444444444444444,
              "#bd3786"
             ],
             [
              0.5555555555555556,
              "#d8576b"
             ],
             [
              0.6666666666666666,
              "#ed7953"
             ],
             [
              0.7777777777777778,
              "#fb9f3a"
             ],
             [
              0.8888888888888888,
              "#fdca26"
             ],
             [
              1,
              "#f0f921"
             ]
            ],
            "type": "heatmap"
           }
          ],
          "heatmapgl": [
           {
            "colorbar": {
             "outlinewidth": 0,
             "ticks": ""
            },
            "colorscale": [
             [
              0,
              "#0d0887"
             ],
             [
              0.1111111111111111,
              "#46039f"
             ],
             [
              0.2222222222222222,
              "#7201a8"
             ],
             [
              0.3333333333333333,
              "#9c179e"
             ],
             [
              0.4444444444444444,
              "#bd3786"
             ],
             [
              0.5555555555555556,
              "#d8576b"
             ],
             [
              0.6666666666666666,
              "#ed7953"
             ],
             [
              0.7777777777777778,
              "#fb9f3a"
             ],
             [
              0.8888888888888888,
              "#fdca26"
             ],
             [
              1,
              "#f0f921"
             ]
            ],
            "type": "heatmapgl"
           }
          ],
          "histogram": [
           {
            "marker": {
             "pattern": {
              "fillmode": "overlay",
              "size": 10,
              "solidity": 0.2
             }
            },
            "type": "histogram"
           }
          ],
          "histogram2d": [
           {
            "colorbar": {
             "outlinewidth": 0,
             "ticks": ""
            },
            "colorscale": [
             [
              0,
              "#0d0887"
             ],
             [
              0.1111111111111111,
              "#46039f"
             ],
             [
              0.2222222222222222,
              "#7201a8"
             ],
             [
              0.3333333333333333,
              "#9c179e"
             ],
             [
              0.4444444444444444,
              "#bd3786"
             ],
             [
              0.5555555555555556,
              "#d8576b"
             ],
             [
              0.6666666666666666,
              "#ed7953"
             ],
             [
              0.7777777777777778,
              "#fb9f3a"
             ],
             [
              0.8888888888888888,
              "#fdca26"
             ],
             [
              1,
              "#f0f921"
             ]
            ],
            "type": "histogram2d"
           }
          ],
          "histogram2dcontour": [
           {
            "colorbar": {
             "outlinewidth": 0,
             "ticks": ""
            },
            "colorscale": [
             [
              0,
              "#0d0887"
             ],
             [
              0.1111111111111111,
              "#46039f"
             ],
             [
              0.2222222222222222,
              "#7201a8"
             ],
             [
              0.3333333333333333,
              "#9c179e"
             ],
             [
              0.4444444444444444,
              "#bd3786"
             ],
             [
              0.5555555555555556,
              "#d8576b"
             ],
             [
              0.6666666666666666,
              "#ed7953"
             ],
             [
              0.7777777777777778,
              "#fb9f3a"
             ],
             [
              0.8888888888888888,
              "#fdca26"
             ],
             [
              1,
              "#f0f921"
             ]
            ],
            "type": "histogram2dcontour"
           }
          ],
          "mesh3d": [
           {
            "colorbar": {
             "outlinewidth": 0,
             "ticks": ""
            },
            "type": "mesh3d"
           }
          ],
          "parcoords": [
           {
            "line": {
             "colorbar": {
              "outlinewidth": 0,
              "ticks": ""
             }
            },
            "type": "parcoords"
           }
          ],
          "pie": [
           {
            "automargin": true,
            "type": "pie"
           }
          ],
          "scatter": [
           {
            "marker": {
             "colorbar": {
              "outlinewidth": 0,
              "ticks": ""
             }
            },
            "type": "scatter"
           }
          ],
          "scatter3d": [
           {
            "line": {
             "colorbar": {
              "outlinewidth": 0,
              "ticks": ""
             }
            },
            "marker": {
             "colorbar": {
              "outlinewidth": 0,
              "ticks": ""
             }
            },
            "type": "scatter3d"
           }
          ],
          "scattercarpet": [
           {
            "marker": {
             "colorbar": {
              "outlinewidth": 0,
              "ticks": ""
             }
            },
            "type": "scattercarpet"
           }
          ],
          "scattergeo": [
           {
            "marker": {
             "colorbar": {
              "outlinewidth": 0,
              "ticks": ""
             }
            },
            "type": "scattergeo"
           }
          ],
          "scattergl": [
           {
            "marker": {
             "colorbar": {
              "outlinewidth": 0,
              "ticks": ""
             }
            },
            "type": "scattergl"
           }
          ],
          "scattermapbox": [
           {
            "marker": {
             "colorbar": {
              "outlinewidth": 0,
              "ticks": ""
             }
            },
            "type": "scattermapbox"
           }
          ],
          "scatterpolar": [
           {
            "marker": {
             "colorbar": {
              "outlinewidth": 0,
              "ticks": ""
             }
            },
            "type": "scatterpolar"
           }
          ],
          "scatterpolargl": [
           {
            "marker": {
             "colorbar": {
              "outlinewidth": 0,
              "ticks": ""
             }
            },
            "type": "scatterpolargl"
           }
          ],
          "scatterternary": [
           {
            "marker": {
             "colorbar": {
              "outlinewidth": 0,
              "ticks": ""
             }
            },
            "type": "scatterternary"
           }
          ],
          "surface": [
           {
            "colorbar": {
             "outlinewidth": 0,
             "ticks": ""
            },
            "colorscale": [
             [
              0,
              "#0d0887"
             ],
             [
              0.1111111111111111,
              "#46039f"
             ],
             [
              0.2222222222222222,
              "#7201a8"
             ],
             [
              0.3333333333333333,
              "#9c179e"
             ],
             [
              0.4444444444444444,
              "#bd3786"
             ],
             [
              0.5555555555555556,
              "#d8576b"
             ],
             [
              0.6666666666666666,
              "#ed7953"
             ],
             [
              0.7777777777777778,
              "#fb9f3a"
             ],
             [
              0.8888888888888888,
              "#fdca26"
             ],
             [
              1,
              "#f0f921"
             ]
            ],
            "type": "surface"
           }
          ],
          "table": [
           {
            "cells": {
             "fill": {
              "color": "#EBF0F8"
             },
             "line": {
              "color": "white"
             }
            },
            "header": {
             "fill": {
              "color": "#C8D4E3"
             },
             "line": {
              "color": "white"
             }
            },
            "type": "table"
           }
          ]
         },
         "layout": {
          "annotationdefaults": {
           "arrowcolor": "#2a3f5f",
           "arrowhead": 0,
           "arrowwidth": 1
          },
          "autotypenumbers": "strict",
          "coloraxis": {
           "colorbar": {
            "outlinewidth": 0,
            "ticks": ""
           }
          },
          "colorscale": {
           "diverging": [
            [
             0,
             "#8e0152"
            ],
            [
             0.1,
             "#c51b7d"
            ],
            [
             0.2,
             "#de77ae"
            ],
            [
             0.3,
             "#f1b6da"
            ],
            [
             0.4,
             "#fde0ef"
            ],
            [
             0.5,
             "#f7f7f7"
            ],
            [
             0.6,
             "#e6f5d0"
            ],
            [
             0.7,
             "#b8e186"
            ],
            [
             0.8,
             "#7fbc41"
            ],
            [
             0.9,
             "#4d9221"
            ],
            [
             1,
             "#276419"
            ]
           ],
           "sequential": [
            [
             0,
             "#0d0887"
            ],
            [
             0.1111111111111111,
             "#46039f"
            ],
            [
             0.2222222222222222,
             "#7201a8"
            ],
            [
             0.3333333333333333,
             "#9c179e"
            ],
            [
             0.4444444444444444,
             "#bd3786"
            ],
            [
             0.5555555555555556,
             "#d8576b"
            ],
            [
             0.6666666666666666,
             "#ed7953"
            ],
            [
             0.7777777777777778,
             "#fb9f3a"
            ],
            [
             0.8888888888888888,
             "#fdca26"
            ],
            [
             1,
             "#f0f921"
            ]
           ],
           "sequentialminus": [
            [
             0,
             "#0d0887"
            ],
            [
             0.1111111111111111,
             "#46039f"
            ],
            [
             0.2222222222222222,
             "#7201a8"
            ],
            [
             0.3333333333333333,
             "#9c179e"
            ],
            [
             0.4444444444444444,
             "#bd3786"
            ],
            [
             0.5555555555555556,
             "#d8576b"
            ],
            [
             0.6666666666666666,
             "#ed7953"
            ],
            [
             0.7777777777777778,
             "#fb9f3a"
            ],
            [
             0.8888888888888888,
             "#fdca26"
            ],
            [
             1,
             "#f0f921"
            ]
           ]
          },
          "colorway": [
           "#636efa",
           "#EF553B",
           "#00cc96",
           "#ab63fa",
           "#FFA15A",
           "#19d3f3",
           "#FF6692",
           "#B6E880",
           "#FF97FF",
           "#FECB52"
          ],
          "font": {
           "color": "#2a3f5f"
          },
          "geo": {
           "bgcolor": "white",
           "lakecolor": "white",
           "landcolor": "#E5ECF6",
           "showlakes": true,
           "showland": true,
           "subunitcolor": "white"
          },
          "hoverlabel": {
           "align": "left"
          },
          "hovermode": "closest",
          "mapbox": {
           "style": "light"
          },
          "paper_bgcolor": "white",
          "plot_bgcolor": "#E5ECF6",
          "polar": {
           "angularaxis": {
            "gridcolor": "white",
            "linecolor": "white",
            "ticks": ""
           },
           "bgcolor": "#E5ECF6",
           "radialaxis": {
            "gridcolor": "white",
            "linecolor": "white",
            "ticks": ""
           }
          },
          "scene": {
           "xaxis": {
            "backgroundcolor": "#E5ECF6",
            "gridcolor": "white",
            "gridwidth": 2,
            "linecolor": "white",
            "showbackground": true,
            "ticks": "",
            "zerolinecolor": "white"
           },
           "yaxis": {
            "backgroundcolor": "#E5ECF6",
            "gridcolor": "white",
            "gridwidth": 2,
            "linecolor": "white",
            "showbackground": true,
            "ticks": "",
            "zerolinecolor": "white"
           },
           "zaxis": {
            "backgroundcolor": "#E5ECF6",
            "gridcolor": "white",
            "gridwidth": 2,
            "linecolor": "white",
            "showbackground": true,
            "ticks": "",
            "zerolinecolor": "white"
           }
          },
          "shapedefaults": {
           "line": {
            "color": "#2a3f5f"
           }
          },
          "ternary": {
           "aaxis": {
            "gridcolor": "white",
            "linecolor": "white",
            "ticks": ""
           },
           "baxis": {
            "gridcolor": "white",
            "linecolor": "white",
            "ticks": ""
           },
           "bgcolor": "#E5ECF6",
           "caxis": {
            "gridcolor": "white",
            "linecolor": "white",
            "ticks": ""
           }
          },
          "title": {
           "x": 0.05
          },
          "xaxis": {
           "automargin": true,
           "gridcolor": "white",
           "linecolor": "white",
           "ticks": "",
           "title": {
            "standoff": 15
           },
           "zerolinecolor": "white",
           "zerolinewidth": 2
          },
          "yaxis": {
           "automargin": true,
           "gridcolor": "white",
           "linecolor": "white",
           "ticks": "",
           "title": {
            "standoff": 15
           },
           "zerolinecolor": "white",
           "zerolinewidth": 2
          }
         }
        },
        "title": {
         "font": {
          "color": "#4D5663"
         }
        },
        "xaxis": {
         "gridcolor": "#E1E5ED",
         "showgrid": true,
         "tickfont": {
          "color": "#4D5663"
         },
         "title": {
          "font": {
           "color": "#4D5663"
          },
          "text": "change in log price"
         },
         "zerolinecolor": "#E1E5ED"
        },
        "yaxis": {
         "gridcolor": "#E1E5ED",
         "showgrid": true,
         "tickfont": {
          "color": "#4D5663"
         },
         "title": {
          "font": {
           "color": "#4D5663"
          },
          "text": "change in log cost"
         },
         "zerolinecolor": "#E1E5ED"
        }
       }
      },
      "text/html": [
       "<div>                            <div id=\"03fdb036-74e4-4c40-bb23-521e65bb508c\" class=\"plotly-graph-div\" style=\"height:525px; width:100%;\"></div>            <script type=\"text/javascript\">                require([\"plotly\"], function(Plotly) {                    window.PLOTLYENV=window.PLOTLYENV || {};\n",
       "                    window.PLOTLYENV.BASE_URL='https://plot.ly';                                    if (document.getElementById(\"03fdb036-74e4-4c40-bb23-521e65bb508c\")) {                    Plotly.newPlot(                        \"03fdb036-74e4-4c40-bb23-521e65bb508c\",                        [{\"line\":{\"color\":\"rgba(255, 153, 51, 1.0)\",\"dash\":\"solid\",\"shape\":\"linear\",\"width\":1.3},\"mode\":\"lines\",\"name\":\"Bread\",\"text\":\"\",\"type\":\"scatter\",\"x\":[-0.6931471805599453,-0.5108256237659907,-0.35667494393873245,-0.22314355131420968,-0.10536051565782628,0.0,0.09531017980432495,0.1823215567939546,0.26236426446749106,0.33647223662121284,0.4054651081081644],\"y\":[7.655120981260405e-11,7.080225294691363e-11,4.4283021693033275e-11,1.8487211761282295e-11,-2.973177259946611e-13,0.0,-1.5040191314608307e-12,-3.968159134623107e-12,-6.890266135452384e-12,-9.971357073418094e-12,-1.3043566227196181e-11]},{\"line\":{\"color\":\"rgba(55, 128, 191, 1.0)\",\"dash\":\"solid\",\"shape\":\"linear\",\"width\":1.3},\"mode\":\"lines\",\"name\":\"Cheese\",\"text\":\"\",\"type\":\"scatter\",\"x\":[-0.6931471805599453,-0.5108256237659907,-0.35667494393873245,-0.22314355131420968,-0.10536051565782628,0.0,0.09531017980432495,0.1823215567939546,0.26236426446749106,0.33647223662121284,0.4054651081081644],\"y\":[1.451727626998801e-12,9.754419494351867e-13,6.576961197877264e-13,4.0212277951915087e-13,1.887379141862588e-13,0.0,-1.7419399256370223e-13,-3.2551739082014886e-13,-4.617417559417092e-13,-5.803135749717377e-13,-6.965539256500659e-13]},{\"line\":{\"color\":\"rgba(50, 171, 96, 1.0)\",\"dash\":\"solid\",\"shape\":\"linear\",\"width\":1.3},\"mode\":\"lines\",\"name\":\"Ground Beef\",\"text\":\"\",\"type\":\"scatter\",\"x\":[-0.6931471805599453,-0.5108256237659907,-0.35667494393873245,-0.22314355131420968,-0.10536051565782628,0.0,0.09531017980432495,0.1823215567939546,0.26236426446749106,0.33647223662121284,0.4054651081081644],\"y\":[-1.67169611488281e-11,1.4927170609576054e-10,1.4263124014184172e-10,8.106382231813983e-11,2.2686075240328196e-11,0.0,-1.0032641384378017e-11,-2.2910562336427176e-11,-3.648381596899004e-11,-4.93584062523058e-11,-6.057088164551893e-11]},{\"line\":{\"color\":\"rgba(128, 0, 128, 1.0)\",\"dash\":\"solid\",\"shape\":\"linear\",\"width\":1.3},\"mode\":\"lines\",\"name\":\"cheese burger \",\"text\":\"\",\"type\":\"scatter\",\"x\":[-0.6931471805599453,-0.5108256237659907,-0.35667494393873245,-0.22314355131420968,-0.10536051565782628,0.0,0.09531017980432495,0.1823215567939546,0.26236426446749106,0.33647223662121284,0.4054651081081644],\"y\":[0.0,0.0,0.0,0.0,0.0,0.0,0.0,0.0,0.0,0.0,0.0]},{\"line\":{\"color\":\"rgba(219, 64, 82, 1.0)\",\"dash\":\"solid\",\"shape\":\"linear\",\"width\":1.3},\"mode\":\"lines\",\"name\":\"1% fat milk\",\"text\":\"\",\"type\":\"scatter\",\"x\":[-0.6931471805599453,-0.5108256237659907,-0.35667494393873245,-0.22314355131420968,-0.10536051565782628,0.0,0.09531017980432495,0.1823215567939546,0.26236426446749106,0.33647223662121284,0.4054651081081644],\"y\":[-0.07654943094429868,-0.06076357528894019,-0.04522304520030629,-0.029920332109693092,-0.014848266944295835,0.0,0.014631017754341679,0.02905105202218984,0.04326610129098895,0.057281911814420716,0.07110399155896306]},{\"line\":{\"color\":\"rgba(0, 128, 128, 1.0)\",\"dash\":\"solid\",\"shape\":\"linear\",\"width\":1.3},\"mode\":\"lines\",\"name\":\"red apple\",\"text\":\"\",\"type\":\"scatter\",\"x\":[-0.6931471805599453,-0.5108256237659907,-0.35667494393873245,-0.22314355131420968,-0.10536051565782628,0.0,0.09531017980432495,0.1823215567939546,0.26236426446749106,0.33647223662121284,0.4054651081081644],\"y\":[3.4597844529406424e-09,3.484659227229886e-10,2.0077427296770208e-08,-6.37444541616072e-11,-1.837863194981373e-11,0.0,3.3970826151508455e-11,8.321054955837871e-11,1.2293410733076749e-10,1.5197265666966177e-10,1.7079115897862613e-10]},{\"line\":{\"color\":\"rgba(255, 255, 51, 1.0)\",\"dash\":\"solid\",\"shape\":\"linear\",\"width\":1.3},\"mode\":\"lines\",\"name\":\"edamame\",\"text\":\"\",\"type\":\"scatter\",\"x\":[-0.6931471805599453,-0.5108256237659907,-0.35667494393873245,-0.22314355131420968,-0.10536051565782628,0.0,0.09531017980432495,0.1823215567939546,0.26236426446749106,0.33647223662121284,0.4054651081081644],\"y\":[-0.03743739254301406,-0.029836949946569814,-0.022293829784324985,-0.014807137826659433,-0.007376172909409882,0.0,0.004442464272852745,0.006213961457235162,0.007982329781763395,0.009747577309810386,0.011509714634015445]},{\"line\":{\"color\":\"rgba(128, 128, 0, 1.0)\",\"dash\":\"solid\",\"shape\":\"linear\",\"width\":1.3},\"mode\":\"lines\",\"name\":\"mini carrot\",\"text\":\"\",\"type\":\"scatter\",\"x\":[-0.6931471805599453,-0.5108256237659907,-0.35667494393873245,-0.22314355131420968,-0.10536051565782628,0.0,0.09531017980432495,0.1823215567939546,0.26236426446749106,0.33647223662121284,0.4054651081081644],\"y\":[-0.44837115365353764,-0.34117557229665496,-0.24436647575563475,-0.15610771544324548,-0.07501074349856415,0.0,0.06977461466339017,0.13499666011406516,0.19622400688080233,0.25391787568932384,0.30846393009854933]},{\"line\":{\"color\":\"rgba(251, 128, 114, 1.0)\",\"dash\":\"solid\",\"shape\":\"linear\",\"width\":1.3},\"mode\":\"lines\",\"name\":\"mandarin\",\"text\":\"\",\"type\":\"scatter\",\"x\":[-0.6931471805599453,-0.5108256237659907,-0.35667494393873245,-0.22314355131420968,-0.10536051565782628,0.0,0.09531017980432495,0.1823215567939546,0.26236426446749106,0.33647223662121284,0.4054651081081644],\"y\":[-0.015024201418487596,7.40751904232715e-11,8.731904088295625e-11,1.5667822593650685e-10,7.88417394926359e-09,0.0,2.66580757433127e-10,2.7961388756024726e-10,1.6990364656298935e-09,4.104107933960178e-09,4.3138292844737644e-09]},{\"line\":{\"color\":\"rgba(128, 177, 211, 1.0)\",\"dash\":\"solid\",\"shape\":\"linear\",\"width\":1.3},\"mode\":\"lines\",\"name\":\"cauliflower\",\"text\":\"\",\"type\":\"scatter\",\"x\":[-0.6931471805599453,-0.5108256237659907,-0.35667494393873245,-0.22314355131420968,-0.10536051565782628,0.0,0.09531017980432495,0.1823215567939546,0.26236426446749106,0.33647223662121284,0.4054651081081644],\"y\":[3.527556025000277e-11,1.4578338536246667e-11,9.177103521547333e-13,8.353318037276189e-13,5.324629626100833e-13,0.0,-6.32160990221764e-13,-1.305733299262499e-12,-1.996069975975561e-12,-2.696842749120604e-12,-3.393951786284863e-12]},{\"line\":{\"color\":\"rgba(128, 177, 211, 0.8999999999999999)\",\"dash\":\"solid\",\"shape\":\"linear\",\"width\":1.3},\"mode\":\"lines\",\"name\":\"bosc pear \",\"text\":\"\",\"type\":\"scatter\",\"x\":[-0.6931471805599453,-0.5108256237659907,-0.35667494393873245,-0.22314355131420968,-0.10536051565782628,0.0,0.09531017980432495,0.1823215567939546,0.26236426446749106,0.33647223662121284,0.4054651081081644],\"y\":[7.450151606469589e-11,1.212909772545229e-10,1.0148060169452805e-10,6.145883801689112e-11,1.811217842357078e-11,0.0,-1.1071699113135664e-11,-2.599787052338031e-11,-4.252165286635e-11,-5.8043680974414806e-11,-7.235145816059942e-11]},{\"line\":{\"color\":\"rgba(255, 153, 51, 0.8999999999999999)\",\"dash\":\"solid\",\"shape\":\"linear\",\"width\":1.3},\"mode\":\"lines\",\"name\":\"orange\",\"text\":\"\",\"type\":\"scatter\",\"x\":[-0.6931471805599453,-0.5108256237659907,-0.35667494393873245,-0.22314355131420968,-0.10536051565782628,0.0,0.09531017980432495,0.1823215567939546,0.26236426446749106,0.33647223662121284,0.4054651081081644],\"y\":[-0.028635522107022266,-0.022842458503829467,-0.017082748399807432,-0.01135601169779922,-0.005661825662750245,0.0,0.0026678216891186705,0.0026678128946886464,0.002667812307798722,0.002667945135001236,0.0026678375236110904]},{\"line\":{\"color\":\"rgba(55, 128, 191, 0.8999999999999999)\",\"dash\":\"solid\",\"shape\":\"linear\",\"width\":1.3},\"mode\":\"lines\",\"name\":\"kiwi\",\"text\":\"\",\"type\":\"scatter\",\"x\":[-0.6931471805599453,-0.5108256237659907,-0.35667494393873245,-0.22314355131420968,-0.10536051565782628,0.0,0.09531017980432495,0.1823215567939546,0.26236426446749106,0.33647223662121284,0.4054651081081644],\"y\":[-0.05628912264609343,-0.04421636355768586,-0.032287649039017076,-0.02049954313880284,-0.008848774503317168,0.0,1.651934144894065e-10,4.903499828281215e-11,1.608134945600137e-08,1.2020432799050436e-08,1.0470140255491658e-08]}],                        {\"legend\":{\"bgcolor\":\"#F5F6F9\",\"font\":{\"color\":\"#4D5663\"}},\"paper_bgcolor\":\"#F5F6F9\",\"plot_bgcolor\":\"#F5F6F9\",\"template\":{\"data\":{\"bar\":[{\"error_x\":{\"color\":\"#2a3f5f\"},\"error_y\":{\"color\":\"#2a3f5f\"},\"marker\":{\"line\":{\"color\":\"#E5ECF6\",\"width\":0.5},\"pattern\":{\"fillmode\":\"overlay\",\"size\":10,\"solidity\":0.2}},\"type\":\"bar\"}],\"barpolar\":[{\"marker\":{\"line\":{\"color\":\"#E5ECF6\",\"width\":0.5},\"pattern\":{\"fillmode\":\"overlay\",\"size\":10,\"solidity\":0.2}},\"type\":\"barpolar\"}],\"carpet\":[{\"aaxis\":{\"endlinecolor\":\"#2a3f5f\",\"gridcolor\":\"white\",\"linecolor\":\"white\",\"minorgridcolor\":\"white\",\"startlinecolor\":\"#2a3f5f\"},\"baxis\":{\"endlinecolor\":\"#2a3f5f\",\"gridcolor\":\"white\",\"linecolor\":\"white\",\"minorgridcolor\":\"white\",\"startlinecolor\":\"#2a3f5f\"},\"type\":\"carpet\"}],\"choropleth\":[{\"colorbar\":{\"outlinewidth\":0,\"ticks\":\"\"},\"type\":\"choropleth\"}],\"contour\":[{\"colorbar\":{\"outlinewidth\":0,\"ticks\":\"\"},\"colorscale\":[[0.0,\"#0d0887\"],[0.1111111111111111,\"#46039f\"],[0.2222222222222222,\"#7201a8\"],[0.3333333333333333,\"#9c179e\"],[0.4444444444444444,\"#bd3786\"],[0.5555555555555556,\"#d8576b\"],[0.6666666666666666,\"#ed7953\"],[0.7777777777777778,\"#fb9f3a\"],[0.8888888888888888,\"#fdca26\"],[1.0,\"#f0f921\"]],\"type\":\"contour\"}],\"contourcarpet\":[{\"colorbar\":{\"outlinewidth\":0,\"ticks\":\"\"},\"type\":\"contourcarpet\"}],\"heatmap\":[{\"colorbar\":{\"outlinewidth\":0,\"ticks\":\"\"},\"colorscale\":[[0.0,\"#0d0887\"],[0.1111111111111111,\"#46039f\"],[0.2222222222222222,\"#7201a8\"],[0.3333333333333333,\"#9c179e\"],[0.4444444444444444,\"#bd3786\"],[0.5555555555555556,\"#d8576b\"],[0.6666666666666666,\"#ed7953\"],[0.7777777777777778,\"#fb9f3a\"],[0.8888888888888888,\"#fdca26\"],[1.0,\"#f0f921\"]],\"type\":\"heatmap\"}],\"heatmapgl\":[{\"colorbar\":{\"outlinewidth\":0,\"ticks\":\"\"},\"colorscale\":[[0.0,\"#0d0887\"],[0.1111111111111111,\"#46039f\"],[0.2222222222222222,\"#7201a8\"],[0.3333333333333333,\"#9c179e\"],[0.4444444444444444,\"#bd3786\"],[0.5555555555555556,\"#d8576b\"],[0.6666666666666666,\"#ed7953\"],[0.7777777777777778,\"#fb9f3a\"],[0.8888888888888888,\"#fdca26\"],[1.0,\"#f0f921\"]],\"type\":\"heatmapgl\"}],\"histogram\":[{\"marker\":{\"pattern\":{\"fillmode\":\"overlay\",\"size\":10,\"solidity\":0.2}},\"type\":\"histogram\"}],\"histogram2d\":[{\"colorbar\":{\"outlinewidth\":0,\"ticks\":\"\"},\"colorscale\":[[0.0,\"#0d0887\"],[0.1111111111111111,\"#46039f\"],[0.2222222222222222,\"#7201a8\"],[0.3333333333333333,\"#9c179e\"],[0.4444444444444444,\"#bd3786\"],[0.5555555555555556,\"#d8576b\"],[0.6666666666666666,\"#ed7953\"],[0.7777777777777778,\"#fb9f3a\"],[0.8888888888888888,\"#fdca26\"],[1.0,\"#f0f921\"]],\"type\":\"histogram2d\"}],\"histogram2dcontour\":[{\"colorbar\":{\"outlinewidth\":0,\"ticks\":\"\"},\"colorscale\":[[0.0,\"#0d0887\"],[0.1111111111111111,\"#46039f\"],[0.2222222222222222,\"#7201a8\"],[0.3333333333333333,\"#9c179e\"],[0.4444444444444444,\"#bd3786\"],[0.5555555555555556,\"#d8576b\"],[0.6666666666666666,\"#ed7953\"],[0.7777777777777778,\"#fb9f3a\"],[0.8888888888888888,\"#fdca26\"],[1.0,\"#f0f921\"]],\"type\":\"histogram2dcontour\"}],\"mesh3d\":[{\"colorbar\":{\"outlinewidth\":0,\"ticks\":\"\"},\"type\":\"mesh3d\"}],\"parcoords\":[{\"line\":{\"colorbar\":{\"outlinewidth\":0,\"ticks\":\"\"}},\"type\":\"parcoords\"}],\"pie\":[{\"automargin\":true,\"type\":\"pie\"}],\"scatter\":[{\"marker\":{\"colorbar\":{\"outlinewidth\":0,\"ticks\":\"\"}},\"type\":\"scatter\"}],\"scatter3d\":[{\"line\":{\"colorbar\":{\"outlinewidth\":0,\"ticks\":\"\"}},\"marker\":{\"colorbar\":{\"outlinewidth\":0,\"ticks\":\"\"}},\"type\":\"scatter3d\"}],\"scattercarpet\":[{\"marker\":{\"colorbar\":{\"outlinewidth\":0,\"ticks\":\"\"}},\"type\":\"scattercarpet\"}],\"scattergeo\":[{\"marker\":{\"colorbar\":{\"outlinewidth\":0,\"ticks\":\"\"}},\"type\":\"scattergeo\"}],\"scattergl\":[{\"marker\":{\"colorbar\":{\"outlinewidth\":0,\"ticks\":\"\"}},\"type\":\"scattergl\"}],\"scattermapbox\":[{\"marker\":{\"colorbar\":{\"outlinewidth\":0,\"ticks\":\"\"}},\"type\":\"scattermapbox\"}],\"scatterpolar\":[{\"marker\":{\"colorbar\":{\"outlinewidth\":0,\"ticks\":\"\"}},\"type\":\"scatterpolar\"}],\"scatterpolargl\":[{\"marker\":{\"colorbar\":{\"outlinewidth\":0,\"ticks\":\"\"}},\"type\":\"scatterpolargl\"}],\"scatterternary\":[{\"marker\":{\"colorbar\":{\"outlinewidth\":0,\"ticks\":\"\"}},\"type\":\"scatterternary\"}],\"surface\":[{\"colorbar\":{\"outlinewidth\":0,\"ticks\":\"\"},\"colorscale\":[[0.0,\"#0d0887\"],[0.1111111111111111,\"#46039f\"],[0.2222222222222222,\"#7201a8\"],[0.3333333333333333,\"#9c179e\"],[0.4444444444444444,\"#bd3786\"],[0.5555555555555556,\"#d8576b\"],[0.6666666666666666,\"#ed7953\"],[0.7777777777777778,\"#fb9f3a\"],[0.8888888888888888,\"#fdca26\"],[1.0,\"#f0f921\"]],\"type\":\"surface\"}],\"table\":[{\"cells\":{\"fill\":{\"color\":\"#EBF0F8\"},\"line\":{\"color\":\"white\"}},\"header\":{\"fill\":{\"color\":\"#C8D4E3\"},\"line\":{\"color\":\"white\"}},\"type\":\"table\"}]},\"layout\":{\"annotationdefaults\":{\"arrowcolor\":\"#2a3f5f\",\"arrowhead\":0,\"arrowwidth\":1},\"autotypenumbers\":\"strict\",\"coloraxis\":{\"colorbar\":{\"outlinewidth\":0,\"ticks\":\"\"}},\"colorscale\":{\"diverging\":[[0,\"#8e0152\"],[0.1,\"#c51b7d\"],[0.2,\"#de77ae\"],[0.3,\"#f1b6da\"],[0.4,\"#fde0ef\"],[0.5,\"#f7f7f7\"],[0.6,\"#e6f5d0\"],[0.7,\"#b8e186\"],[0.8,\"#7fbc41\"],[0.9,\"#4d9221\"],[1,\"#276419\"]],\"sequential\":[[0.0,\"#0d0887\"],[0.1111111111111111,\"#46039f\"],[0.2222222222222222,\"#7201a8\"],[0.3333333333333333,\"#9c179e\"],[0.4444444444444444,\"#bd3786\"],[0.5555555555555556,\"#d8576b\"],[0.6666666666666666,\"#ed7953\"],[0.7777777777777778,\"#fb9f3a\"],[0.8888888888888888,\"#fdca26\"],[1.0,\"#f0f921\"]],\"sequentialminus\":[[0.0,\"#0d0887\"],[0.1111111111111111,\"#46039f\"],[0.2222222222222222,\"#7201a8\"],[0.3333333333333333,\"#9c179e\"],[0.4444444444444444,\"#bd3786\"],[0.5555555555555556,\"#d8576b\"],[0.6666666666666666,\"#ed7953\"],[0.7777777777777778,\"#fb9f3a\"],[0.8888888888888888,\"#fdca26\"],[1.0,\"#f0f921\"]]},\"colorway\":[\"#636efa\",\"#EF553B\",\"#00cc96\",\"#ab63fa\",\"#FFA15A\",\"#19d3f3\",\"#FF6692\",\"#B6E880\",\"#FF97FF\",\"#FECB52\"],\"font\":{\"color\":\"#2a3f5f\"},\"geo\":{\"bgcolor\":\"white\",\"lakecolor\":\"white\",\"landcolor\":\"#E5ECF6\",\"showlakes\":true,\"showland\":true,\"subunitcolor\":\"white\"},\"hoverlabel\":{\"align\":\"left\"},\"hovermode\":\"closest\",\"mapbox\":{\"style\":\"light\"},\"paper_bgcolor\":\"white\",\"plot_bgcolor\":\"#E5ECF6\",\"polar\":{\"angularaxis\":{\"gridcolor\":\"white\",\"linecolor\":\"white\",\"ticks\":\"\"},\"bgcolor\":\"#E5ECF6\",\"radialaxis\":{\"gridcolor\":\"white\",\"linecolor\":\"white\",\"ticks\":\"\"}},\"scene\":{\"xaxis\":{\"backgroundcolor\":\"#E5ECF6\",\"gridcolor\":\"white\",\"gridwidth\":2,\"linecolor\":\"white\",\"showbackground\":true,\"ticks\":\"\",\"zerolinecolor\":\"white\"},\"yaxis\":{\"backgroundcolor\":\"#E5ECF6\",\"gridcolor\":\"white\",\"gridwidth\":2,\"linecolor\":\"white\",\"showbackground\":true,\"ticks\":\"\",\"zerolinecolor\":\"white\"},\"zaxis\":{\"backgroundcolor\":\"#E5ECF6\",\"gridcolor\":\"white\",\"gridwidth\":2,\"linecolor\":\"white\",\"showbackground\":true,\"ticks\":\"\",\"zerolinecolor\":\"white\"}},\"shapedefaults\":{\"line\":{\"color\":\"#2a3f5f\"}},\"ternary\":{\"aaxis\":{\"gridcolor\":\"white\",\"linecolor\":\"white\",\"ticks\":\"\"},\"baxis\":{\"gridcolor\":\"white\",\"linecolor\":\"white\",\"ticks\":\"\"},\"bgcolor\":\"#E5ECF6\",\"caxis\":{\"gridcolor\":\"white\",\"linecolor\":\"white\",\"ticks\":\"\"}},\"title\":{\"x\":0.05},\"xaxis\":{\"automargin\":true,\"gridcolor\":\"white\",\"linecolor\":\"white\",\"ticks\":\"\",\"title\":{\"standoff\":15},\"zerolinecolor\":\"white\",\"zerolinewidth\":2},\"yaxis\":{\"automargin\":true,\"gridcolor\":\"white\",\"linecolor\":\"white\",\"ticks\":\"\",\"title\":{\"standoff\":15},\"zerolinecolor\":\"white\",\"zerolinewidth\":2}}},\"title\":{\"font\":{\"color\":\"#4D5663\"}},\"xaxis\":{\"gridcolor\":\"#E1E5ED\",\"showgrid\":true,\"tickfont\":{\"color\":\"#4D5663\"},\"title\":{\"font\":{\"color\":\"#4D5663\"},\"text\":\"change in log price\"},\"zerolinecolor\":\"#E1E5ED\"},\"yaxis\":{\"gridcolor\":\"#E1E5ED\",\"showgrid\":true,\"tickfont\":{\"color\":\"#4D5663\"},\"title\":{\"font\":{\"color\":\"#4D5663\"},\"text\":\"change in log cost\"},\"zerolinecolor\":\"#E1E5ED\"}},                        {\"showLink\": true, \"linkText\": \"Export to plot.ly\", \"plotlyServerURL\": \"https://plot.ly\", \"responsive\": true}                    ).then(function(){\n",
       "                            \n",
       "var gd = document.getElementById('03fdb036-74e4-4c40-bb23-521e65bb508c');\n",
       "var x = new MutationObserver(function (mutations, observer) {{\n",
       "        var display = window.getComputedStyle(gd).display;\n",
       "        if (!display || display === 'none') {{\n",
       "            console.log([gd, 'removed!']);\n",
       "            Plotly.purge(gd);\n",
       "            observer.disconnect();\n",
       "        }}\n",
       "}});\n",
       "\n",
       "// Listen for the removal of the full notebook cells\n",
       "var notebookContainer = gd.closest('#notebook-container');\n",
       "if (notebookContainer) {{\n",
       "    x.observe(notebookContainer, {childList: true});\n",
       "}}\n",
       "\n",
       "// Listen for the clearing of the current output cell\n",
       "var outputEl = gd.closest('.output');\n",
       "if (outputEl) {{\n",
       "    x.observe(outputEl, {childList: true});\n",
       "}}\n",
       "\n",
       "                        })                };                });            </script>        </div>"
      ]
     },
     "metadata": {},
     "output_type": "display_data"
    }
   ],
   "source": [
    "import cufflinks as cf\n",
    "cf.go_offline()\n",
    "\n",
    "scale = [.5,.6,.7,.8,.9,1.,1.1,1.2,1.3,1.4,1.5]\n",
    "\n",
    "cost0 = solve_subsistence_problem(FoodNutrients,Prices,diet_min,diet_max,tol=tol).fun\n",
    "\n",
    "Price_response={}\n",
    "for s in scale:\n",
    "    cost = {}\n",
    "    for i,p in enumerate(Prices):\n",
    "        my_p = Prices.copy()\n",
    "        my_p[i] = p*s\n",
    "        result = solve_subsistence_problem(FoodNutrients,my_p,diet_min,diet_max,tol=tol)\n",
    "        cost[Prices.index[i]] = np.log(result.fun/cost0)\n",
    "    Price_response[np.log(s)] = cost\n",
    "\n",
    "Price_response = pd.DataFrame(Price_response).T\n",
    "Price_response.iplot(xTitle='change in log price',yTitle='change in log cost')"
   ]
  },
  {
   "cell_type": "code",
   "execution_count": null,
   "id": "4a3975f1",
   "metadata": {},
   "outputs": [],
   "source": []
  }
 ],
 "metadata": {
  "kernelspec": {
   "display_name": "Python 3 (ipykernel)",
   "language": "python",
   "name": "python3"
  },
  "language_info": {
   "codemirror_mode": {
    "name": "ipython",
    "version": 3
   },
   "file_extension": ".py",
   "mimetype": "text/x-python",
   "name": "python",
   "nbconvert_exporter": "python",
   "pygments_lexer": "ipython3",
   "version": "3.9.15"
  }
 },
 "nbformat": 4,
 "nbformat_minor": 5
}
