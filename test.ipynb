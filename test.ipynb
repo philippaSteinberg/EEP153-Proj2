{
 "cells": [
  {
   "attachments": {},
   "cell_type": "markdown",
   "metadata": {},
   "source": [
    "# Project 2 Team Thomas Allinson "
   ]
  },
  {
   "cell_type": "markdown",
   "metadata": {},
   "source": []
  }
 ],
 "metadata": {
  "kernelspec": {
   "display_name": "Python 3",
   "language": "python",
   "name": "python3"
  },
  "language_info": {
   "name": "python",
   "version": "3.9.0"
  },
  "orig_nbformat": 4,
  "vscode": {
   "interpreter": {
    "hash": "dc5eb0c90e2f6c976a983a2fa1f7afdeb9926592d32c540a8be7fcdb78a03d65"
   }
  }
 },
 "nbformat": 4,
 "nbformat_minor": 2
}
