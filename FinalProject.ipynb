{
 "cells": [
  {
   "cell_type": "markdown",
   "id": "b1db067d",
   "metadata": {},
   "source": [
    "# Subsistence Cost Diet Project: Team Thomas Allinson"
   ]
  },
  {
   "cell_type": "markdown",
   "id": "1dcb8625",
   "metadata": {},
   "source": [
    "## [A] Population of interest\n",
    "Our team was curious to see how meals offered at a public middle school in Oakland, CA would measure up against a \"solved meal\". As such, we attempt to find a minimum cost diet for middle schoolers (ages 10-14) in Oakland. "
   ]
  },
  {
   "cell_type": "markdown",
   "id": "7c43958c",
   "metadata": {},
   "source": [
    "## [A] Dietary reference intakes\n",
    "A function that takes as arguments the characteristics of a person (e.g. age, sex) and returns a `pandas.Series` of Dietary Reference Intakes (DRI's) or \"Recommended Daily Allowances\" (RDAs) of a variety of nutrients appropriate for middle schoolers in Oakland.  "
   ]
  },
  {
   "cell_type": "code",
   "execution_count": 99,
   "id": "1788274d",
   "metadata": {},
   "outputs": [],
   "source": [
    "import pandas as pd\n",
    "from eep153_tools.sheets import read_sheets"
   ]
  },
  {
   "cell_type": "code",
   "execution_count": 100,
   "id": "0ab8e65a",
   "metadata": {},
   "outputs": [
    {
     "name": "stdout",
     "output_type": "stream",
     "text": [
      "Key available for students@eep153.iam.gserviceaccount.com.\n"
     ]
    },
    {
     "data": {
      "text/html": [
       "<div>\n",
       "<style scoped>\n",
       "    .dataframe tbody tr th:only-of-type {\n",
       "        vertical-align: middle;\n",
       "    }\n",
       "\n",
       "    .dataframe tbody tr th {\n",
       "        vertical-align: top;\n",
       "    }\n",
       "\n",
       "    .dataframe thead th {\n",
       "        text-align: right;\n",
       "    }\n",
       "</style>\n",
       "<table border=\"1\" class=\"dataframe\">\n",
       "  <thead>\n",
       "    <tr style=\"text-align: right;\">\n",
       "      <th></th>\n",
       "      <th>C 1-3</th>\n",
       "      <th>F 4-8</th>\n",
       "      <th>M 4-8</th>\n",
       "      <th>F 9-13</th>\n",
       "      <th>M 9-13</th>\n",
       "      <th>F 14-18</th>\n",
       "      <th>M 14-18</th>\n",
       "      <th>F 19-30</th>\n",
       "      <th>M 19-30</th>\n",
       "      <th>F 31-50</th>\n",
       "      <th>M 31-50</th>\n",
       "      <th>F 51+</th>\n",
       "      <th>M 51+</th>\n",
       "    </tr>\n",
       "    <tr>\n",
       "      <th>Nutrition</th>\n",
       "      <th></th>\n",
       "      <th></th>\n",
       "      <th></th>\n",
       "      <th></th>\n",
       "      <th></th>\n",
       "      <th></th>\n",
       "      <th></th>\n",
       "      <th></th>\n",
       "      <th></th>\n",
       "      <th></th>\n",
       "      <th></th>\n",
       "      <th></th>\n",
       "      <th></th>\n",
       "    </tr>\n",
       "  </thead>\n",
       "  <tbody>\n",
       "    <tr>\n",
       "      <th>Energy</th>\n",
       "      <td>1000.0</td>\n",
       "      <td>1200.0</td>\n",
       "      <td>1400.0</td>\n",
       "      <td>1600.0</td>\n",
       "      <td>1800.0</td>\n",
       "      <td>1800.0</td>\n",
       "      <td>2200.0</td>\n",
       "      <td>2000.0</td>\n",
       "      <td>2400.0</td>\n",
       "      <td>1800.0</td>\n",
       "      <td>2200.0</td>\n",
       "      <td>1600.0</td>\n",
       "      <td>2000.0</td>\n",
       "    </tr>\n",
       "    <tr>\n",
       "      <th>Protein</th>\n",
       "      <td>13.0</td>\n",
       "      <td>19.0</td>\n",
       "      <td>19.0</td>\n",
       "      <td>34.0</td>\n",
       "      <td>34.0</td>\n",
       "      <td>46.0</td>\n",
       "      <td>52.0</td>\n",
       "      <td>46.0</td>\n",
       "      <td>56.0</td>\n",
       "      <td>46.0</td>\n",
       "      <td>56.0</td>\n",
       "      <td>46.0</td>\n",
       "      <td>56.0</td>\n",
       "    </tr>\n",
       "    <tr>\n",
       "      <th>Fiber, total dietary</th>\n",
       "      <td>14.0</td>\n",
       "      <td>16.8</td>\n",
       "      <td>19.6</td>\n",
       "      <td>22.4</td>\n",
       "      <td>25.2</td>\n",
       "      <td>25.2</td>\n",
       "      <td>30.8</td>\n",
       "      <td>28.0</td>\n",
       "      <td>33.6</td>\n",
       "      <td>25.2</td>\n",
       "      <td>30.8</td>\n",
       "      <td>22.4</td>\n",
       "      <td>28.0</td>\n",
       "    </tr>\n",
       "    <tr>\n",
       "      <th>Folate, DFE</th>\n",
       "      <td>150.0</td>\n",
       "      <td>200.0</td>\n",
       "      <td>200.0</td>\n",
       "      <td>300.0</td>\n",
       "      <td>300.0</td>\n",
       "      <td>400.0</td>\n",
       "      <td>400.0</td>\n",
       "      <td>400.0</td>\n",
       "      <td>400.0</td>\n",
       "      <td>400.0</td>\n",
       "      <td>400.0</td>\n",
       "      <td>400.0</td>\n",
       "      <td>400.0</td>\n",
       "    </tr>\n",
       "    <tr>\n",
       "      <th>Calcium, Ca</th>\n",
       "      <td>700.0</td>\n",
       "      <td>1000.0</td>\n",
       "      <td>1000.0</td>\n",
       "      <td>1300.0</td>\n",
       "      <td>1300.0</td>\n",
       "      <td>1300.0</td>\n",
       "      <td>1300.0</td>\n",
       "      <td>1000.0</td>\n",
       "      <td>1000.0</td>\n",
       "      <td>1000.0</td>\n",
       "      <td>1000.0</td>\n",
       "      <td>1200.0</td>\n",
       "      <td>1000.0</td>\n",
       "    </tr>\n",
       "    <tr>\n",
       "      <th>Carbohydrate, by difference</th>\n",
       "      <td>130.0</td>\n",
       "      <td>130.0</td>\n",
       "      <td>130.0</td>\n",
       "      <td>130.0</td>\n",
       "      <td>130.0</td>\n",
       "      <td>130.0</td>\n",
       "      <td>130.0</td>\n",
       "      <td>130.0</td>\n",
       "      <td>130.0</td>\n",
       "      <td>130.0</td>\n",
       "      <td>130.0</td>\n",
       "      <td>130.0</td>\n",
       "      <td>130.0</td>\n",
       "    </tr>\n",
       "    <tr>\n",
       "      <th>Iron, Fe</th>\n",
       "      <td>7.0</td>\n",
       "      <td>10.0</td>\n",
       "      <td>10.0</td>\n",
       "      <td>8.0</td>\n",
       "      <td>8.0</td>\n",
       "      <td>15.0</td>\n",
       "      <td>11.0</td>\n",
       "      <td>18.0</td>\n",
       "      <td>8.0</td>\n",
       "      <td>18.0</td>\n",
       "      <td>8.0</td>\n",
       "      <td>8.0</td>\n",
       "      <td>8.0</td>\n",
       "    </tr>\n",
       "    <tr>\n",
       "      <th>Magnesium, Mg</th>\n",
       "      <td>80.0</td>\n",
       "      <td>130.0</td>\n",
       "      <td>130.0</td>\n",
       "      <td>240.0</td>\n",
       "      <td>240.0</td>\n",
       "      <td>360.0</td>\n",
       "      <td>410.0</td>\n",
       "      <td>310.0</td>\n",
       "      <td>400.0</td>\n",
       "      <td>320.0</td>\n",
       "      <td>420.0</td>\n",
       "      <td>320.0</td>\n",
       "      <td>420.0</td>\n",
       "    </tr>\n",
       "    <tr>\n",
       "      <th>Niacin</th>\n",
       "      <td>6.0</td>\n",
       "      <td>8.0</td>\n",
       "      <td>8.0</td>\n",
       "      <td>12.0</td>\n",
       "      <td>12.0</td>\n",
       "      <td>14.0</td>\n",
       "      <td>16.0</td>\n",
       "      <td>14.0</td>\n",
       "      <td>16.0</td>\n",
       "      <td>14.0</td>\n",
       "      <td>16.0</td>\n",
       "      <td>14.0</td>\n",
       "      <td>16.0</td>\n",
       "    </tr>\n",
       "    <tr>\n",
       "      <th>Phosphorus, P</th>\n",
       "      <td>460.0</td>\n",
       "      <td>500.0</td>\n",
       "      <td>500.0</td>\n",
       "      <td>1250.0</td>\n",
       "      <td>1250.0</td>\n",
       "      <td>1250.0</td>\n",
       "      <td>1250.0</td>\n",
       "      <td>700.0</td>\n",
       "      <td>700.0</td>\n",
       "      <td>700.0</td>\n",
       "      <td>700.0</td>\n",
       "      <td>700.0</td>\n",
       "      <td>700.0</td>\n",
       "    </tr>\n",
       "    <tr>\n",
       "      <th>Potassium, K</th>\n",
       "      <td>3000.0</td>\n",
       "      <td>3800.0</td>\n",
       "      <td>3800.0</td>\n",
       "      <td>4500.0</td>\n",
       "      <td>4500.0</td>\n",
       "      <td>4700.0</td>\n",
       "      <td>4700.0</td>\n",
       "      <td>4700.0</td>\n",
       "      <td>4700.0</td>\n",
       "      <td>4700.0</td>\n",
       "      <td>4700.0</td>\n",
       "      <td>4700.0</td>\n",
       "      <td>4700.0</td>\n",
       "    </tr>\n",
       "    <tr>\n",
       "      <th>Riboflavin</th>\n",
       "      <td>0.5</td>\n",
       "      <td>0.6</td>\n",
       "      <td>0.6</td>\n",
       "      <td>0.9</td>\n",
       "      <td>0.9</td>\n",
       "      <td>1.0</td>\n",
       "      <td>1.3</td>\n",
       "      <td>1.1</td>\n",
       "      <td>1.3</td>\n",
       "      <td>1.1</td>\n",
       "      <td>1.3</td>\n",
       "      <td>1.1</td>\n",
       "      <td>1.3</td>\n",
       "    </tr>\n",
       "    <tr>\n",
       "      <th>Thiamin</th>\n",
       "      <td>0.5</td>\n",
       "      <td>0.6</td>\n",
       "      <td>0.6</td>\n",
       "      <td>0.9</td>\n",
       "      <td>0.9</td>\n",
       "      <td>1.0</td>\n",
       "      <td>1.2</td>\n",
       "      <td>1.1</td>\n",
       "      <td>1.2</td>\n",
       "      <td>1.1</td>\n",
       "      <td>1.2</td>\n",
       "      <td>1.1</td>\n",
       "      <td>1.2</td>\n",
       "    </tr>\n",
       "    <tr>\n",
       "      <th>Vitamin A, RAE</th>\n",
       "      <td>300.0</td>\n",
       "      <td>400.0</td>\n",
       "      <td>400.0</td>\n",
       "      <td>600.0</td>\n",
       "      <td>600.0</td>\n",
       "      <td>700.0</td>\n",
       "      <td>900.0</td>\n",
       "      <td>700.0</td>\n",
       "      <td>900.0</td>\n",
       "      <td>700.0</td>\n",
       "      <td>900.0</td>\n",
       "      <td>700.0</td>\n",
       "      <td>900.0</td>\n",
       "    </tr>\n",
       "    <tr>\n",
       "      <th>Vitamin B-12</th>\n",
       "      <td>0.9</td>\n",
       "      <td>1.2</td>\n",
       "      <td>1.2</td>\n",
       "      <td>1.8</td>\n",
       "      <td>1.8</td>\n",
       "      <td>2.4</td>\n",
       "      <td>2.4</td>\n",
       "      <td>2.4</td>\n",
       "      <td>2.4</td>\n",
       "      <td>2.4</td>\n",
       "      <td>2.4</td>\n",
       "      <td>2.4</td>\n",
       "      <td>2.4</td>\n",
       "    </tr>\n",
       "    <tr>\n",
       "      <th>Vitamin B-6</th>\n",
       "      <td>0.5</td>\n",
       "      <td>0.6</td>\n",
       "      <td>0.6</td>\n",
       "      <td>1.0</td>\n",
       "      <td>1.0</td>\n",
       "      <td>1.2</td>\n",
       "      <td>1.3</td>\n",
       "      <td>1.3</td>\n",
       "      <td>1.3</td>\n",
       "      <td>1.3</td>\n",
       "      <td>1.3</td>\n",
       "      <td>1.5</td>\n",
       "      <td>1.7</td>\n",
       "    </tr>\n",
       "    <tr>\n",
       "      <th>Vitamin C, total ascorbic acid</th>\n",
       "      <td>15.0</td>\n",
       "      <td>25.0</td>\n",
       "      <td>25.0</td>\n",
       "      <td>45.0</td>\n",
       "      <td>45.0</td>\n",
       "      <td>65.0</td>\n",
       "      <td>75.0</td>\n",
       "      <td>75.0</td>\n",
       "      <td>90.0</td>\n",
       "      <td>75.0</td>\n",
       "      <td>90.0</td>\n",
       "      <td>75.0</td>\n",
       "      <td>90.0</td>\n",
       "    </tr>\n",
       "    <tr>\n",
       "      <th>Vitamin E (alpha-tocopherol)</th>\n",
       "      <td>6.0</td>\n",
       "      <td>7.0</td>\n",
       "      <td>7.0</td>\n",
       "      <td>11.0</td>\n",
       "      <td>11.0</td>\n",
       "      <td>15.0</td>\n",
       "      <td>15.0</td>\n",
       "      <td>15.0</td>\n",
       "      <td>15.0</td>\n",
       "      <td>15.0</td>\n",
       "      <td>15.0</td>\n",
       "      <td>15.0</td>\n",
       "      <td>15.0</td>\n",
       "    </tr>\n",
       "    <tr>\n",
       "      <th>Vitamin K (phylloquinone)</th>\n",
       "      <td>30.0</td>\n",
       "      <td>55.0</td>\n",
       "      <td>55.0</td>\n",
       "      <td>60.0</td>\n",
       "      <td>60.0</td>\n",
       "      <td>75.0</td>\n",
       "      <td>75.0</td>\n",
       "      <td>90.0</td>\n",
       "      <td>120.0</td>\n",
       "      <td>90.0</td>\n",
       "      <td>120.0</td>\n",
       "      <td>90.0</td>\n",
       "      <td>120.0</td>\n",
       "    </tr>\n",
       "    <tr>\n",
       "      <th>Zinc, Zn</th>\n",
       "      <td>3.0</td>\n",
       "      <td>5.0</td>\n",
       "      <td>5.0</td>\n",
       "      <td>8.0</td>\n",
       "      <td>8.0</td>\n",
       "      <td>9.0</td>\n",
       "      <td>11.0</td>\n",
       "      <td>8.0</td>\n",
       "      <td>11.0</td>\n",
       "      <td>8.0</td>\n",
       "      <td>11.0</td>\n",
       "      <td>8.0</td>\n",
       "      <td>11.0</td>\n",
       "    </tr>\n",
       "  </tbody>\n",
       "</table>\n",
       "</div>"
      ],
      "text/plain": [
       "                                 C 1-3   F 4-8   M 4-8  F 9-13  M 9-13  \\\n",
       "Nutrition                                                                \n",
       "Energy                          1000.0  1200.0  1400.0  1600.0  1800.0   \n",
       "Protein                           13.0    19.0    19.0    34.0    34.0   \n",
       "Fiber, total dietary              14.0    16.8    19.6    22.4    25.2   \n",
       "Folate, DFE                      150.0   200.0   200.0   300.0   300.0   \n",
       "Calcium, Ca                      700.0  1000.0  1000.0  1300.0  1300.0   \n",
       "Carbohydrate, by difference      130.0   130.0   130.0   130.0   130.0   \n",
       "Iron, Fe                           7.0    10.0    10.0     8.0     8.0   \n",
       "Magnesium, Mg                     80.0   130.0   130.0   240.0   240.0   \n",
       "Niacin                             6.0     8.0     8.0    12.0    12.0   \n",
       "Phosphorus, P                    460.0   500.0   500.0  1250.0  1250.0   \n",
       "Potassium, K                    3000.0  3800.0  3800.0  4500.0  4500.0   \n",
       "Riboflavin                         0.5     0.6     0.6     0.9     0.9   \n",
       "Thiamin                            0.5     0.6     0.6     0.9     0.9   \n",
       "Vitamin A, RAE                   300.0   400.0   400.0   600.0   600.0   \n",
       "Vitamin B-12                       0.9     1.2     1.2     1.8     1.8   \n",
       "Vitamin B-6                        0.5     0.6     0.6     1.0     1.0   \n",
       "Vitamin C, total ascorbic acid    15.0    25.0    25.0    45.0    45.0   \n",
       "Vitamin E (alpha-tocopherol)       6.0     7.0     7.0    11.0    11.0   \n",
       "Vitamin K (phylloquinone)         30.0    55.0    55.0    60.0    60.0   \n",
       "Zinc, Zn                           3.0     5.0     5.0     8.0     8.0   \n",
       "\n",
       "                                F 14-18  M 14-18  F 19-30  M 19-30  F 31-50  \\\n",
       "Nutrition                                                                     \n",
       "Energy                           1800.0   2200.0   2000.0   2400.0   1800.0   \n",
       "Protein                            46.0     52.0     46.0     56.0     46.0   \n",
       "Fiber, total dietary               25.2     30.8     28.0     33.6     25.2   \n",
       "Folate, DFE                       400.0    400.0    400.0    400.0    400.0   \n",
       "Calcium, Ca                      1300.0   1300.0   1000.0   1000.0   1000.0   \n",
       "Carbohydrate, by difference       130.0    130.0    130.0    130.0    130.0   \n",
       "Iron, Fe                           15.0     11.0     18.0      8.0     18.0   \n",
       "Magnesium, Mg                     360.0    410.0    310.0    400.0    320.0   \n",
       "Niacin                             14.0     16.0     14.0     16.0     14.0   \n",
       "Phosphorus, P                    1250.0   1250.0    700.0    700.0    700.0   \n",
       "Potassium, K                     4700.0   4700.0   4700.0   4700.0   4700.0   \n",
       "Riboflavin                          1.0      1.3      1.1      1.3      1.1   \n",
       "Thiamin                             1.0      1.2      1.1      1.2      1.1   \n",
       "Vitamin A, RAE                    700.0    900.0    700.0    900.0    700.0   \n",
       "Vitamin B-12                        2.4      2.4      2.4      2.4      2.4   \n",
       "Vitamin B-6                         1.2      1.3      1.3      1.3      1.3   \n",
       "Vitamin C, total ascorbic acid     65.0     75.0     75.0     90.0     75.0   \n",
       "Vitamin E (alpha-tocopherol)       15.0     15.0     15.0     15.0     15.0   \n",
       "Vitamin K (phylloquinone)          75.0     75.0     90.0    120.0     90.0   \n",
       "Zinc, Zn                            9.0     11.0      8.0     11.0      8.0   \n",
       "\n",
       "                                M 31-50   F 51+   M 51+  \n",
       "Nutrition                                                \n",
       "Energy                           2200.0  1600.0  2000.0  \n",
       "Protein                            56.0    46.0    56.0  \n",
       "Fiber, total dietary               30.8    22.4    28.0  \n",
       "Folate, DFE                       400.0   400.0   400.0  \n",
       "Calcium, Ca                      1000.0  1200.0  1000.0  \n",
       "Carbohydrate, by difference       130.0   130.0   130.0  \n",
       "Iron, Fe                            8.0     8.0     8.0  \n",
       "Magnesium, Mg                     420.0   320.0   420.0  \n",
       "Niacin                             16.0    14.0    16.0  \n",
       "Phosphorus, P                     700.0   700.0   700.0  \n",
       "Potassium, K                     4700.0  4700.0  4700.0  \n",
       "Riboflavin                          1.3     1.1     1.3  \n",
       "Thiamin                             1.2     1.1     1.2  \n",
       "Vitamin A, RAE                    900.0   700.0   900.0  \n",
       "Vitamin B-12                        2.4     2.4     2.4  \n",
       "Vitamin B-6                         1.3     1.5     1.7  \n",
       "Vitamin C, total ascorbic acid     90.0    75.0    90.0  \n",
       "Vitamin E (alpha-tocopherol)       15.0    15.0    15.0  \n",
       "Vitamin K (phylloquinone)         120.0    90.0   120.0  \n",
       "Zinc, Zn                           11.0     8.0    11.0  "
      ]
     },
     "execution_count": 100,
     "metadata": {},
     "output_type": "execute_result"
    }
   ],
   "source": [
    "RDIs = read_sheets('https://docs.google.com/spreadsheets/d/1y95IsQ4HKspPW3HHDtH7QMtlDA66IUsCHJLutVL-MMc/')\n",
    "\n",
    "bmin = RDIs['diet_minimums'].set_index('Nutrition')\n",
    "\n",
    "# Drop string describing source\n",
    "bmin = bmin.drop('Source',axis=1)\n",
    "\n",
    "bmin"
   ]
  },
  {
   "cell_type": "code",
   "execution_count": 101,
   "id": "8347a16f",
   "metadata": {},
   "outputs": [
    {
     "data": {
      "text/html": [
       "<div>\n",
       "<style scoped>\n",
       "    .dataframe tbody tr th:only-of-type {\n",
       "        vertical-align: middle;\n",
       "    }\n",
       "\n",
       "    .dataframe tbody tr th {\n",
       "        vertical-align: top;\n",
       "    }\n",
       "\n",
       "    .dataframe thead th {\n",
       "        text-align: right;\n",
       "    }\n",
       "</style>\n",
       "<table border=\"1\" class=\"dataframe\">\n",
       "  <thead>\n",
       "    <tr style=\"text-align: right;\">\n",
       "      <th></th>\n",
       "      <th>C 1-3</th>\n",
       "      <th>F 4-8</th>\n",
       "      <th>M 4-8</th>\n",
       "      <th>F 9-13</th>\n",
       "      <th>M 9-13</th>\n",
       "      <th>F 14-18</th>\n",
       "      <th>M 14-18</th>\n",
       "      <th>F 19-30</th>\n",
       "      <th>M 19-30</th>\n",
       "      <th>F 31-50</th>\n",
       "      <th>M 31-50</th>\n",
       "      <th>F 51+</th>\n",
       "      <th>M 51+</th>\n",
       "    </tr>\n",
       "    <tr>\n",
       "      <th>Nutrition</th>\n",
       "      <th></th>\n",
       "      <th></th>\n",
       "      <th></th>\n",
       "      <th></th>\n",
       "      <th></th>\n",
       "      <th></th>\n",
       "      <th></th>\n",
       "      <th></th>\n",
       "      <th></th>\n",
       "      <th></th>\n",
       "      <th></th>\n",
       "      <th></th>\n",
       "      <th></th>\n",
       "    </tr>\n",
       "  </thead>\n",
       "  <tbody>\n",
       "    <tr>\n",
       "      <th>Sodium, Na</th>\n",
       "      <td>1500</td>\n",
       "      <td>1900</td>\n",
       "      <td>1900</td>\n",
       "      <td>2200</td>\n",
       "      <td>2200</td>\n",
       "      <td>2300</td>\n",
       "      <td>2300</td>\n",
       "      <td>2300</td>\n",
       "      <td>2300</td>\n",
       "      <td>2300</td>\n",
       "      <td>2300</td>\n",
       "      <td>2300</td>\n",
       "      <td>2300</td>\n",
       "    </tr>\n",
       "    <tr>\n",
       "      <th>Energy</th>\n",
       "      <td>2500</td>\n",
       "      <td>2500</td>\n",
       "      <td>2500</td>\n",
       "      <td>2800</td>\n",
       "      <td>3000</td>\n",
       "      <td>3100</td>\n",
       "      <td>3100</td>\n",
       "      <td>3100</td>\n",
       "      <td>3100</td>\n",
       "      <td>3100</td>\n",
       "      <td>3100</td>\n",
       "      <td>3100</td>\n",
       "      <td>3100</td>\n",
       "    </tr>\n",
       "  </tbody>\n",
       "</table>\n",
       "</div>"
      ],
      "text/plain": [
       "            C 1-3  F 4-8  M 4-8  F 9-13  M 9-13  F 14-18  M 14-18  F 19-30  \\\n",
       "Nutrition                                                                    \n",
       "Sodium, Na   1500   1900   1900    2200    2200     2300     2300     2300   \n",
       "Energy       2500   2500   2500    2800    3000     3100     3100     3100   \n",
       "\n",
       "            M 19-30  F 31-50  M 31-50  F 51+  M 51+  \n",
       "Nutrition                                            \n",
       "Sodium, Na     2300     2300     2300   2300   2300  \n",
       "Energy         3100     3100     3100   3100   3100  "
      ]
     },
     "execution_count": 101,
     "metadata": {},
     "output_type": "execute_result"
    }
   ],
   "source": [
    "bmax = RDIs['diet_maximums'].set_index('Nutrition')\n",
    "\n",
    "# Drop string describing source\n",
    "bmax = bmax.drop('Source',axis=1)\n",
    "\n",
    "bmax"
   ]
  },
  {
   "cell_type": "code",
   "execution_count": 102,
   "id": "2ebbf449",
   "metadata": {},
   "outputs": [],
   "source": [
    "def dris(age, sex, req):\n",
    "    \n",
    "    assert(type(age)), \"`age` must be an integer from 10 to 14\"\n",
    "    assert(sex == \"female\" or sex == \"male\"), \"`sex` must be 'female' or `male`\"\n",
    "    assert(req == 'min' or req == 'max')\n",
    "    \n",
    "    label = \"\"  \n",
    "    if sex == \"female\":\n",
    "        label += \"F\"\n",
    "    \n",
    "    elif sex == \"male\":\n",
    "        label += \"M\"\n",
    "        \n",
    "    if age <= 13:\n",
    "        label += \" 9-13\"\n",
    "    \n",
    "    else:\n",
    "        label += \" 14-18\"\n",
    "           \n",
    "    if req == 'min':\n",
    "        return bmin[label]\n",
    "        \n",
    "    else:\n",
    "        return bmax[label]\n",
    "    "
   ]
  },
  {
   "cell_type": "code",
   "execution_count": 103,
   "id": "b6f83de2",
   "metadata": {},
   "outputs": [
    {
     "data": {
      "text/plain": [
       "Nutrition\n",
       "Energy                            1800.0\n",
       "Protein                             34.0\n",
       "Fiber, total dietary                25.2\n",
       "Folate, DFE                        300.0\n",
       "Calcium, Ca                       1300.0\n",
       "Carbohydrate, by difference        130.0\n",
       "Iron, Fe                             8.0\n",
       "Magnesium, Mg                      240.0\n",
       "Niacin                              12.0\n",
       "Phosphorus, P                     1250.0\n",
       "Potassium, K                      4500.0\n",
       "Riboflavin                           0.9\n",
       "Thiamin                              0.9\n",
       "Vitamin A, RAE                     600.0\n",
       "Vitamin B-12                         1.8\n",
       "Vitamin B-6                          1.0\n",
       "Vitamin C, total ascorbic acid      45.0\n",
       "Vitamin E (alpha-tocopherol)        11.0\n",
       "Vitamin K (phylloquinone)           60.0\n",
       "Zinc, Zn                             8.0\n",
       "Name: M 9-13, dtype: float64"
      ]
     },
     "execution_count": 103,
     "metadata": {},
     "output_type": "execute_result"
    }
   ],
   "source": [
    "dris(10, \"male\", 'min')"
   ]
  },
  {
   "cell_type": "markdown",
   "id": "bd34d3b2",
   "metadata": {},
   "source": [
    "## [A] Data on prices for different foods\n",
    "Using a school lunch menu, we construct a google spreadsheet of the prices of the foods available for a typical lunch. That is, we found prices for a main course (a cheeseburger), foods in \"daily produce bar\", foods in \"harvest of the month\", and 1% and nonfat milk. \n",
    "\n",
    "Spreadsheet with Trader Joe's prices: https://docs.google.com/spreadsheets/d/1Ml9KIH_HLl64Y8zTldoghUu5ZhTY7IXanN77itVAxRM/edit#gid=0\n",
    "\n",
    "Spreadsheet with Amazon Fresh prices: \n",
    "\n",
    "School lunch menu: https://www.ousd.org/cms/lib/CA01001176/Centricity/Domain/6652/February%202023%20K8%20Satellite%20Menu.pdf"
   ]
  },
  {
   "cell_type": "code",
   "execution_count": 104,
   "id": "6c1cada4",
   "metadata": {},
   "outputs": [
    {
     "name": "stdout",
     "output_type": "stream",
     "text": [
      "Key available for students@eep153.iam.gserviceaccount.com.\n"
     ]
    },
    {
     "data": {
      "text/html": [
       "<div>\n",
       "<style scoped>\n",
       "    .dataframe tbody tr th:only-of-type {\n",
       "        vertical-align: middle;\n",
       "    }\n",
       "\n",
       "    .dataframe tbody tr th {\n",
       "        vertical-align: top;\n",
       "    }\n",
       "\n",
       "    .dataframe thead th {\n",
       "        text-align: right;\n",
       "    }\n",
       "</style>\n",
       "<table border=\"1\" class=\"dataframe\">\n",
       "  <thead>\n",
       "    <tr style=\"text-align: right;\">\n",
       "      <th></th>\n",
       "      <th>Food</th>\n",
       "      <th>Quantity</th>\n",
       "      <th>Units</th>\n",
       "      <th>Price</th>\n",
       "      <th>Date</th>\n",
       "      <th>Location</th>\n",
       "      <th>FDC</th>\n",
       "    </tr>\n",
       "  </thead>\n",
       "  <tbody>\n",
       "    <tr>\n",
       "      <th>0</th>\n",
       "      <td>Bread</td>\n",
       "      <td>100</td>\n",
       "      <td>g</td>\n",
       "      <td>1.33</td>\n",
       "      <td>2023/02/28</td>\n",
       "      <td>MI Ranchito Bayside Market</td>\n",
       "      <td>2431121</td>\n",
       "    </tr>\n",
       "    <tr>\n",
       "      <th>1</th>\n",
       "      <td>Cheese</td>\n",
       "      <td>8</td>\n",
       "      <td>oz</td>\n",
       "      <td>3.49</td>\n",
       "      <td>2023/02/27</td>\n",
       "      <td>Trader Joe's</td>\n",
       "      <td>2383425</td>\n",
       "    </tr>\n",
       "    <tr>\n",
       "      <th>2</th>\n",
       "      <td>Ground Beef</td>\n",
       "      <td>16</td>\n",
       "      <td>oz</td>\n",
       "      <td>4.99</td>\n",
       "      <td>2023/02/27</td>\n",
       "      <td>Trader Joe's</td>\n",
       "      <td>1662368</td>\n",
       "    </tr>\n",
       "    <tr>\n",
       "      <th>3</th>\n",
       "      <td>cheese burger</td>\n",
       "      <td>1</td>\n",
       "      <td>cheese burger</td>\n",
       "      <td>3.01</td>\n",
       "      <td>2023/02/27</td>\n",
       "      <td>Trader Joe's</td>\n",
       "      <td>2022263</td>\n",
       "    </tr>\n",
       "    <tr>\n",
       "      <th>4</th>\n",
       "      <td>1% fat milk</td>\n",
       "      <td>1</td>\n",
       "      <td>gallon</td>\n",
       "      <td>4.39</td>\n",
       "      <td>2023/02/27</td>\n",
       "      <td>Trader Joe's</td>\n",
       "      <td>2340764</td>\n",
       "    </tr>\n",
       "    <tr>\n",
       "      <th>5</th>\n",
       "      <td>red apple</td>\n",
       "      <td>1</td>\n",
       "      <td>pound</td>\n",
       "      <td>0.99</td>\n",
       "      <td>2023/02/28</td>\n",
       "      <td>MI Ranchito Bayside Market</td>\n",
       "      <td>1750339</td>\n",
       "    </tr>\n",
       "    <tr>\n",
       "      <th>6</th>\n",
       "      <td>edamame</td>\n",
       "      <td>1</td>\n",
       "      <td>pound</td>\n",
       "      <td>1.89</td>\n",
       "      <td>2023/02/28</td>\n",
       "      <td>MI Ranchito Bayside Market</td>\n",
       "      <td>2384458</td>\n",
       "    </tr>\n",
       "    <tr>\n",
       "      <th>7</th>\n",
       "      <td>mini carrot</td>\n",
       "      <td>1</td>\n",
       "      <td>pound</td>\n",
       "      <td>1.49</td>\n",
       "      <td>2023/02/28</td>\n",
       "      <td>Target</td>\n",
       "      <td>2345173</td>\n",
       "    </tr>\n",
       "    <tr>\n",
       "      <th>8</th>\n",
       "      <td>mandarin</td>\n",
       "      <td>2</td>\n",
       "      <td>pound</td>\n",
       "      <td>3.99</td>\n",
       "      <td>2023/02/27</td>\n",
       "      <td>Trader Joe's</td>\n",
       "      <td>169105</td>\n",
       "    </tr>\n",
       "    <tr>\n",
       "      <th>9</th>\n",
       "      <td>cauliflower</td>\n",
       "      <td>2</td>\n",
       "      <td>pound</td>\n",
       "      <td>2.99</td>\n",
       "      <td>2023/02/27</td>\n",
       "      <td>Trader Joe's</td>\n",
       "      <td>2409200</td>\n",
       "    </tr>\n",
       "    <tr>\n",
       "      <th>10</th>\n",
       "      <td>celery stick</td>\n",
       "      <td>1</td>\n",
       "      <td>oz</td>\n",
       "      <td>0.27</td>\n",
       "      <td>2023/03/03</td>\n",
       "      <td>Amazon Fresh</td>\n",
       "      <td>2345298</td>\n",
       "    </tr>\n",
       "    <tr>\n",
       "      <th>11</th>\n",
       "      <td>bosc pear</td>\n",
       "      <td>1</td>\n",
       "      <td>pound</td>\n",
       "      <td>1.49</td>\n",
       "      <td>2023/02/28</td>\n",
       "      <td>MI Ranchito Bayside Market</td>\n",
       "      <td>1662757</td>\n",
       "    </tr>\n",
       "    <tr>\n",
       "      <th>12</th>\n",
       "      <td>orange</td>\n",
       "      <td>4</td>\n",
       "      <td>pound</td>\n",
       "      <td>4.99</td>\n",
       "      <td>2023/02/27</td>\n",
       "      <td>Trader Joe's</td>\n",
       "      <td>1864680</td>\n",
       "    </tr>\n",
       "    <tr>\n",
       "      <th>13</th>\n",
       "      <td>jicama stick</td>\n",
       "      <td>1</td>\n",
       "      <td>pound</td>\n",
       "      <td>3.94</td>\n",
       "      <td>2023/03/03</td>\n",
       "      <td>Amazon Fresh</td>\n",
       "      <td>2345307</td>\n",
       "    </tr>\n",
       "    <tr>\n",
       "      <th>14</th>\n",
       "      <td>spinach</td>\n",
       "      <td>1</td>\n",
       "      <td>oz</td>\n",
       "      <td>0.50</td>\n",
       "      <td>2023/03/03</td>\n",
       "      <td>Amazon Fresh</td>\n",
       "      <td>721056</td>\n",
       "    </tr>\n",
       "    <tr>\n",
       "      <th>15</th>\n",
       "      <td>kiwi</td>\n",
       "      <td>1</td>\n",
       "      <td>pound</td>\n",
       "      <td>1.99</td>\n",
       "      <td>2023/02/28</td>\n",
       "      <td>MI Ranchito Bayside Market</td>\n",
       "      <td>1898469</td>\n",
       "    </tr>\n",
       "    <tr>\n",
       "      <th>16</th>\n",
       "      <td>bartlett pear</td>\n",
       "      <td>1</td>\n",
       "      <td>pound</td>\n",
       "      <td>1.69</td>\n",
       "      <td>2023/03/03</td>\n",
       "      <td>Amazon Fresh</td>\n",
       "      <td>746773</td>\n",
       "    </tr>\n",
       "  </tbody>\n",
       "</table>\n",
       "</div>"
      ],
      "text/plain": [
       "              Food  Quantity           Units  Price        Date  \\\n",
       "0            Bread       100               g   1.33  2023/02/28   \n",
       "1           Cheese         8              oz   3.49  2023/02/27   \n",
       "2      Ground Beef        16              oz   4.99  2023/02/27   \n",
       "3   cheese burger          1  cheese burger    3.01  2023/02/27   \n",
       "4      1% fat milk         1          gallon   4.39  2023/02/27   \n",
       "5        red apple         1           pound   0.99  2023/02/28   \n",
       "6          edamame         1           pound   1.89  2023/02/28   \n",
       "7      mini carrot         1           pound   1.49  2023/02/28   \n",
       "8         mandarin         2           pound   3.99  2023/02/27   \n",
       "9      cauliflower         2           pound   2.99  2023/02/27   \n",
       "10    celery stick         1              oz   0.27  2023/03/03   \n",
       "11      bosc pear          1           pound   1.49  2023/02/28   \n",
       "12          orange         4           pound   4.99  2023/02/27   \n",
       "13    jicama stick         1           pound   3.94  2023/03/03   \n",
       "14        spinach          1              oz   0.50  2023/03/03   \n",
       "15            kiwi         1           pound   1.99  2023/02/28   \n",
       "16   bartlett pear         1           pound   1.69  2023/03/03   \n",
       "\n",
       "                      Location      FDC  \n",
       "0   MI Ranchito Bayside Market  2431121  \n",
       "1                 Trader Joe's  2383425  \n",
       "2                 Trader Joe's  1662368  \n",
       "3                Trader Joe's   2022263  \n",
       "4                 Trader Joe's  2340764  \n",
       "5   MI Ranchito Bayside Market  1750339  \n",
       "6   MI Ranchito Bayside Market  2384458  \n",
       "7                       Target  2345173  \n",
       "8                 Trader Joe's   169105  \n",
       "9                 Trader Joe's  2409200  \n",
       "10               Amazon Fresh   2345298  \n",
       "11  MI Ranchito Bayside Market  1662757  \n",
       "12                Trader Joe's  1864680  \n",
       "13               Amazon Fresh   2345307  \n",
       "14               Amazon Fresh    721056  \n",
       "15  MI Ranchito Bayside Market  1898469  \n",
       "16               Amazon Fresh    746773  "
      ]
     },
     "execution_count": 104,
     "metadata": {},
     "output_type": "execute_result"
    }
   ],
   "source": [
    "df = read_sheets(\"https://docs.google.com/spreadsheets/d/1Ml9KIH_HLl64Y8zTldoghUu5ZhTY7IXanN77itVAxRM/edit#gid=0\",\n",
    "                 sheet='prices')\n",
    "\n",
    "df = df.set_index('Food')\n",
    "df = df.reset_index()\n",
    "df"
   ]
  },
  {
   "cell_type": "code",
   "execution_count": 105,
   "id": "eed8f4c3",
   "metadata": {},
   "outputs": [
    {
     "name": "stderr",
     "output_type": "stream",
     "text": [
      "/opt/conda/lib/python3.9/site-packages/pandas/core/dtypes/cast.py:1990: UnitStrippedWarning:\n",
      "\n",
      "The unit of the quantity is stripped when downcasting to ndarray.\n",
      "\n"
     ]
    },
    {
     "data": {
      "text/plain": [
       "Food\n",
       "Bread                            1.33 / hectogram\n",
       "Cheese             1.5388265900504454 / hectogram\n",
       "Ground Beef         1.100106688302539 / hectogram\n",
       "cheese burger                    nan / milliliter\n",
       "1% fat milk       0.11597153098522718 / deciliter\n",
       "red apple         0.21825763956302877 / hectogram\n",
       "edamame           0.41667367552941853 / hectogram\n",
       "mini carrot       0.32848877065546755 / hectogram\n",
       "mandarin          0.43982221305883074 / hectogram\n",
       "cauliflower         0.329591081966392 / hectogram\n",
       "celery stick       0.9523969726386711 / hectogram\n",
       "bosc pear         0.32848877065546755 / hectogram\n",
       "orange            0.27502667207563475 / hectogram\n",
       "jicama stick       0.8686213130084175 / hectogram\n",
       "spinach            1.7636980974790204 / hectogram\n",
       "kiwi               0.4387199017479063 / hectogram\n",
       "bartlett pear     0.37258122309244307 / hectogram\n",
       "Name: FDC Price, dtype: object"
      ]
     },
     "execution_count": 105,
     "metadata": {},
     "output_type": "execute_result"
    }
   ],
   "source": [
    "# Convert food quantities to FDC units\n",
    "\n",
    "df = df.dropna(how='any') # Drop food with any missing data\n",
    "df['FDC Quantity'] = df[['Quantity','Units']].T.apply(lambda x : fdc.units(x['Quantity'],x['Units']))\n",
    "\n",
    "# Now may want to filter df by time or place--need to get a unique set of food names.\n",
    "df['FDC Price'] = df['Price']/df['FDC Quantity']\n",
    "\n",
    "# To use minimum price observed\n",
    "Prices = df.groupby('Food',sort=False)['FDC Price'].min()\n",
    "\n",
    "Prices"
   ]
  },
  {
   "cell_type": "markdown",
   "id": "8dbe8de0",
   "metadata": {},
   "source": [
    "## Nutritional content of different foods "
   ]
  },
  {
   "cell_type": "code",
   "execution_count": 106,
   "id": "296a16bc",
   "metadata": {},
   "outputs": [],
   "source": [
    "api_lst = [\"9pWr4Z38nFyytVVF2LPQWJ5G3x5SrVO0Px3MbQOl\",\n",
    "           \"bShyCnUYYfY6eP3qyUt6VGY1MqEQklrOeuwPUps5\",\n",
    "           \"5EVJteEMrjnX73GRj4Q9qqB3NWqIObFujtP4fBGI\",\n",
    "           \"saSE5uqp940Hmw6imfc1FaCo6qFJS9dOH8RIjSJW\"\n",
    "          ]\n",
    "apikey = api_lst[0]"
   ]
  },
  {
   "cell_type": "code",
   "execution_count": 107,
   "id": "7c54245c",
   "metadata": {},
   "outputs": [
    {
     "name": "stdout",
     "output_type": "stream",
     "text": [
      "Requirement already satisfied: pint>=0.18 in /opt/conda/lib/python3.9/site-packages (from -r requirements.txt (line 3)) (0.20.1)\n",
      "Requirement already satisfied: requests>=2.26.0 in /opt/conda/lib/python3.9/site-packages (from -r requirements.txt (line 6)) (2.26.0)\n",
      "Requirement already satisfied: python-gnupg in /opt/conda/lib/python3.9/site-packages (from -r requirements.txt (line 8)) (0.5.0)\n",
      "Requirement already satisfied: eep153_tools in /opt/conda/lib/python3.9/site-packages (from -r requirements.txt (line 10)) (0.11)\n",
      "Requirement already satisfied: fooddatacentral in /opt/conda/lib/python3.9/site-packages (from -r requirements.txt (line 12)) (1.0.9)\n",
      "Requirement already satisfied: charset-normalizer~=2.0.0 in /opt/conda/lib/python3.9/site-packages (from requests>=2.26.0->-r requirements.txt (line 6)) (2.0.0)\n",
      "Requirement already satisfied: idna<4,>=2.5 in /opt/conda/lib/python3.9/site-packages (from requests>=2.26.0->-r requirements.txt (line 6)) (3.1)\n",
      "Requirement already satisfied: certifi>=2017.4.17 in /opt/conda/lib/python3.9/site-packages (from requests>=2.26.0->-r requirements.txt (line 6)) (2021.10.8)\n",
      "Requirement already satisfied: urllib3<1.27,>=1.21.1 in /opt/conda/lib/python3.9/site-packages (from requests>=2.26.0->-r requirements.txt (line 6)) (1.26.7)\n",
      "Note: you may need to restart the kernel to use updated packages.\n"
     ]
    }
   ],
   "source": [
    "%pip install -r requirements.txt"
   ]
  },
  {
   "cell_type": "code",
   "execution_count": 108,
   "id": "a435ab93",
   "metadata": {},
   "outputs": [],
   "source": [
    "from  scipy.optimize import linprog as lp\n",
    "import numpy as np\n",
    "import warnings\n",
    "import fooddatacentral as fdc"
   ]
  },
  {
   "cell_type": "code",
   "execution_count": 110,
   "id": "355f297a",
   "metadata": {},
   "outputs": [
    {
     "data": {
      "text/html": [
       "<div>\n",
       "<style scoped>\n",
       "    .dataframe tbody tr th:only-of-type {\n",
       "        vertical-align: middle;\n",
       "    }\n",
       "\n",
       "    .dataframe tbody tr th {\n",
       "        vertical-align: top;\n",
       "    }\n",
       "\n",
       "    .dataframe thead th {\n",
       "        text-align: right;\n",
       "    }\n",
       "</style>\n",
       "<table border=\"1\" class=\"dataframe\">\n",
       "  <thead>\n",
       "    <tr style=\"text-align: right;\">\n",
       "      <th></th>\n",
       "      <th>Bread</th>\n",
       "      <th>Cheese</th>\n",
       "      <th>Ground Beef</th>\n",
       "      <th>cheese burger</th>\n",
       "      <th>1% fat milk</th>\n",
       "      <th>red apple</th>\n",
       "      <th>edamame</th>\n",
       "      <th>mini carrot</th>\n",
       "      <th>mandarin</th>\n",
       "      <th>cauliflower</th>\n",
       "      <th>celery stick</th>\n",
       "      <th>bosc pear</th>\n",
       "      <th>orange</th>\n",
       "      <th>jicama stick</th>\n",
       "      <th>spinach</th>\n",
       "      <th>kiwi</th>\n",
       "      <th>bartlett pear</th>\n",
       "    </tr>\n",
       "  </thead>\n",
       "  <tbody>\n",
       "    <tr>\n",
       "      <th>Alanine</th>\n",
       "      <td>NaN</td>\n",
       "      <td>NaN</td>\n",
       "      <td>NaN</td>\n",
       "      <td>NaN</td>\n",
       "      <td>NaN</td>\n",
       "      <td>NaN</td>\n",
       "      <td>NaN</td>\n",
       "      <td>NaN</td>\n",
       "      <td>0.028</td>\n",
       "      <td>NaN</td>\n",
       "      <td>NaN</td>\n",
       "      <td>NaN</td>\n",
       "      <td>NaN</td>\n",
       "      <td>NaN</td>\n",
       "      <td>NaN</td>\n",
       "      <td>NaN</td>\n",
       "      <td>0.016</td>\n",
       "    </tr>\n",
       "    <tr>\n",
       "      <th>Alcohol, ethyl</th>\n",
       "      <td>NaN</td>\n",
       "      <td>NaN</td>\n",
       "      <td>NaN</td>\n",
       "      <td>NaN</td>\n",
       "      <td>0.00</td>\n",
       "      <td>NaN</td>\n",
       "      <td>NaN</td>\n",
       "      <td>0.00</td>\n",
       "      <td>0.000</td>\n",
       "      <td>NaN</td>\n",
       "      <td>0.00</td>\n",
       "      <td>NaN</td>\n",
       "      <td>NaN</td>\n",
       "      <td>0.00</td>\n",
       "      <td>NaN</td>\n",
       "      <td>NaN</td>\n",
       "      <td>NaN</td>\n",
       "    </tr>\n",
       "    <tr>\n",
       "      <th>Amino acids</th>\n",
       "      <td>NaN</td>\n",
       "      <td>NaN</td>\n",
       "      <td>NaN</td>\n",
       "      <td>NaN</td>\n",
       "      <td>NaN</td>\n",
       "      <td>NaN</td>\n",
       "      <td>NaN</td>\n",
       "      <td>NaN</td>\n",
       "      <td>0.000</td>\n",
       "      <td>NaN</td>\n",
       "      <td>NaN</td>\n",
       "      <td>NaN</td>\n",
       "      <td>NaN</td>\n",
       "      <td>NaN</td>\n",
       "      <td>NaN</td>\n",
       "      <td>NaN</td>\n",
       "      <td>0.000</td>\n",
       "    </tr>\n",
       "    <tr>\n",
       "      <th>Arginine</th>\n",
       "      <td>NaN</td>\n",
       "      <td>NaN</td>\n",
       "      <td>NaN</td>\n",
       "      <td>NaN</td>\n",
       "      <td>NaN</td>\n",
       "      <td>NaN</td>\n",
       "      <td>NaN</td>\n",
       "      <td>NaN</td>\n",
       "      <td>0.068</td>\n",
       "      <td>NaN</td>\n",
       "      <td>NaN</td>\n",
       "      <td>NaN</td>\n",
       "      <td>NaN</td>\n",
       "      <td>NaN</td>\n",
       "      <td>NaN</td>\n",
       "      <td>NaN</td>\n",
       "      <td>0.012</td>\n",
       "    </tr>\n",
       "    <tr>\n",
       "      <th>Ash</th>\n",
       "      <td>NaN</td>\n",
       "      <td>NaN</td>\n",
       "      <td>NaN</td>\n",
       "      <td>NaN</td>\n",
       "      <td>NaN</td>\n",
       "      <td>0.14830</td>\n",
       "      <td>NaN</td>\n",
       "      <td>NaN</td>\n",
       "      <td>0.380</td>\n",
       "      <td>NaN</td>\n",
       "      <td>NaN</td>\n",
       "      <td>NaN</td>\n",
       "      <td>NaN</td>\n",
       "      <td>NaN</td>\n",
       "      <td>NaN</td>\n",
       "      <td>NaN</td>\n",
       "      <td>0.300</td>\n",
       "    </tr>\n",
       "    <tr>\n",
       "      <th>...</th>\n",
       "      <td>...</td>\n",
       "      <td>...</td>\n",
       "      <td>...</td>\n",
       "      <td>...</td>\n",
       "      <td>...</td>\n",
       "      <td>...</td>\n",
       "      <td>...</td>\n",
       "      <td>...</td>\n",
       "      <td>...</td>\n",
       "      <td>...</td>\n",
       "      <td>...</td>\n",
       "      <td>...</td>\n",
       "      <td>...</td>\n",
       "      <td>...</td>\n",
       "      <td>...</td>\n",
       "      <td>...</td>\n",
       "      <td>...</td>\n",
       "    </tr>\n",
       "    <tr>\n",
       "      <th>Vitamin K (Dihydrophylloquinone)</th>\n",
       "      <td>NaN</td>\n",
       "      <td>NaN</td>\n",
       "      <td>NaN</td>\n",
       "      <td>NaN</td>\n",
       "      <td>NaN</td>\n",
       "      <td>NaN</td>\n",
       "      <td>NaN</td>\n",
       "      <td>NaN</td>\n",
       "      <td>0.000</td>\n",
       "      <td>NaN</td>\n",
       "      <td>NaN</td>\n",
       "      <td>NaN</td>\n",
       "      <td>NaN</td>\n",
       "      <td>NaN</td>\n",
       "      <td>NaN</td>\n",
       "      <td>NaN</td>\n",
       "      <td>0.000</td>\n",
       "    </tr>\n",
       "    <tr>\n",
       "      <th>Vitamin K (phylloquinone)</th>\n",
       "      <td>NaN</td>\n",
       "      <td>NaN</td>\n",
       "      <td>NaN</td>\n",
       "      <td>NaN</td>\n",
       "      <td>0.10</td>\n",
       "      <td>NaN</td>\n",
       "      <td>NaN</td>\n",
       "      <td>13.20</td>\n",
       "      <td>0.000</td>\n",
       "      <td>NaN</td>\n",
       "      <td>29.30</td>\n",
       "      <td>NaN</td>\n",
       "      <td>NaN</td>\n",
       "      <td>0.30</td>\n",
       "      <td>483.5</td>\n",
       "      <td>NaN</td>\n",
       "      <td>3.800</td>\n",
       "    </tr>\n",
       "    <tr>\n",
       "      <th>Vitamins and Other Components</th>\n",
       "      <td>NaN</td>\n",
       "      <td>NaN</td>\n",
       "      <td>NaN</td>\n",
       "      <td>NaN</td>\n",
       "      <td>NaN</td>\n",
       "      <td>0.00000</td>\n",
       "      <td>NaN</td>\n",
       "      <td>NaN</td>\n",
       "      <td>0.000</td>\n",
       "      <td>NaN</td>\n",
       "      <td>NaN</td>\n",
       "      <td>NaN</td>\n",
       "      <td>NaN</td>\n",
       "      <td>NaN</td>\n",
       "      <td>NaN</td>\n",
       "      <td>NaN</td>\n",
       "      <td>0.000</td>\n",
       "    </tr>\n",
       "    <tr>\n",
       "      <th>Water</th>\n",
       "      <td>NaN</td>\n",
       "      <td>NaN</td>\n",
       "      <td>NaN</td>\n",
       "      <td>NaN</td>\n",
       "      <td>89.70</td>\n",
       "      <td>84.67000</td>\n",
       "      <td>NaN</td>\n",
       "      <td>88.30</td>\n",
       "      <td>85.170</td>\n",
       "      <td>NaN</td>\n",
       "      <td>95.40</td>\n",
       "      <td>NaN</td>\n",
       "      <td>NaN</td>\n",
       "      <td>90.10</td>\n",
       "      <td>NaN</td>\n",
       "      <td>NaN</td>\n",
       "      <td>84.100</td>\n",
       "    </tr>\n",
       "    <tr>\n",
       "      <th>Zinc, Zn</th>\n",
       "      <td>NaN</td>\n",
       "      <td>NaN</td>\n",
       "      <td>NaN</td>\n",
       "      <td>NaN</td>\n",
       "      <td>0.43</td>\n",
       "      <td>0.01964</td>\n",
       "      <td>NaN</td>\n",
       "      <td>0.24</td>\n",
       "      <td>0.070</td>\n",
       "      <td>NaN</td>\n",
       "      <td>0.13</td>\n",
       "      <td>NaN</td>\n",
       "      <td>NaN</td>\n",
       "      <td>0.16</td>\n",
       "      <td>NaN</td>\n",
       "      <td>NaN</td>\n",
       "      <td>0.070</td>\n",
       "    </tr>\n",
       "  </tbody>\n",
       "</table>\n",
       "<p>118 rows × 17 columns</p>\n",
       "</div>"
      ],
      "text/plain": [
       "                                  Bread  Cheese  Ground Beef  cheese burger   \\\n",
       "Alanine                             NaN     NaN          NaN             NaN   \n",
       "Alcohol, ethyl                      NaN     NaN          NaN             NaN   \n",
       "Amino acids                         NaN     NaN          NaN             NaN   \n",
       "Arginine                            NaN     NaN          NaN             NaN   \n",
       "Ash                                 NaN     NaN          NaN             NaN   \n",
       "...                                 ...     ...          ...             ...   \n",
       "Vitamin K (Dihydrophylloquinone)    NaN     NaN          NaN             NaN   \n",
       "Vitamin K (phylloquinone)           NaN     NaN          NaN             NaN   \n",
       "Vitamins and Other Components       NaN     NaN          NaN             NaN   \n",
       "Water                               NaN     NaN          NaN             NaN   \n",
       "Zinc, Zn                            NaN     NaN          NaN             NaN   \n",
       "\n",
       "                                  1% fat milk  red apple  edamame  \\\n",
       "Alanine                                   NaN        NaN      NaN   \n",
       "Alcohol, ethyl                           0.00        NaN      NaN   \n",
       "Amino acids                               NaN        NaN      NaN   \n",
       "Arginine                                  NaN        NaN      NaN   \n",
       "Ash                                       NaN    0.14830      NaN   \n",
       "...                                       ...        ...      ...   \n",
       "Vitamin K (Dihydrophylloquinone)          NaN        NaN      NaN   \n",
       "Vitamin K (phylloquinone)                0.10        NaN      NaN   \n",
       "Vitamins and Other Components             NaN    0.00000      NaN   \n",
       "Water                                   89.70   84.67000      NaN   \n",
       "Zinc, Zn                                 0.43    0.01964      NaN   \n",
       "\n",
       "                                  mini carrot  mandarin  cauliflower  \\\n",
       "Alanine                                   NaN     0.028          NaN   \n",
       "Alcohol, ethyl                           0.00     0.000          NaN   \n",
       "Amino acids                               NaN     0.000          NaN   \n",
       "Arginine                                  NaN     0.068          NaN   \n",
       "Ash                                       NaN     0.380          NaN   \n",
       "...                                       ...       ...          ...   \n",
       "Vitamin K (Dihydrophylloquinone)          NaN     0.000          NaN   \n",
       "Vitamin K (phylloquinone)               13.20     0.000          NaN   \n",
       "Vitamins and Other Components             NaN     0.000          NaN   \n",
       "Water                                   88.30    85.170          NaN   \n",
       "Zinc, Zn                                 0.24     0.070          NaN   \n",
       "\n",
       "                                  celery stick  bosc pear   orange  \\\n",
       "Alanine                                    NaN         NaN     NaN   \n",
       "Alcohol, ethyl                            0.00         NaN     NaN   \n",
       "Amino acids                                NaN         NaN     NaN   \n",
       "Arginine                                   NaN         NaN     NaN   \n",
       "Ash                                        NaN         NaN     NaN   \n",
       "...                                        ...         ...     ...   \n",
       "Vitamin K (Dihydrophylloquinone)           NaN         NaN     NaN   \n",
       "Vitamin K (phylloquinone)                29.30         NaN     NaN   \n",
       "Vitamins and Other Components              NaN         NaN     NaN   \n",
       "Water                                    95.40         NaN     NaN   \n",
       "Zinc, Zn                                  0.13         NaN     NaN   \n",
       "\n",
       "                                  jicama stick  spinach   kiwi  bartlett pear  \n",
       "Alanine                                    NaN       NaN   NaN          0.016  \n",
       "Alcohol, ethyl                            0.00       NaN   NaN            NaN  \n",
       "Amino acids                                NaN       NaN   NaN          0.000  \n",
       "Arginine                                   NaN       NaN   NaN          0.012  \n",
       "Ash                                        NaN       NaN   NaN          0.300  \n",
       "...                                        ...       ...   ...            ...  \n",
       "Vitamin K (Dihydrophylloquinone)           NaN       NaN   NaN          0.000  \n",
       "Vitamin K (phylloquinone)                 0.30     483.5   NaN          3.800  \n",
       "Vitamins and Other Components              NaN       NaN   NaN          0.000  \n",
       "Water                                    90.10       NaN   NaN         84.100  \n",
       "Zinc, Zn                                  0.16       NaN   NaN          0.070  \n",
       "\n",
       "[118 rows x 17 columns]"
      ]
     },
     "execution_count": 110,
     "metadata": {},
     "output_type": "execute_result"
    }
   ],
   "source": [
    "D = {}\n",
    "count = 0\n",
    "for food in  df.Food.tolist():\n",
    "    try:\n",
    "        FDC = df.loc[df.Food==food,:].FDC[count]\n",
    "        count+=1\n",
    "        D[food] = fdc.nutrients(apikey,FDC).Quantity\n",
    "    except AttributeError: \n",
    "        warnings.warn(\"Couldn't find FDC Code %s for food %s.\" % (food,FDC))        \n",
    "\n",
    "FoodNutrients = pd.DataFrame(D,dtype=float)\n",
    "FoodNutrients"
   ]
  },
  {
   "cell_type": "markdown",
   "id": "42ab05b8",
   "metadata": {},
   "source": [
    "In case we run into an issue where the FDA database is getting throttle, we can also grab the nutritional content from this `csv`. "
   ]
  },
  {
   "cell_type": "code",
   "execution_count": 111,
   "id": "681b4eca",
   "metadata": {},
   "outputs": [],
   "source": [
    "# Run in emergency \n",
    "# nutrients = pd.read_csv('FoodNutrients.csv')\n",
    "# nutrients.set_index(\"Unnamed: 0\")\n",
    "# nutrients"
   ]
  },
  {
   "cell_type": "markdown",
   "id": "2e6e3396",
   "metadata": {},
   "source": [
    "## Solution \n",
    "The minimum cost diet for middle schoolers (in our demo we consider a 10 y.o male) in Oakland. "
   ]
  },
  {
   "cell_type": "code",
   "execution_count": 117,
   "id": "0bac9da6",
   "metadata": {},
   "outputs": [],
   "source": [
    "group = 'M 9-13'\n",
    "diet_min = dris(10, \"male\", \"min\")\n",
    "diet_max = dris(10, \"male\", \"max\")"
   ]
  },
  {
   "cell_type": "code",
   "execution_count": 118,
   "id": "5753d67e",
   "metadata": {},
   "outputs": [],
   "source": [
    "def solve_subsistence_problem(FoodNutrients,Prices,dietmin,dietmax,max_weight=None,tol=1e-6):\n",
    "    \"\"\"Solve Stigler's Subsistence Cost Problem.\n",
    "\n",
    "    Inputs:\n",
    "       - FoodNutrients : A pd.DataFrame with rows corresponding to foods, columns to nutrients.\n",
    "       - Prices : A pd.Series of prices for different foods\n",
    "       - diet_min : A pd.Series of DRIs, with index corresponding to columns of FoodNutrients,\n",
    "                    describing minimum intakes.\n",
    "       - diet_max : A pd.Series of DRIs, with index corresponding to columns of FoodNutrients,\n",
    "                    describing maximum intakes.\n",
    "       - max_weight : Maximum weight (in hectograms) allowed for diet.\n",
    "       - tol : Solution values smaller than this in absolute value treated as zeros.\n",
    "       \n",
    "    \"\"\"\n",
    "    try: \n",
    "        p = Prices.apply(lambda x:x.magnitude)\n",
    "    except AttributeError:  # Maybe not passing in prices with units?\n",
    "        warnings.warn(\"Prices have no units.  BE CAREFUL!  We're assuming prices are per hectogram or deciliter!\")\n",
    "        p = Prices\n",
    "\n",
    "    p = p.dropna()\n",
    "\n",
    "    # Compile list that we have both prices and nutritional info for; drop if either missing\n",
    "    use = p.index.intersection(FoodNutrients.columns)\n",
    "    p = p[use]\n",
    "\n",
    "    # Drop nutritional information for foods we don't know the price of,\n",
    "    # and replace missing nutrients with zeros.\n",
    "    Aall = FoodNutrients[p.index].fillna(0)\n",
    "\n",
    "    # Drop rows of A that we don't have constraints for.\n",
    "    Amin = Aall.loc[Aall.index.intersection(dietmin.index)]\n",
    "    Amin = Amin.reindex(dietmin.index,axis=0)\n",
    "    idx = Amin.index.to_frame()\n",
    "    idx['type'] = 'min'\n",
    "    #Amin.index = pd.MultiIndex.from_frame(idx)\n",
    "    #dietmin.index = Amin.index\n",
    "    \n",
    "    Amax = Aall.loc[Aall.index.intersection(dietmax.index)]\n",
    "    Amax = Amax.reindex(dietmax.index,axis=0)\n",
    "    idx = Amax.index.to_frame()\n",
    "    idx['type'] = 'max'\n",
    "    #Amax.index = pd.MultiIndex.from_frame(idx)\n",
    "    #dietmax.index = Amax.index\n",
    "\n",
    "    # Minimum requirements involve multiplying constraint by -1 to make <=.\n",
    "    A = pd.concat([Amin,\n",
    "                   -Amax])\n",
    "\n",
    "    b = pd.concat([dietmin,\n",
    "                   -dietmax]) # Note sign change for max constraints\n",
    "\n",
    "    # Make sure order of p, A, b are consistent\n",
    "    A = A.reindex(p.index,axis=1)\n",
    "    A = A.reindex(b.index,axis=0)\n",
    "\n",
    "    if max_weight is not None:\n",
    "        # Add up weights of foods consumed\n",
    "        A.loc['Hectograms'] = -1\n",
    "        b.loc['Hectograms'] = -max_weight\n",
    "        \n",
    "    # Now solve problem!  (Note that the linear program solver we'll use assumes\n",
    "    # \"less-than-or-equal\" constraints.  We can switch back and forth by\n",
    "    # multiplying $A$ and $b$ by $-1$.)\n",
    "\n",
    "    result = lp(p, -A, -b, method='interior-point')\n",
    "\n",
    "    result.A = A\n",
    "    result.b = b\n",
    "    \n",
    "    if result.success:\n",
    "        result.diet = pd.Series(result.x,index=p.index)\n",
    "    else: # No feasible solution?\n",
    "        warnings.warn(result.message)\n",
    "        result.diet = pd.Series(result.x,index=p.index)*np.nan  \n",
    "\n",
    "    return result"
   ]
  },
  {
   "cell_type": "code",
   "execution_count": 119,
   "id": "f6418c41",
   "metadata": {},
   "outputs": [
    {
     "name": "stdout",
     "output_type": "stream",
     "text": [
      "Cost of diet for M 9-13 is $7.45 per day.\n",
      "\n",
      "\n",
      "Diet (in 100s of grams or milliliters):\n",
      "1% fat milk     9.462366\n",
      "edamame         1.313201\n",
      "mini carrot    16.379928\n",
      "orange          1.528457\n",
      "dtype: float64\n",
      "\n",
      "\n",
      "With the following nutritional outcomes of interest:\n",
      "                                     Outcome  Recommendation\n",
      "Nutrition                                                   \n",
      "Energy                           1800.000000          1800.0\n",
      "Protein                            68.398377            34.0\n",
      "Fiber, total dietary               52.035842            25.2\n",
      "Folate, DFE                       330.143369           300.0\n",
      "Calcium, Ca                      1810.274537          1300.0\n",
      "Carbohydrate, by difference       355.050290           130.0\n",
      "Iron, Fe                            8.000000             8.0\n",
      "Magnesium, Mg                     310.107527           240.0\n",
      "Niacin                             17.170717            12.0\n",
      "Phosphorus, P                    1547.921147          1250.0\n",
      "Potassium, K                     7379.055899          4500.0\n",
      "Riboflavin                          2.274767             0.9\n",
      "Thiamin                             1.620430             0.9\n",
      "Vitamin A, RAE                  14226.057348           600.0\n",
      "Vitamin B-12                        5.772043             1.8\n",
      "Vitamin B-6                         2.828172             1.0\n",
      "Vitamin C, total ascorbic acid     96.641577            45.0\n",
      "Vitamin E (alpha-tocopherol)       11.000000            11.0\n",
      "Vitamin K (phylloquinone)         217.161290            60.0\n",
      "Zinc, Zn                            8.000000             8.0\n",
      "Sodium, Na                       2089.468466          2200.0\n",
      "Energy                           1800.000000          3000.0\n",
      "\n",
      "\n",
      "Constraining nutrients are:\n",
      "['Energy', 'Iron, Fe', 'Vitamin E (alpha-tocopherol)', 'Zinc, Zn']\n"
     ]
    }
   ],
   "source": [
    "tol = 1e-6\n",
    "result = solve_subsistence_problem(FoodNutrients,Prices,diet_min,diet_max,tol=tol)\n",
    "\n",
    "print(\"Cost of diet for %s is $%4.2f per day.\\n\" % (group,result.fun))\n",
    "\n",
    "# Put back into nice series\n",
    "diet = result.diet\n",
    "\n",
    "print(\"\\nDiet (in 100s of grams or milliliters):\")\n",
    "print(diet[diet >= tol])  # Drop items with quantities less than precision of calculation.\n",
    "print()\n",
    "\n",
    "tab = pd.DataFrame({\"Outcome\":np.abs(result.A).dot(diet),\"Recommendation\":np.abs(result.b)})\n",
    "print(\"\\nWith the following nutritional outcomes of interest:\")\n",
    "print(tab)\n",
    "print()\n",
    "\n",
    "print(\"\\nConstraining nutrients are:\")\n",
    "excess = tab.diff(axis=1).iloc[:,1]\n",
    "print(excess.loc[np.abs(excess) < tol*100].index.tolist())"
   ]
  },
  {
   "cell_type": "markdown",
   "id": "50a6450e",
   "metadata": {},
   "source": [
    "## Sensitivity of solution "
   ]
  },
  {
   "cell_type": "code",
   "execution_count": 120,
   "id": "31b77ce9",
   "metadata": {},
   "outputs": [
    {
     "data": {
      "text/html": [
       "        <script type=\"text/javascript\">\n",
       "        window.PlotlyConfig = {MathJaxConfig: 'local'};\n",
       "        if (window.MathJax) {MathJax.Hub.Config({SVG: {font: \"STIX-Web\"}});}\n",
       "        if (typeof require !== 'undefined') {\n",
       "        require.undef(\"plotly\");\n",
       "        requirejs.config({\n",
       "            paths: {\n",
       "                'plotly': ['https://cdn.plot.ly/plotly-2.3.1.min']\n",
       "            }\n",
       "        });\n",
       "        require(['plotly'], function(Plotly) {\n",
       "            window._Plotly = Plotly;\n",
       "        });\n",
       "        }\n",
       "        </script>\n",
       "        "
      ]
     },
     "metadata": {},
     "output_type": "display_data"
    },
    {
     "data": {
      "application/vnd.plotly.v1+json": {
       "config": {
        "linkText": "Export to plot.ly",
        "plotlyServerURL": "https://plot.ly",
        "showLink": true
       },
       "data": [
        {
         "line": {
          "color": "rgba(255, 153, 51, 1.0)",
          "dash": "solid",
          "shape": "linear",
          "width": 1.3
         },
         "mode": "lines",
         "name": "Bread",
         "text": "",
         "type": "scatter",
         "x": [
          -0.6931471805599453,
          -0.5108256237659907,
          -0.35667494393873245,
          -0.22314355131420968,
          -0.10536051565782628,
          0,
          0.09531017980432495,
          0.1823215567939546,
          0.26236426446749106,
          0.33647223662121284,
          0.4054651081081644
         ],
         "y": [
          2.486655326064016e-11,
          1.0123013538527054e-12,
          1.2709833185900714e-12,
          5.706546346571676e-13,
          2.136069099378573e-13,
          0,
          -2.0616841567291282e-13,
          -4.809486142677334e-13,
          -8.467671008819654e-13,
          1.7097434579227266e-14,
          2.071898208553321e-12
         ]
        },
        {
         "line": {
          "color": "rgba(55, 128, 191, 1.0)",
          "dash": "solid",
          "shape": "linear",
          "width": 1.3
         },
         "mode": "lines",
         "name": "Cheese",
         "text": "",
         "type": "scatter",
         "x": [
          -0.6931471805599453,
          -0.5108256237659907,
          -0.35667494393873245,
          -0.22314355131420968,
          -0.10536051565782628,
          0,
          0.09531017980432495,
          0.1823215567939546,
          0.26236426446749106,
          0.33647223662121284,
          0.4054651081081644
         ],
         "y": [
          8.018252728415659e-12,
          4.052536084478535e-12,
          4.234390615911382e-12,
          3.153033389930474e-12,
          1.6158185900381474e-12,
          0,
          -1.5282219933976956e-12,
          -2.9094504583369177e-12,
          -4.1353587221323336e-12,
          -5.216493903517366e-12,
          -6.174949440681723e-12
         ]
        },
        {
         "line": {
          "color": "rgba(50, 171, 96, 1.0)",
          "dash": "solid",
          "shape": "linear",
          "width": 1.3
         },
         "mode": "lines",
         "name": "Ground Beef",
         "text": "",
         "type": "scatter",
         "x": [
          -0.6931471805599453,
          -0.5108256237659907,
          -0.35667494393873245,
          -0.22314355131420968,
          -0.10536051565782628,
          0,
          0.09531017980432495,
          0.1823215567939546,
          0.26236426446749106,
          0.33647223662121284,
          0.4054651081081644
         ],
         "y": [
          6.036504629473681e-12,
          -9.086731367388341e-12,
          -7.7691186817521e-12,
          -4.265809927526337e-12,
          -1.5886181259373983e-12,
          0,
          7.303047055981613e-13,
          8.490985692329592e-13,
          7.280842595489126e-13,
          1.5474288517213458e-12,
          3.3659741660528845e-12
         ]
        },
        {
         "line": {
          "color": "rgba(128, 0, 128, 1.0)",
          "dash": "solid",
          "shape": "linear",
          "width": 1.3
         },
         "mode": "lines",
         "name": "cheese burger ",
         "text": "",
         "type": "scatter",
         "x": [
          -0.6931471805599453,
          -0.5108256237659907,
          -0.35667494393873245,
          -0.22314355131420968,
          -0.10536051565782628,
          0,
          0.09531017980432495,
          0.1823215567939546,
          0.26236426446749106,
          0.33647223662121284,
          0.4054651081081644
         ],
         "y": [
          0,
          0,
          0,
          0,
          0,
          0,
          0,
          0,
          0,
          0,
          0
         ]
        },
        {
         "line": {
          "color": "rgba(219, 64, 82, 1.0)",
          "dash": "solid",
          "shape": "linear",
          "width": 1.3
         },
         "mode": "lines",
         "name": "1% fat milk",
         "text": "",
         "type": "scatter",
         "x": [
          -0.6931471805599453,
          -0.5108256237659907,
          -0.35667494393873245,
          -0.22314355131420968,
          -0.10536051565782628,
          0,
          0.09531017980432495,
          0.1823215567939546,
          0.26236426446749106,
          0.33647223662121284,
          0.4054651081081644
         ],
         "y": [
          -0.0765494309466404,
          -0.060763575104713585,
          -0.04522304474771849,
          -0.029920306244544424,
          -0.014848266948046378,
          0,
          0.014631017759331639,
          0.029051052033013867,
          0.04326610130832739,
          0.05728191183869969,
          0.07110399159010246
         ]
        },
        {
         "line": {
          "color": "rgba(0, 128, 128, 1.0)",
          "dash": "solid",
          "shape": "linear",
          "width": 1.3
         },
         "mode": "lines",
         "name": "red apple",
         "text": "",
         "type": "scatter",
         "x": [
          -0.6931471805599453,
          -0.5108256237659907,
          -0.35667494393873245,
          -0.22314355131420968,
          -0.10536051565782628,
          0,
          0.09531017980432495,
          0.1823215567939546,
          0.26236426446749106,
          0.33647223662121284,
          0.4054651081081644
         ],
         "y": [
          5.84032822087009e-11,
          3.620947985828407e-11,
          1.7520673799140143e-10,
          3.17012824295761e-08,
          1.2258416504021069e-11,
          0,
          2.4804602815867614e-11,
          1.7955636977101453e-11,
          2.0527579635898602e-11,
          2.4970914224952323e-11,
          2.504507712299543e-11
         ]
        },
        {
         "line": {
          "color": "rgba(255, 255, 51, 1.0)",
          "dash": "solid",
          "shape": "linear",
          "width": 1.3
         },
         "mode": "lines",
         "name": "edamame",
         "text": "",
         "type": "scatter",
         "x": [
          -0.6931471805599453,
          -0.5108256237659907,
          -0.35667494393873245,
          -0.22314355131420968,
          -0.10536051565782628,
          0,
          0.09531017980432495,
          0.1823215567939546,
          0.26236426446749106,
          0.33647223662121284,
          0.4054651081081644
         ],
         "y": [
          -0.037437333193300226,
          -0.029836942633674656,
          -0.02229382307618717,
          -0.014807153570072498,
          -0.007376192857743013,
          0,
          0.004442458234993549,
          0.006214019355098512,
          0.007982333941557061,
          0.009747578641450571,
          0.011509718213024043
         ]
        },
        {
         "line": {
          "color": "rgba(128, 128, 0, 1.0)",
          "dash": "solid",
          "shape": "linear",
          "width": 1.3
         },
         "mode": "lines",
         "name": "mini carrot",
         "text": "",
         "type": "scatter",
         "x": [
          -0.6931471805599453,
          -0.5108256237659907,
          -0.35667494393873245,
          -0.22314355131420968,
          -0.10536051565782628,
          0,
          0.09531017980432495,
          0.1823215567939546,
          0.26236426446749106,
          0.33647223662121284,
          0.4054651081081644
         ],
         "y": [
          -0.4483711546245346,
          -0.34117557294676737,
          -0.2443664761581157,
          -0.15610771565456158,
          -0.07501074356879457,
          0,
          0.06977461468316525,
          0.13499666017077133,
          0.19622400396131462,
          0.2539178658762301,
          0.30846392973107256
         ]
        },
        {
         "line": {
          "color": "rgba(251, 128, 114, 1.0)",
          "dash": "solid",
          "shape": "linear",
          "width": 1.3
         },
         "mode": "lines",
         "name": "mandarin",
         "text": "",
         "type": "scatter",
         "x": [
          -0.6931471805599453,
          -0.5108256237659907,
          -0.35667494393873245,
          -0.22314355131420968,
          -0.10536051565782628,
          0,
          0.09531017980432495,
          0.1823215567939546,
          0.26236426446749106,
          0.33647223662121284,
          0.4054651081081644
         ],
         "y": [
          -0.015024236571882336,
          1.4201306796181843e-10,
          5.3409857109551334e-08,
          -4.091615934961922e-12,
          1.3848520098850214e-09,
          0,
          9.63481072238018e-10,
          9.900302799302291e-11,
          5.6339599650646044e-11,
          1.4542045017897793e-08,
          1.815670419739365e-08
         ]
        },
        {
         "line": {
          "color": "rgba(128, 177, 211, 1.0)",
          "dash": "solid",
          "shape": "linear",
          "width": 1.3
         },
         "mode": "lines",
         "name": "cauliflower",
         "text": "",
         "type": "scatter",
         "x": [
          -0.6931471805599453,
          -0.5108256237659907,
          -0.35667494393873245,
          -0.22314355131420968,
          -0.10536051565782628,
          0,
          0.09531017980432495,
          0.1823215567939546,
          0.26236426446749106,
          0.33647223662121284,
          0.4054651081081644
         ],
         "y": [
          -1.0573208975073574e-11,
          -9.081624341475018e-12,
          -6.1575189391950005e-12,
          -3.5564884370905507e-12,
          -1.5252243912312033e-12,
          0,
          1.141753358523859e-12,
          2.0021762026070028e-12,
          2.6365576388763462e-12,
          3.1210589668213695e-12,
          3.479883048379036e-12
         ]
        },
        {
         "line": {
          "color": "rgba(128, 177, 211, 0.8999999999999999)",
          "dash": "solid",
          "shape": "linear",
          "width": 1.3
         },
         "mode": "lines",
         "name": "celery stick",
         "text": "",
         "type": "scatter",
         "x": [
          -0.6931471805599453,
          -0.5108256237659907,
          -0.35667494393873245,
          -0.22314355131420968,
          -0.10536051565782628,
          0,
          0.09531017980432495,
          0.1823215567939546,
          0.26236426446749106,
          0.33647223662121284,
          0.4054651081081644
         ],
         "y": [
          2.2580351555638797e-08,
          4.512989981617948e-11,
          1.3029199940323664e-10,
          4.1531800212526207e-10,
          3.4556801864422914e-12,
          0,
          2.2597701487570034e-11,
          1.656457636350116e-09,
          4.238387418800016e-12,
          1.0959767647914869e-07,
          7.331091289317586e-11
         ]
        },
        {
         "line": {
          "color": "rgba(255, 153, 51, 0.8999999999999999)",
          "dash": "solid",
          "shape": "linear",
          "width": 1.3
         },
         "mode": "lines",
         "name": "bosc pear ",
         "text": "",
         "type": "scatter",
         "x": [
          -0.6931471805599453,
          -0.5108256237659907,
          -0.35667494393873245,
          -0.22314355131420968,
          -0.10536051565782628,
          0,
          0.09531017980432495,
          0.1823215567939546,
          0.26236426446749106,
          0.33647223662121284,
          0.4054651081081644
         ],
         "y": [
          1.8445911464767e-11,
          1.1129097643385566e-11,
          6.745271008389852e-12,
          3.7960745657911305e-12,
          1.6540102620851904e-12,
          0,
          -1.3281598043599567e-12,
          -2.432831713864065e-12,
          -3.37541106177356e-12,
          -4.198530412233768e-12,
          -4.933164987631588e-12
         ]
        },
        {
         "line": {
          "color": "rgba(55, 128, 191, 0.8999999999999999)",
          "dash": "solid",
          "shape": "linear",
          "width": 1.3
         },
         "mode": "lines",
         "name": "orange",
         "text": "",
         "type": "scatter",
         "x": [
          -0.6931471805599453,
          -0.5108256237659907,
          -0.35667494393873245,
          -0.22314355131420968,
          -0.10536051565782628,
          0,
          0.09531017980432495,
          0.1823215567939546,
          0.26236426446749106,
          0.33647223662121284,
          0.4054651081081644
         ],
         "y": [
          -0.028635554319137398,
          -0.022842467897629587,
          -0.017082747973692004,
          -0.011356011049906549,
          -0.00566181483941004,
          0,
          0.0026678124686249924,
          0.0026678123962776195,
          0.00266781235194051,
          0.0026678237443667815,
          0.0026678210589218417
         ]
        },
        {
         "line": {
          "color": "rgba(50, 171, 96, 0.8999999999999999)",
          "dash": "solid",
          "shape": "linear",
          "width": 1.3
         },
         "mode": "lines",
         "name": "jicama stick",
         "text": "",
         "type": "scatter",
         "x": [
          -0.6931471805599453,
          -0.5108256237659907,
          -0.35667494393873245,
          -0.22314355131420968,
          -0.10536051565782628,
          0,
          0.09531017980432495,
          0.1823215567939546,
          0.26236426446749106,
          0.33647223662121284,
          0.4054651081081644
         ],
         "y": [
          3.5048630658249534e-10,
          2.1689983142656607e-11,
          1.2668466275208808e-10,
          7.1014305544602e-11,
          2.8276270213778338e-11,
          0,
          -1.123334758552289e-11,
          -3.35043104371941e-12,
          1.236346580592196e-10,
          1.46287648650614e-10,
          2.085642769578577e-11
         ]
        },
        {
         "line": {
          "color": "rgba(128, 0, 128, 0.8999999999999999)",
          "dash": "solid",
          "shape": "linear",
          "width": 1.3
         },
         "mode": "lines",
         "name": "spinach ",
         "text": "",
         "type": "scatter",
         "x": [
          -0.6931471805599453,
          -0.5108256237659907,
          -0.35667494393873245,
          -0.22314355131420968,
          -0.10536051565782628,
          0,
          0.09531017980432495,
          0.1823215567939546,
          0.26236426446749106,
          0.33647223662121284,
          0.4054651081081644
         ],
         "y": [
          6.412775060743878e-08,
          -1.3329670700645856e-11,
          -7.711831173680999e-12,
          -3.911204693459613e-12,
          -1.5050183321829947e-12,
          0,
          9.401368572521407e-13,
          1.5210055437353077e-12,
          1.8709478410965637e-12,
          2.0599077998873938e-12,
          2.1507240433015405e-12
         ]
        },
        {
         "line": {
          "color": "rgba(219, 64, 82, 0.8999999999999999)",
          "dash": "solid",
          "shape": "linear",
          "width": 1.3
         },
         "mode": "lines",
         "name": "kiwi",
         "text": "",
         "type": "scatter",
         "x": [
          -0.6931471805599453,
          -0.5108256237659907,
          -0.35667494393873245,
          -0.22314355131420968,
          -0.10536051565782628,
          0,
          0.09531017980432495,
          0.1823215567939546,
          0.26236426446749106,
          0.33647223662121284,
          0.4054651081081644
         ],
         "y": [
          -0.056289122421536976,
          -0.044216371513981674,
          -0.03228764771142165,
          -0.02049953898836511,
          -0.0088487102843002,
          0,
          1.653664930372457e-07,
          6.269613986833716e-08,
          4.86706767479324e-08,
          3.697259607845521e-08,
          3.406221024957132e-08
         ]
        },
        {
         "line": {
          "color": "rgba(0, 128, 128, 0.8999999999999999)",
          "dash": "solid",
          "shape": "linear",
          "width": 1.3
         },
         "mode": "lines",
         "name": "bartlett pear",
         "text": "",
         "type": "scatter",
         "x": [
          -0.6931471805599453,
          -0.5108256237659907,
          -0.35667494393873245,
          -0.22314355131420968,
          -0.10536051565782628,
          0,
          0.09531017980432495,
          0.1823215567939546,
          0.26236426446749106,
          0.33647223662121284,
          0.4054651081081644
         ],
         "y": [
          -0.00805154583890604,
          3.7571346027268293e-10,
          1.5752605873969384e-09,
          3.425060235370445e-11,
          1.9255264049703483e-11,
          0,
          -6.571854171987746e-12,
          -9.528378086588338e-12,
          -1.111866154707783e-11,
          -1.2096768031783946e-11,
          -1.2745693389685412e-11
         ]
        }
       ],
       "layout": {
        "legend": {
         "bgcolor": "#F5F6F9",
         "font": {
          "color": "#4D5663"
         }
        },
        "paper_bgcolor": "#F5F6F9",
        "plot_bgcolor": "#F5F6F9",
        "template": {
         "data": {
          "bar": [
           {
            "error_x": {
             "color": "#2a3f5f"
            },
            "error_y": {
             "color": "#2a3f5f"
            },
            "marker": {
             "line": {
              "color": "#E5ECF6",
              "width": 0.5
             },
             "pattern": {
              "fillmode": "overlay",
              "size": 10,
              "solidity": 0.2
             }
            },
            "type": "bar"
           }
          ],
          "barpolar": [
           {
            "marker": {
             "line": {
              "color": "#E5ECF6",
              "width": 0.5
             },
             "pattern": {
              "fillmode": "overlay",
              "size": 10,
              "solidity": 0.2
             }
            },
            "type": "barpolar"
           }
          ],
          "carpet": [
           {
            "aaxis": {
             "endlinecolor": "#2a3f5f",
             "gridcolor": "white",
             "linecolor": "white",
             "minorgridcolor": "white",
             "startlinecolor": "#2a3f5f"
            },
            "baxis": {
             "endlinecolor": "#2a3f5f",
             "gridcolor": "white",
             "linecolor": "white",
             "minorgridcolor": "white",
             "startlinecolor": "#2a3f5f"
            },
            "type": "carpet"
           }
          ],
          "choropleth": [
           {
            "colorbar": {
             "outlinewidth": 0,
             "ticks": ""
            },
            "type": "choropleth"
           }
          ],
          "contour": [
           {
            "colorbar": {
             "outlinewidth": 0,
             "ticks": ""
            },
            "colorscale": [
             [
              0,
              "#0d0887"
             ],
             [
              0.1111111111111111,
              "#46039f"
             ],
             [
              0.2222222222222222,
              "#7201a8"
             ],
             [
              0.3333333333333333,
              "#9c179e"
             ],
             [
              0.4444444444444444,
              "#bd3786"
             ],
             [
              0.5555555555555556,
              "#d8576b"
             ],
             [
              0.6666666666666666,
              "#ed7953"
             ],
             [
              0.7777777777777778,
              "#fb9f3a"
             ],
             [
              0.8888888888888888,
              "#fdca26"
             ],
             [
              1,
              "#f0f921"
             ]
            ],
            "type": "contour"
           }
          ],
          "contourcarpet": [
           {
            "colorbar": {
             "outlinewidth": 0,
             "ticks": ""
            },
            "type": "contourcarpet"
           }
          ],
          "heatmap": [
           {
            "colorbar": {
             "outlinewidth": 0,
             "ticks": ""
            },
            "colorscale": [
             [
              0,
              "#0d0887"
             ],
             [
              0.1111111111111111,
              "#46039f"
             ],
             [
              0.2222222222222222,
              "#7201a8"
             ],
             [
              0.3333333333333333,
              "#9c179e"
             ],
             [
              0.4444444444444444,
              "#bd3786"
             ],
             [
              0.5555555555555556,
              "#d8576b"
             ],
             [
              0.6666666666666666,
              "#ed7953"
             ],
             [
              0.7777777777777778,
              "#fb9f3a"
             ],
             [
              0.8888888888888888,
              "#fdca26"
             ],
             [
              1,
              "#f0f921"
             ]
            ],
            "type": "heatmap"
           }
          ],
          "heatmapgl": [
           {
            "colorbar": {
             "outlinewidth": 0,
             "ticks": ""
            },
            "colorscale": [
             [
              0,
              "#0d0887"
             ],
             [
              0.1111111111111111,
              "#46039f"
             ],
             [
              0.2222222222222222,
              "#7201a8"
             ],
             [
              0.3333333333333333,
              "#9c179e"
             ],
             [
              0.4444444444444444,
              "#bd3786"
             ],
             [
              0.5555555555555556,
              "#d8576b"
             ],
             [
              0.6666666666666666,
              "#ed7953"
             ],
             [
              0.7777777777777778,
              "#fb9f3a"
             ],
             [
              0.8888888888888888,
              "#fdca26"
             ],
             [
              1,
              "#f0f921"
             ]
            ],
            "type": "heatmapgl"
           }
          ],
          "histogram": [
           {
            "marker": {
             "pattern": {
              "fillmode": "overlay",
              "size": 10,
              "solidity": 0.2
             }
            },
            "type": "histogram"
           }
          ],
          "histogram2d": [
           {
            "colorbar": {
             "outlinewidth": 0,
             "ticks": ""
            },
            "colorscale": [
             [
              0,
              "#0d0887"
             ],
             [
              0.1111111111111111,
              "#46039f"
             ],
             [
              0.2222222222222222,
              "#7201a8"
             ],
             [
              0.3333333333333333,
              "#9c179e"
             ],
             [
              0.4444444444444444,
              "#bd3786"
             ],
             [
              0.5555555555555556,
              "#d8576b"
             ],
             [
              0.6666666666666666,
              "#ed7953"
             ],
             [
              0.7777777777777778,
              "#fb9f3a"
             ],
             [
              0.8888888888888888,
              "#fdca26"
             ],
             [
              1,
              "#f0f921"
             ]
            ],
            "type": "histogram2d"
           }
          ],
          "histogram2dcontour": [
           {
            "colorbar": {
             "outlinewidth": 0,
             "ticks": ""
            },
            "colorscale": [
             [
              0,
              "#0d0887"
             ],
             [
              0.1111111111111111,
              "#46039f"
             ],
             [
              0.2222222222222222,
              "#7201a8"
             ],
             [
              0.3333333333333333,
              "#9c179e"
             ],
             [
              0.4444444444444444,
              "#bd3786"
             ],
             [
              0.5555555555555556,
              "#d8576b"
             ],
             [
              0.6666666666666666,
              "#ed7953"
             ],
             [
              0.7777777777777778,
              "#fb9f3a"
             ],
             [
              0.8888888888888888,
              "#fdca26"
             ],
             [
              1,
              "#f0f921"
             ]
            ],
            "type": "histogram2dcontour"
           }
          ],
          "mesh3d": [
           {
            "colorbar": {
             "outlinewidth": 0,
             "ticks": ""
            },
            "type": "mesh3d"
           }
          ],
          "parcoords": [
           {
            "line": {
             "colorbar": {
              "outlinewidth": 0,
              "ticks": ""
             }
            },
            "type": "parcoords"
           }
          ],
          "pie": [
           {
            "automargin": true,
            "type": "pie"
           }
          ],
          "scatter": [
           {
            "marker": {
             "colorbar": {
              "outlinewidth": 0,
              "ticks": ""
             }
            },
            "type": "scatter"
           }
          ],
          "scatter3d": [
           {
            "line": {
             "colorbar": {
              "outlinewidth": 0,
              "ticks": ""
             }
            },
            "marker": {
             "colorbar": {
              "outlinewidth": 0,
              "ticks": ""
             }
            },
            "type": "scatter3d"
           }
          ],
          "scattercarpet": [
           {
            "marker": {
             "colorbar": {
              "outlinewidth": 0,
              "ticks": ""
             }
            },
            "type": "scattercarpet"
           }
          ],
          "scattergeo": [
           {
            "marker": {
             "colorbar": {
              "outlinewidth": 0,
              "ticks": ""
             }
            },
            "type": "scattergeo"
           }
          ],
          "scattergl": [
           {
            "marker": {
             "colorbar": {
              "outlinewidth": 0,
              "ticks": ""
             }
            },
            "type": "scattergl"
           }
          ],
          "scattermapbox": [
           {
            "marker": {
             "colorbar": {
              "outlinewidth": 0,
              "ticks": ""
             }
            },
            "type": "scattermapbox"
           }
          ],
          "scatterpolar": [
           {
            "marker": {
             "colorbar": {
              "outlinewidth": 0,
              "ticks": ""
             }
            },
            "type": "scatterpolar"
           }
          ],
          "scatterpolargl": [
           {
            "marker": {
             "colorbar": {
              "outlinewidth": 0,
              "ticks": ""
             }
            },
            "type": "scatterpolargl"
           }
          ],
          "scatterternary": [
           {
            "marker": {
             "colorbar": {
              "outlinewidth": 0,
              "ticks": ""
             }
            },
            "type": "scatterternary"
           }
          ],
          "surface": [
           {
            "colorbar": {
             "outlinewidth": 0,
             "ticks": ""
            },
            "colorscale": [
             [
              0,
              "#0d0887"
             ],
             [
              0.1111111111111111,
              "#46039f"
             ],
             [
              0.2222222222222222,
              "#7201a8"
             ],
             [
              0.3333333333333333,
              "#9c179e"
             ],
             [
              0.4444444444444444,
              "#bd3786"
             ],
             [
              0.5555555555555556,
              "#d8576b"
             ],
             [
              0.6666666666666666,
              "#ed7953"
             ],
             [
              0.7777777777777778,
              "#fb9f3a"
             ],
             [
              0.8888888888888888,
              "#fdca26"
             ],
             [
              1,
              "#f0f921"
             ]
            ],
            "type": "surface"
           }
          ],
          "table": [
           {
            "cells": {
             "fill": {
              "color": "#EBF0F8"
             },
             "line": {
              "color": "white"
             }
            },
            "header": {
             "fill": {
              "color": "#C8D4E3"
             },
             "line": {
              "color": "white"
             }
            },
            "type": "table"
           }
          ]
         },
         "layout": {
          "annotationdefaults": {
           "arrowcolor": "#2a3f5f",
           "arrowhead": 0,
           "arrowwidth": 1
          },
          "autotypenumbers": "strict",
          "coloraxis": {
           "colorbar": {
            "outlinewidth": 0,
            "ticks": ""
           }
          },
          "colorscale": {
           "diverging": [
            [
             0,
             "#8e0152"
            ],
            [
             0.1,
             "#c51b7d"
            ],
            [
             0.2,
             "#de77ae"
            ],
            [
             0.3,
             "#f1b6da"
            ],
            [
             0.4,
             "#fde0ef"
            ],
            [
             0.5,
             "#f7f7f7"
            ],
            [
             0.6,
             "#e6f5d0"
            ],
            [
             0.7,
             "#b8e186"
            ],
            [
             0.8,
             "#7fbc41"
            ],
            [
             0.9,
             "#4d9221"
            ],
            [
             1,
             "#276419"
            ]
           ],
           "sequential": [
            [
             0,
             "#0d0887"
            ],
            [
             0.1111111111111111,
             "#46039f"
            ],
            [
             0.2222222222222222,
             "#7201a8"
            ],
            [
             0.3333333333333333,
             "#9c179e"
            ],
            [
             0.4444444444444444,
             "#bd3786"
            ],
            [
             0.5555555555555556,
             "#d8576b"
            ],
            [
             0.6666666666666666,
             "#ed7953"
            ],
            [
             0.7777777777777778,
             "#fb9f3a"
            ],
            [
             0.8888888888888888,
             "#fdca26"
            ],
            [
             1,
             "#f0f921"
            ]
           ],
           "sequentialminus": [
            [
             0,
             "#0d0887"
            ],
            [
             0.1111111111111111,
             "#46039f"
            ],
            [
             0.2222222222222222,
             "#7201a8"
            ],
            [
             0.3333333333333333,
             "#9c179e"
            ],
            [
             0.4444444444444444,
             "#bd3786"
            ],
            [
             0.5555555555555556,
             "#d8576b"
            ],
            [
             0.6666666666666666,
             "#ed7953"
            ],
            [
             0.7777777777777778,
             "#fb9f3a"
            ],
            [
             0.8888888888888888,
             "#fdca26"
            ],
            [
             1,
             "#f0f921"
            ]
           ]
          },
          "colorway": [
           "#636efa",
           "#EF553B",
           "#00cc96",
           "#ab63fa",
           "#FFA15A",
           "#19d3f3",
           "#FF6692",
           "#B6E880",
           "#FF97FF",
           "#FECB52"
          ],
          "font": {
           "color": "#2a3f5f"
          },
          "geo": {
           "bgcolor": "white",
           "lakecolor": "white",
           "landcolor": "#E5ECF6",
           "showlakes": true,
           "showland": true,
           "subunitcolor": "white"
          },
          "hoverlabel": {
           "align": "left"
          },
          "hovermode": "closest",
          "mapbox": {
           "style": "light"
          },
          "paper_bgcolor": "white",
          "plot_bgcolor": "#E5ECF6",
          "polar": {
           "angularaxis": {
            "gridcolor": "white",
            "linecolor": "white",
            "ticks": ""
           },
           "bgcolor": "#E5ECF6",
           "radialaxis": {
            "gridcolor": "white",
            "linecolor": "white",
            "ticks": ""
           }
          },
          "scene": {
           "xaxis": {
            "backgroundcolor": "#E5ECF6",
            "gridcolor": "white",
            "gridwidth": 2,
            "linecolor": "white",
            "showbackground": true,
            "ticks": "",
            "zerolinecolor": "white"
           },
           "yaxis": {
            "backgroundcolor": "#E5ECF6",
            "gridcolor": "white",
            "gridwidth": 2,
            "linecolor": "white",
            "showbackground": true,
            "ticks": "",
            "zerolinecolor": "white"
           },
           "zaxis": {
            "backgroundcolor": "#E5ECF6",
            "gridcolor": "white",
            "gridwidth": 2,
            "linecolor": "white",
            "showbackground": true,
            "ticks": "",
            "zerolinecolor": "white"
           }
          },
          "shapedefaults": {
           "line": {
            "color": "#2a3f5f"
           }
          },
          "ternary": {
           "aaxis": {
            "gridcolor": "white",
            "linecolor": "white",
            "ticks": ""
           },
           "baxis": {
            "gridcolor": "white",
            "linecolor": "white",
            "ticks": ""
           },
           "bgcolor": "#E5ECF6",
           "caxis": {
            "gridcolor": "white",
            "linecolor": "white",
            "ticks": ""
           }
          },
          "title": {
           "x": 0.05
          },
          "xaxis": {
           "automargin": true,
           "gridcolor": "white",
           "linecolor": "white",
           "ticks": "",
           "title": {
            "standoff": 15
           },
           "zerolinecolor": "white",
           "zerolinewidth": 2
          },
          "yaxis": {
           "automargin": true,
           "gridcolor": "white",
           "linecolor": "white",
           "ticks": "",
           "title": {
            "standoff": 15
           },
           "zerolinecolor": "white",
           "zerolinewidth": 2
          }
         }
        },
        "title": {
         "font": {
          "color": "#4D5663"
         }
        },
        "xaxis": {
         "gridcolor": "#E1E5ED",
         "showgrid": true,
         "tickfont": {
          "color": "#4D5663"
         },
         "title": {
          "font": {
           "color": "#4D5663"
          },
          "text": "change in log price"
         },
         "zerolinecolor": "#E1E5ED"
        },
        "yaxis": {
         "gridcolor": "#E1E5ED",
         "showgrid": true,
         "tickfont": {
          "color": "#4D5663"
         },
         "title": {
          "font": {
           "color": "#4D5663"
          },
          "text": "change in log cost"
         },
         "zerolinecolor": "#E1E5ED"
        }
       }
      },
      "text/html": [
       "<div>                            <div id=\"cabc8d13-1712-4fba-b75b-8e6fe55d8c91\" class=\"plotly-graph-div\" style=\"height:525px; width:100%;\"></div>            <script type=\"text/javascript\">                require([\"plotly\"], function(Plotly) {                    window.PLOTLYENV=window.PLOTLYENV || {};\n",
       "                    window.PLOTLYENV.BASE_URL='https://plot.ly';                                    if (document.getElementById(\"cabc8d13-1712-4fba-b75b-8e6fe55d8c91\")) {                    Plotly.newPlot(                        \"cabc8d13-1712-4fba-b75b-8e6fe55d8c91\",                        [{\"line\":{\"color\":\"rgba(255, 153, 51, 1.0)\",\"dash\":\"solid\",\"shape\":\"linear\",\"width\":1.3},\"mode\":\"lines\",\"name\":\"Bread\",\"text\":\"\",\"type\":\"scatter\",\"x\":[-0.6931471805599453,-0.5108256237659907,-0.35667494393873245,-0.22314355131420968,-0.10536051565782628,0.0,0.09531017980432495,0.1823215567939546,0.26236426446749106,0.33647223662121284,0.4054651081081644],\"y\":[2.486655326064016e-11,1.0123013538527054e-12,1.2709833185900714e-12,5.706546346571676e-13,2.136069099378573e-13,0.0,-2.0616841567291282e-13,-4.809486142677334e-13,-8.467671008819654e-13,1.7097434579227266e-14,2.071898208553321e-12]},{\"line\":{\"color\":\"rgba(55, 128, 191, 1.0)\",\"dash\":\"solid\",\"shape\":\"linear\",\"width\":1.3},\"mode\":\"lines\",\"name\":\"Cheese\",\"text\":\"\",\"type\":\"scatter\",\"x\":[-0.6931471805599453,-0.5108256237659907,-0.35667494393873245,-0.22314355131420968,-0.10536051565782628,0.0,0.09531017980432495,0.1823215567939546,0.26236426446749106,0.33647223662121284,0.4054651081081644],\"y\":[8.018252728415659e-12,4.052536084478535e-12,4.234390615911382e-12,3.153033389930474e-12,1.6158185900381474e-12,0.0,-1.5282219933976956e-12,-2.9094504583369177e-12,-4.1353587221323336e-12,-5.216493903517366e-12,-6.174949440681723e-12]},{\"line\":{\"color\":\"rgba(50, 171, 96, 1.0)\",\"dash\":\"solid\",\"shape\":\"linear\",\"width\":1.3},\"mode\":\"lines\",\"name\":\"Ground Beef\",\"text\":\"\",\"type\":\"scatter\",\"x\":[-0.6931471805599453,-0.5108256237659907,-0.35667494393873245,-0.22314355131420968,-0.10536051565782628,0.0,0.09531017980432495,0.1823215567939546,0.26236426446749106,0.33647223662121284,0.4054651081081644],\"y\":[6.036504629473681e-12,-9.086731367388341e-12,-7.7691186817521e-12,-4.265809927526337e-12,-1.5886181259373983e-12,0.0,7.303047055981613e-13,8.490985692329592e-13,7.280842595489126e-13,1.5474288517213458e-12,3.3659741660528845e-12]},{\"line\":{\"color\":\"rgba(128, 0, 128, 1.0)\",\"dash\":\"solid\",\"shape\":\"linear\",\"width\":1.3},\"mode\":\"lines\",\"name\":\"cheese burger \",\"text\":\"\",\"type\":\"scatter\",\"x\":[-0.6931471805599453,-0.5108256237659907,-0.35667494393873245,-0.22314355131420968,-0.10536051565782628,0.0,0.09531017980432495,0.1823215567939546,0.26236426446749106,0.33647223662121284,0.4054651081081644],\"y\":[0.0,0.0,0.0,0.0,0.0,0.0,0.0,0.0,0.0,0.0,0.0]},{\"line\":{\"color\":\"rgba(219, 64, 82, 1.0)\",\"dash\":\"solid\",\"shape\":\"linear\",\"width\":1.3},\"mode\":\"lines\",\"name\":\"1% fat milk\",\"text\":\"\",\"type\":\"scatter\",\"x\":[-0.6931471805599453,-0.5108256237659907,-0.35667494393873245,-0.22314355131420968,-0.10536051565782628,0.0,0.09531017980432495,0.1823215567939546,0.26236426446749106,0.33647223662121284,0.4054651081081644],\"y\":[-0.0765494309466404,-0.060763575104713585,-0.04522304474771849,-0.029920306244544424,-0.014848266948046378,0.0,0.014631017759331639,0.029051052033013867,0.04326610130832739,0.05728191183869969,0.07110399159010246]},{\"line\":{\"color\":\"rgba(0, 128, 128, 1.0)\",\"dash\":\"solid\",\"shape\":\"linear\",\"width\":1.3},\"mode\":\"lines\",\"name\":\"red apple\",\"text\":\"\",\"type\":\"scatter\",\"x\":[-0.6931471805599453,-0.5108256237659907,-0.35667494393873245,-0.22314355131420968,-0.10536051565782628,0.0,0.09531017980432495,0.1823215567939546,0.26236426446749106,0.33647223662121284,0.4054651081081644],\"y\":[5.84032822087009e-11,3.620947985828407e-11,1.7520673799140143e-10,3.17012824295761e-08,1.2258416504021069e-11,0.0,2.4804602815867614e-11,1.7955636977101453e-11,2.0527579635898602e-11,2.4970914224952323e-11,2.504507712299543e-11]},{\"line\":{\"color\":\"rgba(255, 255, 51, 1.0)\",\"dash\":\"solid\",\"shape\":\"linear\",\"width\":1.3},\"mode\":\"lines\",\"name\":\"edamame\",\"text\":\"\",\"type\":\"scatter\",\"x\":[-0.6931471805599453,-0.5108256237659907,-0.35667494393873245,-0.22314355131420968,-0.10536051565782628,0.0,0.09531017980432495,0.1823215567939546,0.26236426446749106,0.33647223662121284,0.4054651081081644],\"y\":[-0.037437333193300226,-0.029836942633674656,-0.02229382307618717,-0.014807153570072498,-0.007376192857743013,0.0,0.004442458234993549,0.006214019355098512,0.007982333941557061,0.009747578641450571,0.011509718213024043]},{\"line\":{\"color\":\"rgba(128, 128, 0, 1.0)\",\"dash\":\"solid\",\"shape\":\"linear\",\"width\":1.3},\"mode\":\"lines\",\"name\":\"mini carrot\",\"text\":\"\",\"type\":\"scatter\",\"x\":[-0.6931471805599453,-0.5108256237659907,-0.35667494393873245,-0.22314355131420968,-0.10536051565782628,0.0,0.09531017980432495,0.1823215567939546,0.26236426446749106,0.33647223662121284,0.4054651081081644],\"y\":[-0.4483711546245346,-0.34117557294676737,-0.2443664761581157,-0.15610771565456158,-0.07501074356879457,0.0,0.06977461468316525,0.13499666017077133,0.19622400396131462,0.2539178658762301,0.30846392973107256]},{\"line\":{\"color\":\"rgba(251, 128, 114, 1.0)\",\"dash\":\"solid\",\"shape\":\"linear\",\"width\":1.3},\"mode\":\"lines\",\"name\":\"mandarin\",\"text\":\"\",\"type\":\"scatter\",\"x\":[-0.6931471805599453,-0.5108256237659907,-0.35667494393873245,-0.22314355131420968,-0.10536051565782628,0.0,0.09531017980432495,0.1823215567939546,0.26236426446749106,0.33647223662121284,0.4054651081081644],\"y\":[-0.015024236571882336,1.4201306796181843e-10,5.3409857109551334e-08,-4.091615934961922e-12,1.3848520098850214e-09,0.0,9.63481072238018e-10,9.900302799302291e-11,5.6339599650646044e-11,1.4542045017897793e-08,1.815670419739365e-08]},{\"line\":{\"color\":\"rgba(128, 177, 211, 1.0)\",\"dash\":\"solid\",\"shape\":\"linear\",\"width\":1.3},\"mode\":\"lines\",\"name\":\"cauliflower\",\"text\":\"\",\"type\":\"scatter\",\"x\":[-0.6931471805599453,-0.5108256237659907,-0.35667494393873245,-0.22314355131420968,-0.10536051565782628,0.0,0.09531017980432495,0.1823215567939546,0.26236426446749106,0.33647223662121284,0.4054651081081644],\"y\":[-1.0573208975073574e-11,-9.081624341475018e-12,-6.1575189391950005e-12,-3.5564884370905507e-12,-1.5252243912312033e-12,0.0,1.141753358523859e-12,2.0021762026070028e-12,2.6365576388763462e-12,3.1210589668213695e-12,3.479883048379036e-12]},{\"line\":{\"color\":\"rgba(128, 177, 211, 0.8999999999999999)\",\"dash\":\"solid\",\"shape\":\"linear\",\"width\":1.3},\"mode\":\"lines\",\"name\":\"celery stick\",\"text\":\"\",\"type\":\"scatter\",\"x\":[-0.6931471805599453,-0.5108256237659907,-0.35667494393873245,-0.22314355131420968,-0.10536051565782628,0.0,0.09531017980432495,0.1823215567939546,0.26236426446749106,0.33647223662121284,0.4054651081081644],\"y\":[2.2580351555638797e-08,4.512989981617948e-11,1.3029199940323664e-10,4.1531800212526207e-10,3.4556801864422914e-12,0.0,2.2597701487570034e-11,1.656457636350116e-09,4.238387418800016e-12,1.0959767647914869e-07,7.331091289317586e-11]},{\"line\":{\"color\":\"rgba(255, 153, 51, 0.8999999999999999)\",\"dash\":\"solid\",\"shape\":\"linear\",\"width\":1.3},\"mode\":\"lines\",\"name\":\"bosc pear \",\"text\":\"\",\"type\":\"scatter\",\"x\":[-0.6931471805599453,-0.5108256237659907,-0.35667494393873245,-0.22314355131420968,-0.10536051565782628,0.0,0.09531017980432495,0.1823215567939546,0.26236426446749106,0.33647223662121284,0.4054651081081644],\"y\":[1.8445911464767e-11,1.1129097643385566e-11,6.745271008389852e-12,3.7960745657911305e-12,1.6540102620851904e-12,0.0,-1.3281598043599567e-12,-2.432831713864065e-12,-3.37541106177356e-12,-4.198530412233768e-12,-4.933164987631588e-12]},{\"line\":{\"color\":\"rgba(55, 128, 191, 0.8999999999999999)\",\"dash\":\"solid\",\"shape\":\"linear\",\"width\":1.3},\"mode\":\"lines\",\"name\":\"orange\",\"text\":\"\",\"type\":\"scatter\",\"x\":[-0.6931471805599453,-0.5108256237659907,-0.35667494393873245,-0.22314355131420968,-0.10536051565782628,0.0,0.09531017980432495,0.1823215567939546,0.26236426446749106,0.33647223662121284,0.4054651081081644],\"y\":[-0.028635554319137398,-0.022842467897629587,-0.017082747973692004,-0.011356011049906549,-0.00566181483941004,0.0,0.0026678124686249924,0.0026678123962776195,0.00266781235194051,0.0026678237443667815,0.0026678210589218417]},{\"line\":{\"color\":\"rgba(50, 171, 96, 0.8999999999999999)\",\"dash\":\"solid\",\"shape\":\"linear\",\"width\":1.3},\"mode\":\"lines\",\"name\":\"jicama stick\",\"text\":\"\",\"type\":\"scatter\",\"x\":[-0.6931471805599453,-0.5108256237659907,-0.35667494393873245,-0.22314355131420968,-0.10536051565782628,0.0,0.09531017980432495,0.1823215567939546,0.26236426446749106,0.33647223662121284,0.4054651081081644],\"y\":[3.5048630658249534e-10,2.1689983142656607e-11,1.2668466275208808e-10,7.1014305544602e-11,2.8276270213778338e-11,0.0,-1.123334758552289e-11,-3.35043104371941e-12,1.236346580592196e-10,1.46287648650614e-10,2.085642769578577e-11]},{\"line\":{\"color\":\"rgba(128, 0, 128, 0.8999999999999999)\",\"dash\":\"solid\",\"shape\":\"linear\",\"width\":1.3},\"mode\":\"lines\",\"name\":\"spinach \",\"text\":\"\",\"type\":\"scatter\",\"x\":[-0.6931471805599453,-0.5108256237659907,-0.35667494393873245,-0.22314355131420968,-0.10536051565782628,0.0,0.09531017980432495,0.1823215567939546,0.26236426446749106,0.33647223662121284,0.4054651081081644],\"y\":[6.412775060743878e-08,-1.3329670700645856e-11,-7.711831173680999e-12,-3.911204693459613e-12,-1.5050183321829947e-12,0.0,9.401368572521407e-13,1.5210055437353077e-12,1.8709478410965637e-12,2.0599077998873938e-12,2.1507240433015405e-12]},{\"line\":{\"color\":\"rgba(219, 64, 82, 0.8999999999999999)\",\"dash\":\"solid\",\"shape\":\"linear\",\"width\":1.3},\"mode\":\"lines\",\"name\":\"kiwi\",\"text\":\"\",\"type\":\"scatter\",\"x\":[-0.6931471805599453,-0.5108256237659907,-0.35667494393873245,-0.22314355131420968,-0.10536051565782628,0.0,0.09531017980432495,0.1823215567939546,0.26236426446749106,0.33647223662121284,0.4054651081081644],\"y\":[-0.056289122421536976,-0.044216371513981674,-0.03228764771142165,-0.02049953898836511,-0.0088487102843002,0.0,1.653664930372457e-07,6.269613986833716e-08,4.86706767479324e-08,3.697259607845521e-08,3.406221024957132e-08]},{\"line\":{\"color\":\"rgba(0, 128, 128, 0.8999999999999999)\",\"dash\":\"solid\",\"shape\":\"linear\",\"width\":1.3},\"mode\":\"lines\",\"name\":\"bartlett pear\",\"text\":\"\",\"type\":\"scatter\",\"x\":[-0.6931471805599453,-0.5108256237659907,-0.35667494393873245,-0.22314355131420968,-0.10536051565782628,0.0,0.09531017980432495,0.1823215567939546,0.26236426446749106,0.33647223662121284,0.4054651081081644],\"y\":[-0.00805154583890604,3.7571346027268293e-10,1.5752605873969384e-09,3.425060235370445e-11,1.9255264049703483e-11,0.0,-6.571854171987746e-12,-9.528378086588338e-12,-1.111866154707783e-11,-1.2096768031783946e-11,-1.2745693389685412e-11]}],                        {\"legend\":{\"bgcolor\":\"#F5F6F9\",\"font\":{\"color\":\"#4D5663\"}},\"paper_bgcolor\":\"#F5F6F9\",\"plot_bgcolor\":\"#F5F6F9\",\"template\":{\"data\":{\"bar\":[{\"error_x\":{\"color\":\"#2a3f5f\"},\"error_y\":{\"color\":\"#2a3f5f\"},\"marker\":{\"line\":{\"color\":\"#E5ECF6\",\"width\":0.5},\"pattern\":{\"fillmode\":\"overlay\",\"size\":10,\"solidity\":0.2}},\"type\":\"bar\"}],\"barpolar\":[{\"marker\":{\"line\":{\"color\":\"#E5ECF6\",\"width\":0.5},\"pattern\":{\"fillmode\":\"overlay\",\"size\":10,\"solidity\":0.2}},\"type\":\"barpolar\"}],\"carpet\":[{\"aaxis\":{\"endlinecolor\":\"#2a3f5f\",\"gridcolor\":\"white\",\"linecolor\":\"white\",\"minorgridcolor\":\"white\",\"startlinecolor\":\"#2a3f5f\"},\"baxis\":{\"endlinecolor\":\"#2a3f5f\",\"gridcolor\":\"white\",\"linecolor\":\"white\",\"minorgridcolor\":\"white\",\"startlinecolor\":\"#2a3f5f\"},\"type\":\"carpet\"}],\"choropleth\":[{\"colorbar\":{\"outlinewidth\":0,\"ticks\":\"\"},\"type\":\"choropleth\"}],\"contour\":[{\"colorbar\":{\"outlinewidth\":0,\"ticks\":\"\"},\"colorscale\":[[0.0,\"#0d0887\"],[0.1111111111111111,\"#46039f\"],[0.2222222222222222,\"#7201a8\"],[0.3333333333333333,\"#9c179e\"],[0.4444444444444444,\"#bd3786\"],[0.5555555555555556,\"#d8576b\"],[0.6666666666666666,\"#ed7953\"],[0.7777777777777778,\"#fb9f3a\"],[0.8888888888888888,\"#fdca26\"],[1.0,\"#f0f921\"]],\"type\":\"contour\"}],\"contourcarpet\":[{\"colorbar\":{\"outlinewidth\":0,\"ticks\":\"\"},\"type\":\"contourcarpet\"}],\"heatmap\":[{\"colorbar\":{\"outlinewidth\":0,\"ticks\":\"\"},\"colorscale\":[[0.0,\"#0d0887\"],[0.1111111111111111,\"#46039f\"],[0.2222222222222222,\"#7201a8\"],[0.3333333333333333,\"#9c179e\"],[0.4444444444444444,\"#bd3786\"],[0.5555555555555556,\"#d8576b\"],[0.6666666666666666,\"#ed7953\"],[0.7777777777777778,\"#fb9f3a\"],[0.8888888888888888,\"#fdca26\"],[1.0,\"#f0f921\"]],\"type\":\"heatmap\"}],\"heatmapgl\":[{\"colorbar\":{\"outlinewidth\":0,\"ticks\":\"\"},\"colorscale\":[[0.0,\"#0d0887\"],[0.1111111111111111,\"#46039f\"],[0.2222222222222222,\"#7201a8\"],[0.3333333333333333,\"#9c179e\"],[0.4444444444444444,\"#bd3786\"],[0.5555555555555556,\"#d8576b\"],[0.6666666666666666,\"#ed7953\"],[0.7777777777777778,\"#fb9f3a\"],[0.8888888888888888,\"#fdca26\"],[1.0,\"#f0f921\"]],\"type\":\"heatmapgl\"}],\"histogram\":[{\"marker\":{\"pattern\":{\"fillmode\":\"overlay\",\"size\":10,\"solidity\":0.2}},\"type\":\"histogram\"}],\"histogram2d\":[{\"colorbar\":{\"outlinewidth\":0,\"ticks\":\"\"},\"colorscale\":[[0.0,\"#0d0887\"],[0.1111111111111111,\"#46039f\"],[0.2222222222222222,\"#7201a8\"],[0.3333333333333333,\"#9c179e\"],[0.4444444444444444,\"#bd3786\"],[0.5555555555555556,\"#d8576b\"],[0.6666666666666666,\"#ed7953\"],[0.7777777777777778,\"#fb9f3a\"],[0.8888888888888888,\"#fdca26\"],[1.0,\"#f0f921\"]],\"type\":\"histogram2d\"}],\"histogram2dcontour\":[{\"colorbar\":{\"outlinewidth\":0,\"ticks\":\"\"},\"colorscale\":[[0.0,\"#0d0887\"],[0.1111111111111111,\"#46039f\"],[0.2222222222222222,\"#7201a8\"],[0.3333333333333333,\"#9c179e\"],[0.4444444444444444,\"#bd3786\"],[0.5555555555555556,\"#d8576b\"],[0.6666666666666666,\"#ed7953\"],[0.7777777777777778,\"#fb9f3a\"],[0.8888888888888888,\"#fdca26\"],[1.0,\"#f0f921\"]],\"type\":\"histogram2dcontour\"}],\"mesh3d\":[{\"colorbar\":{\"outlinewidth\":0,\"ticks\":\"\"},\"type\":\"mesh3d\"}],\"parcoords\":[{\"line\":{\"colorbar\":{\"outlinewidth\":0,\"ticks\":\"\"}},\"type\":\"parcoords\"}],\"pie\":[{\"automargin\":true,\"type\":\"pie\"}],\"scatter\":[{\"marker\":{\"colorbar\":{\"outlinewidth\":0,\"ticks\":\"\"}},\"type\":\"scatter\"}],\"scatter3d\":[{\"line\":{\"colorbar\":{\"outlinewidth\":0,\"ticks\":\"\"}},\"marker\":{\"colorbar\":{\"outlinewidth\":0,\"ticks\":\"\"}},\"type\":\"scatter3d\"}],\"scattercarpet\":[{\"marker\":{\"colorbar\":{\"outlinewidth\":0,\"ticks\":\"\"}},\"type\":\"scattercarpet\"}],\"scattergeo\":[{\"marker\":{\"colorbar\":{\"outlinewidth\":0,\"ticks\":\"\"}},\"type\":\"scattergeo\"}],\"scattergl\":[{\"marker\":{\"colorbar\":{\"outlinewidth\":0,\"ticks\":\"\"}},\"type\":\"scattergl\"}],\"scattermapbox\":[{\"marker\":{\"colorbar\":{\"outlinewidth\":0,\"ticks\":\"\"}},\"type\":\"scattermapbox\"}],\"scatterpolar\":[{\"marker\":{\"colorbar\":{\"outlinewidth\":0,\"ticks\":\"\"}},\"type\":\"scatterpolar\"}],\"scatterpolargl\":[{\"marker\":{\"colorbar\":{\"outlinewidth\":0,\"ticks\":\"\"}},\"type\":\"scatterpolargl\"}],\"scatterternary\":[{\"marker\":{\"colorbar\":{\"outlinewidth\":0,\"ticks\":\"\"}},\"type\":\"scatterternary\"}],\"surface\":[{\"colorbar\":{\"outlinewidth\":0,\"ticks\":\"\"},\"colorscale\":[[0.0,\"#0d0887\"],[0.1111111111111111,\"#46039f\"],[0.2222222222222222,\"#7201a8\"],[0.3333333333333333,\"#9c179e\"],[0.4444444444444444,\"#bd3786\"],[0.5555555555555556,\"#d8576b\"],[0.6666666666666666,\"#ed7953\"],[0.7777777777777778,\"#fb9f3a\"],[0.8888888888888888,\"#fdca26\"],[1.0,\"#f0f921\"]],\"type\":\"surface\"}],\"table\":[{\"cells\":{\"fill\":{\"color\":\"#EBF0F8\"},\"line\":{\"color\":\"white\"}},\"header\":{\"fill\":{\"color\":\"#C8D4E3\"},\"line\":{\"color\":\"white\"}},\"type\":\"table\"}]},\"layout\":{\"annotationdefaults\":{\"arrowcolor\":\"#2a3f5f\",\"arrowhead\":0,\"arrowwidth\":1},\"autotypenumbers\":\"strict\",\"coloraxis\":{\"colorbar\":{\"outlinewidth\":0,\"ticks\":\"\"}},\"colorscale\":{\"diverging\":[[0,\"#8e0152\"],[0.1,\"#c51b7d\"],[0.2,\"#de77ae\"],[0.3,\"#f1b6da\"],[0.4,\"#fde0ef\"],[0.5,\"#f7f7f7\"],[0.6,\"#e6f5d0\"],[0.7,\"#b8e186\"],[0.8,\"#7fbc41\"],[0.9,\"#4d9221\"],[1,\"#276419\"]],\"sequential\":[[0.0,\"#0d0887\"],[0.1111111111111111,\"#46039f\"],[0.2222222222222222,\"#7201a8\"],[0.3333333333333333,\"#9c179e\"],[0.4444444444444444,\"#bd3786\"],[0.5555555555555556,\"#d8576b\"],[0.6666666666666666,\"#ed7953\"],[0.7777777777777778,\"#fb9f3a\"],[0.8888888888888888,\"#fdca26\"],[1.0,\"#f0f921\"]],\"sequentialminus\":[[0.0,\"#0d0887\"],[0.1111111111111111,\"#46039f\"],[0.2222222222222222,\"#7201a8\"],[0.3333333333333333,\"#9c179e\"],[0.4444444444444444,\"#bd3786\"],[0.5555555555555556,\"#d8576b\"],[0.6666666666666666,\"#ed7953\"],[0.7777777777777778,\"#fb9f3a\"],[0.8888888888888888,\"#fdca26\"],[1.0,\"#f0f921\"]]},\"colorway\":[\"#636efa\",\"#EF553B\",\"#00cc96\",\"#ab63fa\",\"#FFA15A\",\"#19d3f3\",\"#FF6692\",\"#B6E880\",\"#FF97FF\",\"#FECB52\"],\"font\":{\"color\":\"#2a3f5f\"},\"geo\":{\"bgcolor\":\"white\",\"lakecolor\":\"white\",\"landcolor\":\"#E5ECF6\",\"showlakes\":true,\"showland\":true,\"subunitcolor\":\"white\"},\"hoverlabel\":{\"align\":\"left\"},\"hovermode\":\"closest\",\"mapbox\":{\"style\":\"light\"},\"paper_bgcolor\":\"white\",\"plot_bgcolor\":\"#E5ECF6\",\"polar\":{\"angularaxis\":{\"gridcolor\":\"white\",\"linecolor\":\"white\",\"ticks\":\"\"},\"bgcolor\":\"#E5ECF6\",\"radialaxis\":{\"gridcolor\":\"white\",\"linecolor\":\"white\",\"ticks\":\"\"}},\"scene\":{\"xaxis\":{\"backgroundcolor\":\"#E5ECF6\",\"gridcolor\":\"white\",\"gridwidth\":2,\"linecolor\":\"white\",\"showbackground\":true,\"ticks\":\"\",\"zerolinecolor\":\"white\"},\"yaxis\":{\"backgroundcolor\":\"#E5ECF6\",\"gridcolor\":\"white\",\"gridwidth\":2,\"linecolor\":\"white\",\"showbackground\":true,\"ticks\":\"\",\"zerolinecolor\":\"white\"},\"zaxis\":{\"backgroundcolor\":\"#E5ECF6\",\"gridcolor\":\"white\",\"gridwidth\":2,\"linecolor\":\"white\",\"showbackground\":true,\"ticks\":\"\",\"zerolinecolor\":\"white\"}},\"shapedefaults\":{\"line\":{\"color\":\"#2a3f5f\"}},\"ternary\":{\"aaxis\":{\"gridcolor\":\"white\",\"linecolor\":\"white\",\"ticks\":\"\"},\"baxis\":{\"gridcolor\":\"white\",\"linecolor\":\"white\",\"ticks\":\"\"},\"bgcolor\":\"#E5ECF6\",\"caxis\":{\"gridcolor\":\"white\",\"linecolor\":\"white\",\"ticks\":\"\"}},\"title\":{\"x\":0.05},\"xaxis\":{\"automargin\":true,\"gridcolor\":\"white\",\"linecolor\":\"white\",\"ticks\":\"\",\"title\":{\"standoff\":15},\"zerolinecolor\":\"white\",\"zerolinewidth\":2},\"yaxis\":{\"automargin\":true,\"gridcolor\":\"white\",\"linecolor\":\"white\",\"ticks\":\"\",\"title\":{\"standoff\":15},\"zerolinecolor\":\"white\",\"zerolinewidth\":2}}},\"title\":{\"font\":{\"color\":\"#4D5663\"}},\"xaxis\":{\"gridcolor\":\"#E1E5ED\",\"showgrid\":true,\"tickfont\":{\"color\":\"#4D5663\"},\"title\":{\"font\":{\"color\":\"#4D5663\"},\"text\":\"change in log price\"},\"zerolinecolor\":\"#E1E5ED\"},\"yaxis\":{\"gridcolor\":\"#E1E5ED\",\"showgrid\":true,\"tickfont\":{\"color\":\"#4D5663\"},\"title\":{\"font\":{\"color\":\"#4D5663\"},\"text\":\"change in log cost\"},\"zerolinecolor\":\"#E1E5ED\"}},                        {\"showLink\": true, \"linkText\": \"Export to plot.ly\", \"plotlyServerURL\": \"https://plot.ly\", \"responsive\": true}                    ).then(function(){\n",
       "                            \n",
       "var gd = document.getElementById('cabc8d13-1712-4fba-b75b-8e6fe55d8c91');\n",
       "var x = new MutationObserver(function (mutations, observer) {{\n",
       "        var display = window.getComputedStyle(gd).display;\n",
       "        if (!display || display === 'none') {{\n",
       "            console.log([gd, 'removed!']);\n",
       "            Plotly.purge(gd);\n",
       "            observer.disconnect();\n",
       "        }}\n",
       "}});\n",
       "\n",
       "// Listen for the removal of the full notebook cells\n",
       "var notebookContainer = gd.closest('#notebook-container');\n",
       "if (notebookContainer) {{\n",
       "    x.observe(notebookContainer, {childList: true});\n",
       "}}\n",
       "\n",
       "// Listen for the clearing of the current output cell\n",
       "var outputEl = gd.closest('.output');\n",
       "if (outputEl) {{\n",
       "    x.observe(outputEl, {childList: true});\n",
       "}}\n",
       "\n",
       "                        })                };                });            </script>        </div>"
      ]
     },
     "metadata": {},
     "output_type": "display_data"
    }
   ],
   "source": [
    "import cufflinks as cf\n",
    "cf.go_offline()\n",
    "\n",
    "scale = [.5,.6,.7,.8,.9,1.,1.1,1.2,1.3,1.4,1.5]\n",
    "\n",
    "cost0 = solve_subsistence_problem(FoodNutrients,Prices,diet_min,diet_max,tol=tol).fun\n",
    "\n",
    "Price_response={}\n",
    "for s in scale:\n",
    "    cost = {}\n",
    "    for i,p in enumerate(Prices):\n",
    "        my_p = Prices.copy()\n",
    "        my_p[i] = p*s\n",
    "        result = solve_subsistence_problem(FoodNutrients,my_p,diet_min,diet_max,tol=tol)\n",
    "        cost[Prices.index[i]] = np.log(result.fun/cost0)\n",
    "    Price_response[np.log(s)] = cost\n",
    "\n",
    "Price_response = pd.DataFrame(Price_response).T\n",
    "Price_response.iplot(xTitle='change in log price',yTitle='change in log cost')"
   ]
  },
  {
   "cell_type": "code",
   "execution_count": null,
   "id": "4a3975f1",
   "metadata": {},
   "outputs": [],
   "source": [
    "# test comment"
   ]
  }
 ],
 "metadata": {
  "kernelspec": {
   "display_name": "Python 3 (ipykernel)",
   "language": "python",
   "name": "python3"
  },
  "language_info": {
   "codemirror_mode": {
    "name": "ipython",
    "version": 3
   },
   "file_extension": ".py",
   "mimetype": "text/x-python",
   "name": "python",
   "nbconvert_exporter": "python",
   "pygments_lexer": "ipython3",
   "version": "3.9.15"
  }
 },
 "nbformat": 4,
 "nbformat_minor": 5
}
