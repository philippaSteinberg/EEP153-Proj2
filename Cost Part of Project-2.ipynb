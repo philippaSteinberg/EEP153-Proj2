{
 "cells": [
  {
   "cell_type": "markdown",
   "metadata": {},
   "source": [
    "## Data On Prices for different foods\n"
   ]
  },
  {
   "cell_type": "markdown",
   "metadata": {},
   "source": [
    "After we set up the \"typical\" lunch for our target population, we want to know the exact cost for population of interest. So we go to the local market to see the real price."
   ]
  },
  {
   "cell_type": "markdown",
   "metadata": {},
   "source": [
    "### install our tools and resources\n",
    "\n"
   ]
  },
  {
   "cell_type": "code",
   "execution_count": 11,
   "metadata": {},
   "outputs": [
    {
     "name": "stdout",
     "output_type": "stream",
     "text": [
      "Requirement already satisfied: pint>=0.18 in /opt/conda/lib/python3.9/site-packages (from -r requirements.txt (line 3)) (0.20.1)\n",
      "Requirement already satisfied: requests>=2.26.0 in /opt/conda/lib/python3.9/site-packages (from -r requirements.txt (line 6)) (2.26.0)\n",
      "Requirement already satisfied: python-gnupg in /opt/conda/lib/python3.9/site-packages (from -r requirements.txt (line 8)) (0.5.0)\n",
      "Requirement already satisfied: eep153_tools in /opt/conda/lib/python3.9/site-packages (from -r requirements.txt (line 10)) (0.11)\n",
      "Requirement already satisfied: fooddatacentral in /opt/conda/lib/python3.9/site-packages (from -r requirements.txt (line 12)) (1.0.9)\n",
      "Requirement already satisfied: charset-normalizer~=2.0.0 in /opt/conda/lib/python3.9/site-packages (from requests>=2.26.0->-r requirements.txt (line 6)) (2.0.0)\n",
      "Requirement already satisfied: urllib3<1.27,>=1.21.1 in /opt/conda/lib/python3.9/site-packages (from requests>=2.26.0->-r requirements.txt (line 6)) (1.26.7)\n",
      "Requirement already satisfied: idna<4,>=2.5 in /opt/conda/lib/python3.9/site-packages (from requests>=2.26.0->-r requirements.txt (line 6)) (3.1)\n",
      "Requirement already satisfied: certifi>=2017.4.17 in /opt/conda/lib/python3.9/site-packages (from requests>=2.26.0->-r requirements.txt (line 6)) (2021.10.8)\n",
      "Note: you may need to restart the kernel to use updated packages.\n"
     ]
    }
   ],
   "source": [
    "%pip install -r requirements.txt\n",
    "apikey = \"bShyCnUYYfY6eP3qyUt6VGY1MqEQklrOeuwPUps5\""
   ]
  },
  {
   "cell_type": "markdown",
   "metadata": {},
   "source": [
    "## Prices from local markets\n",
    "\n"
   ]
  },
  {
   "cell_type": "markdown",
   "metadata": {},
   "source": [
    "We went to three different markets to find the lowest price around local area. \n",
    "Here is our spreadsheet: https://docs.google.com/spreadsheets/d/1Ml9KIH_HLl64Y8zTldoghUu5ZhTY7IXanN77itVAxRM/edit#gid=0"
   ]
  },
  {
   "cell_type": "code",
   "execution_count": 12,
   "metadata": {
    "scrolled": true
   },
   "outputs": [
    {
     "name": "stdout",
     "output_type": "stream",
     "text": [
      "Key available for students@eep153.iam.gserviceaccount.com.\n"
     ]
    },
    {
     "data": {
      "text/html": [
       "<div>\n",
       "<style scoped>\n",
       "    .dataframe tbody tr th:only-of-type {\n",
       "        vertical-align: middle;\n",
       "    }\n",
       "\n",
       "    .dataframe tbody tr th {\n",
       "        vertical-align: top;\n",
       "    }\n",
       "\n",
       "    .dataframe thead th {\n",
       "        text-align: right;\n",
       "    }\n",
       "</style>\n",
       "<table border=\"1\" class=\"dataframe\">\n",
       "  <thead>\n",
       "    <tr style=\"text-align: right;\">\n",
       "      <th></th>\n",
       "      <th>Quantity</th>\n",
       "      <th>Units</th>\n",
       "      <th>Price</th>\n",
       "      <th>Date</th>\n",
       "      <th>Location</th>\n",
       "      <th>FDC</th>\n",
       "    </tr>\n",
       "    <tr>\n",
       "      <th>Food</th>\n",
       "      <th></th>\n",
       "      <th></th>\n",
       "      <th></th>\n",
       "      <th></th>\n",
       "      <th></th>\n",
       "      <th></th>\n",
       "    </tr>\n",
       "  </thead>\n",
       "  <tbody>\n",
       "    <tr>\n",
       "      <th>Bread</th>\n",
       "      <td>100</td>\n",
       "      <td>g</td>\n",
       "      <td>1.33</td>\n",
       "      <td>2023/02/28</td>\n",
       "      <td>MI Ranchito Bayside Market</td>\n",
       "      <td>2431121</td>\n",
       "    </tr>\n",
       "    <tr>\n",
       "      <th>Cheese</th>\n",
       "      <td>8</td>\n",
       "      <td>oz</td>\n",
       "      <td>3.49</td>\n",
       "      <td>2023/02/27</td>\n",
       "      <td>Trader Joe's</td>\n",
       "      <td>2383425</td>\n",
       "    </tr>\n",
       "    <tr>\n",
       "      <th>Ground Beef</th>\n",
       "      <td>16</td>\n",
       "      <td>oz</td>\n",
       "      <td>4.99</td>\n",
       "      <td>2023/02/27</td>\n",
       "      <td>Trader Joe's</td>\n",
       "      <td>1662368</td>\n",
       "    </tr>\n",
       "    <tr>\n",
       "      <th>cheese burger</th>\n",
       "      <td>1</td>\n",
       "      <td>cheese burger</td>\n",
       "      <td>3.01</td>\n",
       "      <td>2023/02/27</td>\n",
       "      <td>Trader Joe's</td>\n",
       "      <td>2022263</td>\n",
       "    </tr>\n",
       "    <tr>\n",
       "      <th>1% fat milk</th>\n",
       "      <td>1</td>\n",
       "      <td>gallon</td>\n",
       "      <td>4.39</td>\n",
       "      <td>2023/02/27</td>\n",
       "      <td>Trader Joe's</td>\n",
       "      <td>2340764</td>\n",
       "    </tr>\n",
       "    <tr>\n",
       "      <th>red apple</th>\n",
       "      <td>1</td>\n",
       "      <td>pound</td>\n",
       "      <td>0.99</td>\n",
       "      <td>2023/02/28</td>\n",
       "      <td>MI Ranchito Bayside Market</td>\n",
       "      <td>1750339</td>\n",
       "    </tr>\n",
       "    <tr>\n",
       "      <th>edamame</th>\n",
       "      <td>1</td>\n",
       "      <td>pound</td>\n",
       "      <td>1.89</td>\n",
       "      <td>2023/02/28</td>\n",
       "      <td>MI Ranchito Bayside Market</td>\n",
       "      <td>2384458</td>\n",
       "    </tr>\n",
       "    <tr>\n",
       "      <th>mini carrot</th>\n",
       "      <td>1</td>\n",
       "      <td>pound</td>\n",
       "      <td>1.49</td>\n",
       "      <td>2023/02/28</td>\n",
       "      <td>Target</td>\n",
       "      <td>2345173</td>\n",
       "    </tr>\n",
       "    <tr>\n",
       "      <th>mandarin</th>\n",
       "      <td>2</td>\n",
       "      <td>pound</td>\n",
       "      <td>3.99</td>\n",
       "      <td>2023/02/27</td>\n",
       "      <td>Trader Joe's</td>\n",
       "      <td>169105</td>\n",
       "    </tr>\n",
       "    <tr>\n",
       "      <th>cauliflower</th>\n",
       "      <td>2</td>\n",
       "      <td>pound</td>\n",
       "      <td>2.99</td>\n",
       "      <td>2023/02/27</td>\n",
       "      <td>Trader Joe's</td>\n",
       "      <td>2409200</td>\n",
       "    </tr>\n",
       "    <tr>\n",
       "      <th>celery stick</th>\n",
       "      <td>1</td>\n",
       "      <td>oz</td>\n",
       "      <td>0.27</td>\n",
       "      <td>2023/03/03</td>\n",
       "      <td>Amazon Fresh</td>\n",
       "      <td>2345298</td>\n",
       "    </tr>\n",
       "    <tr>\n",
       "      <th>bosc pear</th>\n",
       "      <td>1</td>\n",
       "      <td>pound</td>\n",
       "      <td>1.49</td>\n",
       "      <td>2023/02/28</td>\n",
       "      <td>MI Ranchito Bayside Market</td>\n",
       "      <td>1662757</td>\n",
       "    </tr>\n",
       "    <tr>\n",
       "      <th>orange</th>\n",
       "      <td>4</td>\n",
       "      <td>pound</td>\n",
       "      <td>4.99</td>\n",
       "      <td>2023/02/27</td>\n",
       "      <td>Trader Joe's</td>\n",
       "      <td>1864680</td>\n",
       "    </tr>\n",
       "    <tr>\n",
       "      <th>jicama stick</th>\n",
       "      <td>1</td>\n",
       "      <td>pound</td>\n",
       "      <td>3.94</td>\n",
       "      <td>2023/03/03</td>\n",
       "      <td>Amazon Fresh</td>\n",
       "      <td>2345307</td>\n",
       "    </tr>\n",
       "    <tr>\n",
       "      <th>spinach</th>\n",
       "      <td>1</td>\n",
       "      <td>oz</td>\n",
       "      <td>0.50</td>\n",
       "      <td>2023/03/03</td>\n",
       "      <td>Amazon Fresh</td>\n",
       "      <td>721056</td>\n",
       "    </tr>\n",
       "    <tr>\n",
       "      <th>kiwi</th>\n",
       "      <td>1</td>\n",
       "      <td>pound</td>\n",
       "      <td>1.99</td>\n",
       "      <td>2023/02/28</td>\n",
       "      <td>MI Ranchito Bayside Market</td>\n",
       "      <td>1898469</td>\n",
       "    </tr>\n",
       "    <tr>\n",
       "      <th>bartlett pear</th>\n",
       "      <td>1</td>\n",
       "      <td>pound</td>\n",
       "      <td>1.69</td>\n",
       "      <td>2023/03/03</td>\n",
       "      <td>Amazon Fresh</td>\n",
       "      <td>746773</td>\n",
       "    </tr>\n",
       "  </tbody>\n",
       "</table>\n",
       "</div>"
      ],
      "text/plain": [
       "                Quantity           Units  Price        Date  \\\n",
       "Food                                                          \n",
       "Bread                100               g   1.33  2023/02/28   \n",
       "Cheese                 8              oz   3.49  2023/02/27   \n",
       "Ground Beef           16              oz   4.99  2023/02/27   \n",
       "cheese burger          1  cheese burger    3.01  2023/02/27   \n",
       "1% fat milk            1          gallon   4.39  2023/02/27   \n",
       "red apple              1           pound   0.99  2023/02/28   \n",
       "edamame                1           pound   1.89  2023/02/28   \n",
       "mini carrot            1           pound   1.49  2023/02/28   \n",
       "mandarin               2           pound   3.99  2023/02/27   \n",
       "cauliflower            2           pound   2.99  2023/02/27   \n",
       "celery stick           1              oz   0.27  2023/03/03   \n",
       "bosc pear              1           pound   1.49  2023/02/28   \n",
       "orange                 4           pound   4.99  2023/02/27   \n",
       "jicama stick           1           pound   3.94  2023/03/03   \n",
       "spinach                1              oz   0.50  2023/03/03   \n",
       "kiwi                   1           pound   1.99  2023/02/28   \n",
       "bartlett pear          1           pound   1.69  2023/03/03   \n",
       "\n",
       "                                  Location      FDC  \n",
       "Food                                                 \n",
       "Bread           MI Ranchito Bayside Market  2431121  \n",
       "Cheese                        Trader Joe's  2383425  \n",
       "Ground Beef                   Trader Joe's  1662368  \n",
       "cheese burger                Trader Joe's   2022263  \n",
       "1% fat milk                   Trader Joe's  2340764  \n",
       "red apple       MI Ranchito Bayside Market  1750339  \n",
       "edamame         MI Ranchito Bayside Market  2384458  \n",
       "mini carrot                         Target  2345173  \n",
       "mandarin                      Trader Joe's   169105  \n",
       "cauliflower                   Trader Joe's  2409200  \n",
       "celery stick                 Amazon Fresh   2345298  \n",
       "bosc pear       MI Ranchito Bayside Market  1662757  \n",
       "orange                        Trader Joe's  1864680  \n",
       "jicama stick                 Amazon Fresh   2345307  \n",
       "spinach                      Amazon Fresh    721056  \n",
       "kiwi            MI Ranchito Bayside Market  1898469  \n",
       "bartlett pear                Amazon Fresh    746773  "
      ]
     },
     "execution_count": 12,
     "metadata": {},
     "output_type": "execute_result"
    }
   ],
   "source": [
    "import pandas as pd\n",
    "from eep153_tools.sheets import read_sheets\n",
    "\n",
    "# cost part sheet\n",
    "df_cost = read_sheets(\"https://docs.google.com/spreadsheets/d/16mBZiYIfJG0HUg9hei7Yh8On3unVLqzbAl3WUHmfbWg/edit#gid=0\",\n",
    "                 sheet='Cost')\n",
    "\n",
    "df_cost = df_cost.set_index('Food')\n",
    "\n",
    "df_cost"
   ]
  },
  {
   "cell_type": "markdown",
   "metadata": {},
   "source": [
    "### Now we need to fit those prices into our \"Typical\" lunch for kids. "
   ]
  },
  {
   "cell_type": "markdown",
   "metadata": {},
   "source": [
    "For our \"typical\" lunch, we consider they will get one cheese burger (with 100 g bread,1 oz cheese and 4 oz ground beef), 0.05 gallon (200ml) 1% fat milk, 50 g mini carrot and one red apple with 0.3 pounds (One pound of apples is about three medium-sized apples) as the one sandard lunch."
   ]
  },
  {
   "cell_type": "code",
   "execution_count": 13,
   "metadata": {},
   "outputs": [
    {
     "name": "stdout",
     "output_type": "stream",
     "text": [
      "The total cost for a \"typical\" lunch is: 3.6904\n"
     ]
    }
   ],
   "source": [
    "# Define the quantities of each food item\n",
    "milk_qty = 0.05   # gallon\n",
    "carrot_qty = 0.11   # lb\n",
    "apple_qty = 0.3   # lb\n",
    "\n",
    "# Look up the prices of each food item in the DataFrame\n",
    "milk_price = df_cost.loc['1% fat milk']['Price']\n",
    "carrot_price = df_cost.loc['mini carrot']['Price']\n",
    "apple_price = df_cost.loc['red apple']['Price']\n",
    "cheese_burger_price = 3.01\n",
    "\n",
    "# Calculate the total cost of the three items\n",
    "total_cost = cheese_burger_price + (milk_qty * milk_price) + (carrot_qty * carrot_price) + (apple_qty * apple_price)\n",
    "\n",
    "print('The total cost for a \"typical\" lunch is:', total_cost)"
   ]
  },
  {
   "cell_type": "markdown",
   "metadata": {},
   "source": [
    "### Total cost for our target population for 45 Middle schoolers (10-14) (CDE)\n"
   ]
  },
  {
   "cell_type": "code",
   "execution_count": 14,
   "metadata": {},
   "outputs": [
    {
     "name": "stdout",
     "output_type": "stream",
     "text": [
      "The total cost for target population is: 907.8384\n"
     ]
    }
   ],
   "source": [
    "print('The total cost for target population is:', total_cost*246)"
   ]
  }
 ],
 "metadata": {
  "kernelspec": {
   "display_name": "Python 3 (ipykernel)",
   "language": "python",
   "name": "python3"
  },
  "language_info": {
   "codemirror_mode": {
    "name": "ipython",
    "version": 3
   },
   "file_extension": ".py",
   "mimetype": "text/x-python",
   "name": "python",
   "nbconvert_exporter": "python",
   "pygments_lexer": "ipython3",
   "version": "3.9.15"
  },
  "org": null
 },
 "nbformat": 4,
 "nbformat_minor": 4
}
