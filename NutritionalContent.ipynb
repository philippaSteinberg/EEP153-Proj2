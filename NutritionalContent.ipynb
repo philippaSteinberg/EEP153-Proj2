{
 "cells": [
  {
   "cell_type": "code",
   "execution_count": 1,
   "id": "6b2f4948",
   "metadata": {},
   "outputs": [],
   "source": [
    "api_lst = [\"9pWr4Z38nFyytVVF2LPQWJ5G3x5SrVO0Px3MbQOl\",\n",
    "           \"bShyCnUYYfY6eP3qyUt6VGY1MqEQklrOeuwPUps5\",\n",
    "           \"5EVJteEMrjnX73GRj4Q9qqB3NWqIObFujtP4fBGI\",\n",
    "           \"saSE5uqp940Hmw6imfc1FaCo6qFJS9dOH8RIjSJW\"\n",
    "          ]\n",
    "apikey = api_lst[0]"
   ]
  },
  {
   "cell_type": "code",
   "execution_count": 2,
   "id": "7c5a4c5b",
   "metadata": {},
   "outputs": [
    {
     "name": "stdout",
     "output_type": "stream",
     "text": [
      "\u001b[31mERROR: Could not open requirements file: [Errno 2] No such file or directory: 'requirements.txt'\u001b[0m\u001b[31m\n",
      "\u001b[0mNote: you may need to restart the kernel to use updated packages.\n"
     ]
    }
   ],
   "source": [
    "%pip install -r requirements.txt"
   ]
  },
  {
   "cell_type": "code",
   "execution_count": 3,
   "id": "9bd74e27",
   "metadata": {},
   "outputs": [
    {
     "ename": "ModuleNotFoundError",
     "evalue": "No module named 'fooddatacentral'",
     "output_type": "error",
     "traceback": [
      "\u001b[0;31m---------------------------------------------------------------------------\u001b[0m",
      "\u001b[0;31mModuleNotFoundError\u001b[0m                       Traceback (most recent call last)",
      "Cell \u001b[0;32mIn[3], line 1\u001b[0m\n\u001b[0;32m----> 1\u001b[0m \u001b[38;5;28;01mimport\u001b[39;00m \u001b[38;5;21;01mfooddatacentral\u001b[39;00m \u001b[38;5;28;01mas\u001b[39;00m \u001b[38;5;21;01mfdc\u001b[39;00m\n",
      "\u001b[0;31mModuleNotFoundError\u001b[0m: No module named 'fooddatacentral'"
     ]
    }
   ],
   "source": [
    "import fooddatacentral as fdc"
   ]
  },
  {
   "cell_type": "code",
   "execution_count": null,
   "id": "115a4287",
   "metadata": {},
   "outputs": [],
   "source": []
  }
 ],
 "metadata": {
  "kernelspec": {
   "display_name": "Python 3 (ipykernel)",
   "language": "python",
   "name": "python3"
  },
  "language_info": {
   "codemirror_mode": {
    "name": "ipython",
    "version": 3
   },
   "file_extension": ".py",
   "mimetype": "text/x-python",
   "name": "python",
   "nbconvert_exporter": "python",
   "pygments_lexer": "ipython3",
   "version": "3.9.15"
  }
 },
 "nbformat": 4,
 "nbformat_minor": 5
}
